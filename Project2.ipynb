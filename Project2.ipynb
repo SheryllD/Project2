{
 "cells": [
  {
   "cell_type": "code",
   "execution_count": 25,
   "id": "401a289d-34cb-4e86-836b-49afadacd42d",
   "metadata": {},
   "outputs": [
    {
     "data": {
      "text/html": [
       "<div>\n",
       "<style scoped>\n",
       "    .dataframe tbody tr th:only-of-type {\n",
       "        vertical-align: middle;\n",
       "    }\n",
       "\n",
       "    .dataframe tbody tr th {\n",
       "        vertical-align: top;\n",
       "    }\n",
       "\n",
       "    .dataframe thead th {\n",
       "        text-align: right;\n",
       "    }\n",
       "</style>\n",
       "<table border=\"1\" class=\"dataframe\">\n",
       "  <thead>\n",
       "    <tr style=\"text-align: right;\">\n",
       "      <th></th>\n",
       "      <th>client_id,visitor_id,visit_id,process_step,date_time</th>\n",
       "    </tr>\n",
       "  </thead>\n",
       "  <tbody>\n",
       "    <tr>\n",
       "      <th>0</th>\n",
       "      <td>9988021,580560515_7732621733,781255054_2193545...</td>\n",
       "    </tr>\n",
       "    <tr>\n",
       "      <th>1</th>\n",
       "      <td>9988021,580560515_7732621733,781255054_2193545...</td>\n",
       "    </tr>\n",
       "    <tr>\n",
       "      <th>2</th>\n",
       "      <td>9988021,580560515_7732621733,781255054_2193545...</td>\n",
       "    </tr>\n",
       "    <tr>\n",
       "      <th>3</th>\n",
       "      <td>9988021,580560515_7732621733,781255054_2193545...</td>\n",
       "    </tr>\n",
       "    <tr>\n",
       "      <th>4</th>\n",
       "      <td>9988021,580560515_7732621733,781255054_2193545...</td>\n",
       "    </tr>\n",
       "    <tr>\n",
       "      <th>...</th>\n",
       "      <td>...</td>\n",
       "    </tr>\n",
       "    <tr>\n",
       "      <th>343136</th>\n",
       "      <td>2443347,465784886_73090545671,136329900_105296...</td>\n",
       "    </tr>\n",
       "    <tr>\n",
       "      <th>343137</th>\n",
       "      <td>2443347,465784886_73090545671,136329900_105296...</td>\n",
       "    </tr>\n",
       "    <tr>\n",
       "      <th>343138</th>\n",
       "      <td>2443347,465784886_73090545671,136329900_105296...</td>\n",
       "    </tr>\n",
       "    <tr>\n",
       "      <th>343139</th>\n",
       "      <td>2443347,465784886_73090545671,136329900_105296...</td>\n",
       "    </tr>\n",
       "    <tr>\n",
       "      <th>343140</th>\n",
       "      <td>2443347,465784886_73090545671,136329900_105296...</td>\n",
       "    </tr>\n",
       "  </tbody>\n",
       "</table>\n",
       "<p>343141 rows × 1 columns</p>\n",
       "</div>"
      ],
      "text/plain": [
       "       client_id,visitor_id,visit_id,process_step,date_time\n",
       "0       9988021,580560515_7732621733,781255054_2193545...  \n",
       "1       9988021,580560515_7732621733,781255054_2193545...  \n",
       "2       9988021,580560515_7732621733,781255054_2193545...  \n",
       "3       9988021,580560515_7732621733,781255054_2193545...  \n",
       "4       9988021,580560515_7732621733,781255054_2193545...  \n",
       "...                                                   ...  \n",
       "343136  2443347,465784886_73090545671,136329900_105296...  \n",
       "343137  2443347,465784886_73090545671,136329900_105296...  \n",
       "343138  2443347,465784886_73090545671,136329900_105296...  \n",
       "343139  2443347,465784886_73090545671,136329900_105296...  \n",
       "343140  2443347,465784886_73090545671,136329900_105296...  \n",
       "\n",
       "[343141 rows x 1 columns]"
      ]
     },
     "execution_count": 25,
     "metadata": {},
     "output_type": "execute_result"
    }
   ],
   "source": [
    "import numpy as np\n",
    "import pandas as pd\n",
    "\n",
    "file_path = r\"C:\\Users\\npdan\\IH_LABS/Project2/Datasets/Datasets_raw/df_final_web_data_pt_1.csv\"\n",
    "df = pd.read_csv(file_path)\n",
    "df\n",
    "\n",
    "#results : 343141 rows × 1 columns"
   ]
  },
  {
   "cell_type": "code",
   "execution_count": 29,
   "id": "a70337ef-5ac5-42f7-8b0c-705697f5ceb7",
   "metadata": {},
   "outputs": [
    {
     "name": "stdout",
     "output_type": "stream",
     "text": [
      "  client_id,visitor_id,visit_id,process_step,date_time\n",
      "0  9988021,580560515_7732621733,781255054_2193545...  \n",
      "1  9988021,580560515_7732621733,781255054_2193545...  \n",
      "2  9988021,580560515_7732621733,781255054_2193545...  \n",
      "3  9988021,580560515_7732621733,781255054_2193545...  \n",
      "4  9988021,580560515_7732621733,781255054_2193545...  \n",
      "(343141, 1)\n"
     ]
    }
   ],
   "source": [
    "print(df.head())\n",
    "print(df.shape)"
   ]
  },
  {
   "cell_type": "code",
   "execution_count": 33,
   "id": "3fb13365-f2ed-466e-8b1d-3769dfe6c257",
   "metadata": {},
   "outputs": [],
   "source": [
    "# Make sure we're working with the first column\n",
    "df_split = df.iloc[:, 0].str.split(',', expand=True)\n",
    "df_split.columns = ['client_id', 'visitor_id', 'visit_id', 'process_step', 'date_time']"
   ]
  },
  {
   "cell_type": "code",
   "execution_count": 35,
   "id": "95fed64a-b5b2-48e8-b059-4c47eab91134",
   "metadata": {},
   "outputs": [
    {
     "name": "stdout",
     "output_type": "stream",
     "text": [
      "  client_id            visitor_id                      visit_id process_step  \\\n",
      "0   9988021  580560515_7732621733  781255054_21935453173_531117       step_3   \n",
      "1   9988021  580560515_7732621733  781255054_21935453173_531117       step_2   \n",
      "2   9988021  580560515_7732621733  781255054_21935453173_531117       step_3   \n",
      "3   9988021  580560515_7732621733  781255054_21935453173_531117       step_2   \n",
      "4   9988021  580560515_7732621733  781255054_21935453173_531117       step_3   \n",
      "\n",
      "             date_time  \n",
      "0  2017-04-17 15:27:07  \n",
      "1  2017-04-17 15:26:51  \n",
      "2  2017-04-17 15:19:22  \n",
      "3  2017-04-17 15:19:13  \n",
      "4  2017-04-17 15:18:04  \n",
      "(343141, 5)\n"
     ]
    }
   ],
   "source": [
    "print(df_split.head())\n",
    "print(df_split.shape)  # Should be (343141, 5)"
   ]
  },
  {
   "cell_type": "code",
   "execution_count": 37,
   "id": "62e1a3a0-819c-408f-9ac7-36b466a2839b",
   "metadata": {},
   "outputs": [
    {
     "name": "stdout",
     "output_type": "stream",
     "text": [
      "Index(['client_id,visitor_id,visit_id,process_step,date_time'], dtype='object')\n",
      "(343141, 1)\n"
     ]
    }
   ],
   "source": [
    "print(df.columns)\n",
    "print(df.shape)"
   ]
  },
  {
   "cell_type": "code",
   "execution_count": 39,
   "id": "4c731608-55ee-4229-b2ad-c07a853457eb",
   "metadata": {},
   "outputs": [
    {
     "name": "stdout",
     "output_type": "stream",
     "text": [
      "Index(['client_id', 'visitor_id', 'visit_id', 'process_step', 'date_time'], dtype='object')\n",
      "(343141, 5)\n"
     ]
    }
   ],
   "source": [
    "df = df_split\n",
    "print(df.columns)\n",
    "print(df.shape)"
   ]
  },
  {
   "cell_type": "code",
   "execution_count": 122,
   "id": "60c1908e-cca5-48af-a5a2-e8550ad10081",
   "metadata": {},
   "outputs": [],
   "source": [
    "#Save the cleaned file in csv :\n",
    "df.to_csv('df_final_web_data_pt_1_cleaned.csv', index=False)"
   ]
  },
  {
   "cell_type": "code",
   "execution_count": 124,
   "id": "78bbcf4b-969a-4fc1-9417-b479d2484789",
   "metadata": {},
   "outputs": [
    {
     "data": {
      "text/plain": [
       "(343141, 5)"
      ]
     },
     "execution_count": 124,
     "metadata": {},
     "output_type": "execute_result"
    }
   ],
   "source": [
    "#Check if the cleaning is effective\n",
    "df.shape"
   ]
  },
  {
   "cell_type": "code",
   "execution_count": 128,
   "id": "d72b8fc1-6bd8-430b-ae71-ed3e7b7ca505",
   "metadata": {},
   "outputs": [
    {
     "data": {
      "text/html": [
       "<div>\n",
       "<style scoped>\n",
       "    .dataframe tbody tr th:only-of-type {\n",
       "        vertical-align: middle;\n",
       "    }\n",
       "\n",
       "    .dataframe tbody tr th {\n",
       "        vertical-align: top;\n",
       "    }\n",
       "\n",
       "    .dataframe thead th {\n",
       "        text-align: right;\n",
       "    }\n",
       "</style>\n",
       "<table border=\"1\" class=\"dataframe\">\n",
       "  <thead>\n",
       "    <tr style=\"text-align: right;\">\n",
       "      <th></th>\n",
       "      <th>client_id,visitor_id,visit_id,process_step,date_time</th>\n",
       "    </tr>\n",
       "  </thead>\n",
       "  <tbody>\n",
       "    <tr>\n",
       "      <th>0</th>\n",
       "      <td>763412,601952081_10457207388,397475557_4044094...</td>\n",
       "    </tr>\n",
       "    <tr>\n",
       "      <th>1</th>\n",
       "      <td>6019349,442094451_91531546617,154620534_353310...</td>\n",
       "    </tr>\n",
       "    <tr>\n",
       "      <th>2</th>\n",
       "      <td>6019349,442094451_91531546617,154620534_353310...</td>\n",
       "    </tr>\n",
       "    <tr>\n",
       "      <th>3</th>\n",
       "      <td>6019349,442094451_91531546617,154620534_353310...</td>\n",
       "    </tr>\n",
       "    <tr>\n",
       "      <th>4</th>\n",
       "      <td>6019349,442094451_91531546617,154620534_353310...</td>\n",
       "    </tr>\n",
       "    <tr>\n",
       "      <th>...</th>\n",
       "      <td>...</td>\n",
       "    </tr>\n",
       "    <tr>\n",
       "      <th>412259</th>\n",
       "      <td>9668240,388766751_9038881013,922267647_3096648...</td>\n",
       "    </tr>\n",
       "    <tr>\n",
       "      <th>412260</th>\n",
       "      <td>9668240,388766751_9038881013,922267647_3096648...</td>\n",
       "    </tr>\n",
       "    <tr>\n",
       "      <th>412261</th>\n",
       "      <td>9668240,388766751_9038881013,922267647_3096648...</td>\n",
       "    </tr>\n",
       "    <tr>\n",
       "      <th>412262</th>\n",
       "      <td>9668240,388766751_9038881013,922267647_3096648...</td>\n",
       "    </tr>\n",
       "    <tr>\n",
       "      <th>412263</th>\n",
       "      <td>674799,947159805_81558194550,86152093_47511127...</td>\n",
       "    </tr>\n",
       "  </tbody>\n",
       "</table>\n",
       "<p>412264 rows × 1 columns</p>\n",
       "</div>"
      ],
      "text/plain": [
       "       client_id,visitor_id,visit_id,process_step,date_time\n",
       "0       763412,601952081_10457207388,397475557_4044094...  \n",
       "1       6019349,442094451_91531546617,154620534_353310...  \n",
       "2       6019349,442094451_91531546617,154620534_353310...  \n",
       "3       6019349,442094451_91531546617,154620534_353310...  \n",
       "4       6019349,442094451_91531546617,154620534_353310...  \n",
       "...                                                   ...  \n",
       "412259  9668240,388766751_9038881013,922267647_3096648...  \n",
       "412260  9668240,388766751_9038881013,922267647_3096648...  \n",
       "412261  9668240,388766751_9038881013,922267647_3096648...  \n",
       "412262  9668240,388766751_9038881013,922267647_3096648...  \n",
       "412263  674799,947159805_81558194550,86152093_47511127...  \n",
       "\n",
       "[412264 rows x 1 columns]"
      ]
     },
     "execution_count": 128,
     "metadata": {},
     "output_type": "execute_result"
    }
   ],
   "source": [
    "import numpy as np\n",
    "import pandas as pd\n",
    "\n",
    "file_path2 = r\"C:\\Users\\npdan\\IH_LABS/Project2/Datasets/Datasets_raw/df_final_web_data_pt_2.csv\"\n",
    "df2 = pd.read_csv(file_path2)\n",
    "df2"
   ]
  },
  {
   "cell_type": "code",
   "execution_count": 130,
   "id": "49b49089-cbaf-49ad-9019-6f193a139575",
   "metadata": {},
   "outputs": [],
   "source": [
    "df2 = df2.iloc[:, 0].str.split(',', expand=True)\n",
    "df2.columns = ['client_id', 'visitor_id', 'visit_id', 'process_step', 'date_time']"
   ]
  },
  {
   "cell_type": "code",
   "execution_count": 132,
   "id": "fe476945-83e2-472e-8045-02206a3a4720",
   "metadata": {},
   "outputs": [
    {
     "name": "stdout",
     "output_type": "stream",
     "text": [
      "Index(['client_id', 'visitor_id', 'visit_id', 'process_step', 'date_time'], dtype='object')\n",
      "(412264, 5)\n"
     ]
    }
   ],
   "source": [
    "print(df2.columns)\n",
    "print(df2.shape)"
   ]
  },
  {
   "cell_type": "code",
   "execution_count": 134,
   "id": "80145943-f8eb-4956-aef4-386e2f80c642",
   "metadata": {},
   "outputs": [],
   "source": [
    "#Save the cleaned file in csv :\n",
    "df2.to_csv('df_final_web_data_pt_2_cleaned.csv', index=False)"
   ]
  },
  {
   "cell_type": "code",
   "execution_count": 136,
   "id": "99902a7c-64bf-4ce1-b958-81912f45bc6a",
   "metadata": {},
   "outputs": [
    {
     "data": {
      "text/plain": [
       "(412264, 5)"
      ]
     },
     "execution_count": 136,
     "metadata": {},
     "output_type": "execute_result"
    }
   ],
   "source": [
    "#Check if the cleaning is effective\n",
    "df2.shape"
   ]
  },
  {
   "cell_type": "code",
   "execution_count": 104,
   "id": "9e36e471-0d5c-4277-8856-cf2bef24341d",
   "metadata": {},
   "outputs": [
    {
     "data": {
      "text/html": [
       "<div>\n",
       "<style scoped>\n",
       "    .dataframe tbody tr th:only-of-type {\n",
       "        vertical-align: middle;\n",
       "    }\n",
       "\n",
       "    .dataframe tbody tr th {\n",
       "        vertical-align: top;\n",
       "    }\n",
       "\n",
       "    .dataframe thead th {\n",
       "        text-align: right;\n",
       "    }\n",
       "</style>\n",
       "<table border=\"1\" class=\"dataframe\">\n",
       "  <thead>\n",
       "    <tr style=\"text-align: right;\">\n",
       "      <th></th>\n",
       "      <th>client_id,Variation</th>\n",
       "    </tr>\n",
       "  </thead>\n",
       "  <tbody>\n",
       "    <tr>\n",
       "      <th>0</th>\n",
       "      <td>9988021,Test</td>\n",
       "    </tr>\n",
       "    <tr>\n",
       "      <th>1</th>\n",
       "      <td>8320017,Test</td>\n",
       "    </tr>\n",
       "    <tr>\n",
       "      <th>2</th>\n",
       "      <td>4033851,Control</td>\n",
       "    </tr>\n",
       "    <tr>\n",
       "      <th>3</th>\n",
       "      <td>1982004,Test</td>\n",
       "    </tr>\n",
       "    <tr>\n",
       "      <th>4</th>\n",
       "      <td>9294070,Control</td>\n",
       "    </tr>\n",
       "    <tr>\n",
       "      <th>...</th>\n",
       "      <td>...</td>\n",
       "    </tr>\n",
       "    <tr>\n",
       "      <th>70604</th>\n",
       "      <td>2443347,NA</td>\n",
       "    </tr>\n",
       "    <tr>\n",
       "      <th>70605</th>\n",
       "      <td>8788427,NA</td>\n",
       "    </tr>\n",
       "    <tr>\n",
       "      <th>70606</th>\n",
       "      <td>266828,NA</td>\n",
       "    </tr>\n",
       "    <tr>\n",
       "      <th>70607</th>\n",
       "      <td>1266421,NA</td>\n",
       "    </tr>\n",
       "    <tr>\n",
       "      <th>70608</th>\n",
       "      <td>9895983,NA</td>\n",
       "    </tr>\n",
       "  </tbody>\n",
       "</table>\n",
       "<p>70609 rows × 1 columns</p>\n",
       "</div>"
      ],
      "text/plain": [
       "      client_id,Variation\n",
       "0            9988021,Test\n",
       "1            8320017,Test\n",
       "2         4033851,Control\n",
       "3            1982004,Test\n",
       "4         9294070,Control\n",
       "...                   ...\n",
       "70604          2443347,NA\n",
       "70605          8788427,NA\n",
       "70606           266828,NA\n",
       "70607          1266421,NA\n",
       "70608          9895983,NA\n",
       "\n",
       "[70609 rows x 1 columns]"
      ]
     },
     "execution_count": 104,
     "metadata": {},
     "output_type": "execute_result"
    }
   ],
   "source": [
    "import numpy as np\n",
    "import pandas as pd\n",
    "\n",
    "file_path3 = r\"C:\\Users\\npdan\\IH_LABS/Project2/Datasets/Datasets_raw/df_final_experiment_clients.csv\"\n",
    "df3 = pd.read_csv(file_path3)\n",
    "df3"
   ]
  },
  {
   "cell_type": "code",
   "execution_count": 106,
   "id": "63e4cb92-3fe1-4247-ab30-e0bc1e70bca4",
   "metadata": {},
   "outputs": [],
   "source": [
    "df3 = df3.iloc[:, 0].str.split(',', expand=True)\n",
    "df3.columns = ['client_id', 'Variation']"
   ]
  },
  {
   "cell_type": "code",
   "execution_count": 63,
   "id": "c4631a55-877c-48f3-a4d4-14e16483f7f6",
   "metadata": {},
   "outputs": [
    {
     "name": "stdout",
     "output_type": "stream",
     "text": [
      "Index(['client_id', 'Variation'], dtype='object')\n",
      "(70609, 2)\n"
     ]
    }
   ],
   "source": [
    "print(df3.columns)\n",
    "print(df3.shape)"
   ]
  },
  {
   "cell_type": "code",
   "execution_count": 92,
   "id": "3562b891-76c1-4c7e-a091-54dd57bc66ba",
   "metadata": {},
   "outputs": [],
   "source": [
    "#Save the cleaned file in csv :\n",
    "df3.to_csv('df_final_experiment_clients_cleaned.csv', index=False)"
   ]
  },
  {
   "cell_type": "code",
   "execution_count": 108,
   "id": "c7c2bffa-3c58-4537-a4bc-ed4161396f3d",
   "metadata": {},
   "outputs": [
    {
     "data": {
      "text/plain": [
       "(70609, 2)"
      ]
     },
     "execution_count": 108,
     "metadata": {},
     "output_type": "execute_result"
    }
   ],
   "source": [
    "#Check if the cleaning is effective\n",
    "df3.shape"
   ]
  },
  {
   "cell_type": "code",
   "execution_count": 112,
   "id": "01f40580-b6a2-44e8-b223-ccdc1d57ee3a",
   "metadata": {},
   "outputs": [
    {
     "data": {
      "text/html": [
       "<div>\n",
       "<style scoped>\n",
       "    .dataframe tbody tr th:only-of-type {\n",
       "        vertical-align: middle;\n",
       "    }\n",
       "\n",
       "    .dataframe tbody tr th {\n",
       "        vertical-align: top;\n",
       "    }\n",
       "\n",
       "    .dataframe thead th {\n",
       "        text-align: right;\n",
       "    }\n",
       "</style>\n",
       "<table border=\"1\" class=\"dataframe\">\n",
       "  <thead>\n",
       "    <tr style=\"text-align: right;\">\n",
       "      <th></th>\n",
       "      <th>client_id,clnt_tenure_yr,clnt_tenure_mnth,clnt_age,gendr,num_accts,bal,calls_6_mnth,logons_6_mnth</th>\n",
       "    </tr>\n",
       "  </thead>\n",
       "  <tbody>\n",
       "    <tr>\n",
       "      <th>0</th>\n",
       "      <td>836976,6.0,73.0,60.5,U,2.0,45105.3,6.0,9.0</td>\n",
       "    </tr>\n",
       "    <tr>\n",
       "      <th>1</th>\n",
       "      <td>2304905,7.0,94.0,58.0,U,2.0,110860.3,6.0,9.0</td>\n",
       "    </tr>\n",
       "    <tr>\n",
       "      <th>2</th>\n",
       "      <td>1439522,5.0,64.0,32.0,U,2.0,52467.78999999999,...</td>\n",
       "    </tr>\n",
       "    <tr>\n",
       "      <th>3</th>\n",
       "      <td>1562045,16.0,198.0,49.0,M,2.0,67454.65,3.0,6.0</td>\n",
       "    </tr>\n",
       "    <tr>\n",
       "      <th>4</th>\n",
       "      <td>5126305,12.0,145.0,33.0,F,2.0,103671.75,0.0,3.0</td>\n",
       "    </tr>\n",
       "    <tr>\n",
       "      <th>...</th>\n",
       "      <td>...</td>\n",
       "    </tr>\n",
       "    <tr>\n",
       "      <th>70604</th>\n",
       "      <td>7993686,4.0,56.0,38.5,U,3.0,1411062.68,5.0,5.0</td>\n",
       "    </tr>\n",
       "    <tr>\n",
       "      <th>70605</th>\n",
       "      <td>8981690,12.0,148.0,31.0,M,2.0,101867.069999999...</td>\n",
       "    </tr>\n",
       "    <tr>\n",
       "      <th>70606</th>\n",
       "      <td>333913,16.0,198.0,61.5,F,2.0,40745.0,3.0,3.0</td>\n",
       "    </tr>\n",
       "    <tr>\n",
       "      <th>70607</th>\n",
       "      <td>1573142,21.0,255.0,68.0,M,3.0,475114.69,4.0,4.0</td>\n",
       "    </tr>\n",
       "    <tr>\n",
       "      <th>70608</th>\n",
       "      <td>5602139,21.0,254.0,59.5,F,3.0,157498.729999999...</td>\n",
       "    </tr>\n",
       "  </tbody>\n",
       "</table>\n",
       "<p>70609 rows × 1 columns</p>\n",
       "</div>"
      ],
      "text/plain": [
       "      client_id,clnt_tenure_yr,clnt_tenure_mnth,clnt_age,gendr,num_accts,bal,calls_6_mnth,logons_6_mnth\n",
       "0             836976,6.0,73.0,60.5,U,2.0,45105.3,6.0,9.0                                               \n",
       "1           2304905,7.0,94.0,58.0,U,2.0,110860.3,6.0,9.0                                               \n",
       "2      1439522,5.0,64.0,32.0,U,2.0,52467.78999999999,...                                               \n",
       "3         1562045,16.0,198.0,49.0,M,2.0,67454.65,3.0,6.0                                               \n",
       "4        5126305,12.0,145.0,33.0,F,2.0,103671.75,0.0,3.0                                               \n",
       "...                                                  ...                                               \n",
       "70604     7993686,4.0,56.0,38.5,U,3.0,1411062.68,5.0,5.0                                               \n",
       "70605  8981690,12.0,148.0,31.0,M,2.0,101867.069999999...                                               \n",
       "70606       333913,16.0,198.0,61.5,F,2.0,40745.0,3.0,3.0                                               \n",
       "70607    1573142,21.0,255.0,68.0,M,3.0,475114.69,4.0,4.0                                               \n",
       "70608  5602139,21.0,254.0,59.5,F,3.0,157498.729999999...                                               \n",
       "\n",
       "[70609 rows x 1 columns]"
      ]
     },
     "execution_count": 112,
     "metadata": {},
     "output_type": "execute_result"
    }
   ],
   "source": [
    "file_path4 = r\"C:\\Users\\npdan\\IH_LABS/Project2/Datasets/Datasets_raw/df_final_demo.csv\"\n",
    "df4 = pd.read_csv(file_path4)\n",
    "df4"
   ]
  },
  {
   "cell_type": "code",
   "execution_count": 114,
   "id": "fc2070f8-e901-42d5-9822-23b1bfb35ce8",
   "metadata": {},
   "outputs": [],
   "source": [
    "df4 = df4.iloc[:, 0].str.split(',', expand=True)\n",
    "df4.columns = ['client_id', 'clnt_tenure_yr', 'clnt_tenure_mnth', 'clnt_age', 'gendr', 'num_accts', 'bal', 'calls_6_mnth', 'logons_6_mnth']"
   ]
  },
  {
   "cell_type": "code",
   "execution_count": 116,
   "id": "7d65da81-ba33-42ca-88c4-15783496976b",
   "metadata": {},
   "outputs": [
    {
     "name": "stdout",
     "output_type": "stream",
     "text": [
      "Index(['client_id', 'clnt_tenure_yr', 'clnt_tenure_mnth', 'clnt_age', 'gendr',\n",
      "       'num_accts', 'bal', 'calls_6_mnth', 'logons_6_mnth'],\n",
      "      dtype='object')\n",
      "(70609, 9)\n"
     ]
    }
   ],
   "source": [
    "print(df4.columns)\n",
    "print(df4.shape)"
   ]
  },
  {
   "cell_type": "code",
   "execution_count": 118,
   "id": "d358e4f9-4e51-40d6-aeb0-48eba1ae76db",
   "metadata": {},
   "outputs": [],
   "source": [
    "#Save the cleaned file in csv :\n",
    "df4.to_csv('df_final_demo_cleaned.csv', index=False)"
   ]
  },
  {
   "cell_type": "code",
   "execution_count": 120,
   "id": "f071a95a-b0f0-4a4e-bbca-70d05d5638fb",
   "metadata": {},
   "outputs": [
    {
     "data": {
      "text/plain": [
       "(70609, 9)"
      ]
     },
     "execution_count": 120,
     "metadata": {},
     "output_type": "execute_result"
    }
   ],
   "source": [
    "#Check if the cleaning is effective\n",
    "df4.shape"
   ]
  },
  {
   "cell_type": "code",
   "execution_count": null,
   "id": "748f70a3-9c04-4087-a0b8-9d1a81e10be5",
   "metadata": {},
   "outputs": [],
   "source": []
  },
  {
   "cell_type": "code",
   "execution_count": null,
   "id": "5f23a1d6-ddb0-42d3-a640-882b7f82ceaa",
   "metadata": {},
   "outputs": [],
   "source": []
  }
 ],
 "metadata": {
  "kernelspec": {
   "display_name": "Python [conda env:base] *",
   "language": "python",
   "name": "conda-base-py"
  },
  "language_info": {
   "codemirror_mode": {
    "name": "ipython",
    "version": 3
   },
   "file_extension": ".py",
   "mimetype": "text/x-python",
   "name": "python",
   "nbconvert_exporter": "python",
   "pygments_lexer": "ipython3",
   "version": "3.12.7"
  }
 },
 "nbformat": 4,
 "nbformat_minor": 5
}
