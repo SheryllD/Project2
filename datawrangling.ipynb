{
 "cells": [
  {
   "cell_type": "markdown",
   "metadata": {},
   "source": [
    "# Data wrangling Project 2\n",
    "This file is used for exploring and refining the datasets."
   ]
  },
  {
   "cell_type": "markdown",
   "metadata": {},
   "source": [
    "Importing Libraries"
   ]
  },
  {
   "cell_type": "code",
   "execution_count": 7,
   "metadata": {},
   "outputs": [],
   "source": [
    "import pandas as pd\n",
    "import numpy as np\n",
    "import matplotlib.pyplot as plt\n",
    "import seaborn as sns\n",
    "import warnings\n",
    "from datetime import datetime\n",
    "from IPython.display import display\n",
    "warnings.filterwarnings('ignore')"
   ]
  },
  {
   "cell_type": "code",
   "execution_count": 12,
   "metadata": {},
   "outputs": [],
   "source": [
    "# Changing data txt files to csv\n",
    "df = pd.read_csv('Datasets/Datasets_raw/df_final_demo.txt', delimiter='\\t')  # or use ' ' for space\n",
    "# Save as CSV\n",
    "df.to_csv('Datasets/Datasets_raw/df_final_demo.csv', index=False)\n",
    "df = pd.read_csv('Datasets/Datasets_raw/df_final_demo.csv')  # assumes comma\n",
    "#df.to_csv('your_file.csv', index=False)\n",
    "\n",
    "# Experiment Clients \n",
    "df = pd.read_csv('Datasets/Datasets_raw/df_final_experiment_clients.txt', delimiter='\\t')  # or use ' ' for space\n",
    "# Save as CSV\n",
    "df.to_csv('Datasets/Datasets_raw/df_final_experiment_clients.csv', index=False)\n",
    "df = pd.read_csv('Datasets/Datasets_raw/df_final_experiment_clients.csv')\n",
    "\n",
    "#webdata_pt 1\n",
    "df = pd.read_csv('Datasets/Datasets_raw/df_final_web_data_pt_1.txt', delimiter='\\t')  # or use ' ' for space\n",
    "# Save as CSV\n",
    "df.to_csv('Datasets/Datasets_raw/df_final_web_data_pt_1.csv', index=False)\n",
    "df = pd.read_csv('Datasets/Datasets_raw/df_final_web_data_pt_1.csv')\n",
    "\n",
    "#webdata_pt 2\n",
    "df = pd.read_csv('Datasets/Datasets_raw/df_final_web_data_pt_2.txt', delimiter='\\t')  # or use ' ' for space\n",
    "# Save as CSV\n",
    "df.to_csv('Datasets/Datasets_raw/df_final_web_data_pt_2.csv', index=False)\n",
    "df = pd.read_csv('Datasets/Datasets_raw/df_final_web_data_pt_2.csv')"
   ]
  },
  {
   "cell_type": "markdown",
   "metadata": {},
   "source": [
    "# Loading the datasets"
   ]
  },
  {
   "cell_type": "code",
   "execution_count": 14,
   "metadata": {},
   "outputs": [],
   "source": [
    "# Defining the file path \n",
    "file_path_demo = 'Datasets/Datasets_raw/df_final_demo.csv'\n",
    "file_path_ec = 'Datasets/Datasets_raw/df_final_experiment_clients.csv'\n",
    "file_path_fwd1 = 'Datasets/Datasets_raw/df_final_web_data_pt_1.csv'\n",
    "file_path_fwd2 = 'Datasets/Datasets_raw/df_final_web_data_pt_2.csv'\n",
    "\n",
    "# Loading the CSV files into DataFrames\n",
    "df_demo = pd.read_csv(file_path_demo)\n",
    "df_ec = pd.read_csv(file_path_ec)\n",
    "df_fwd1 = pd.read_csv(file_path_fwd1)\n",
    "df_fwd2 = pd.read_csv(file_path_fwd2)"
   ]
  },
  {
   "cell_type": "markdown",
   "metadata": {},
   "source": [
    "# Exploring the datasets"
   ]
  },
  {
   "cell_type": "markdown",
   "metadata": {},
   "source": [
    "Checking df_demo dataset"
   ]
  },
  {
   "cell_type": "code",
   "execution_count": 19,
   "metadata": {},
   "outputs": [
    {
     "name": "stdout",
     "output_type": "stream",
     "text": [
      "<class 'pandas.core.frame.DataFrame'>\n",
      "RangeIndex: 70609 entries, 0 to 70608\n",
      "Data columns (total 1 columns):\n",
      " #   Column                                                                                             Non-Null Count  Dtype \n",
      "---  ------                                                                                             --------------  ----- \n",
      " 0   client_id,clnt_tenure_yr,clnt_tenure_mnth,clnt_age,gendr,num_accts,bal,calls_6_mnth,logons_6_mnth  70609 non-null  object\n",
      "dtypes: object(1)\n",
      "memory usage: 551.8+ KB\n"
     ]
    },
    {
     "data": {
      "text/html": [
       "<div>\n",
       "<style scoped>\n",
       "    .dataframe tbody tr th:only-of-type {\n",
       "        vertical-align: middle;\n",
       "    }\n",
       "\n",
       "    .dataframe tbody tr th {\n",
       "        vertical-align: top;\n",
       "    }\n",
       "\n",
       "    .dataframe thead th {\n",
       "        text-align: right;\n",
       "    }\n",
       "</style>\n",
       "<table border=\"1\" class=\"dataframe\">\n",
       "  <thead>\n",
       "    <tr style=\"text-align: right;\">\n",
       "      <th></th>\n",
       "      <th>client_id,clnt_tenure_yr,clnt_tenure_mnth,clnt_age,gendr,num_accts,bal,calls_6_mnth,logons_6_mnth</th>\n",
       "    </tr>\n",
       "  </thead>\n",
       "  <tbody>\n",
       "    <tr>\n",
       "      <th>0</th>\n",
       "      <td>836976,6.0,73.0,60.5,U,2.0,45105.3,6.0,9.0</td>\n",
       "    </tr>\n",
       "    <tr>\n",
       "      <th>1</th>\n",
       "      <td>2304905,7.0,94.0,58.0,U,2.0,110860.3,6.0,9.0</td>\n",
       "    </tr>\n",
       "    <tr>\n",
       "      <th>2</th>\n",
       "      <td>1439522,5.0,64.0,32.0,U,2.0,52467.78999999999,...</td>\n",
       "    </tr>\n",
       "    <tr>\n",
       "      <th>3</th>\n",
       "      <td>1562045,16.0,198.0,49.0,M,2.0,67454.65,3.0,6.0</td>\n",
       "    </tr>\n",
       "    <tr>\n",
       "      <th>4</th>\n",
       "      <td>5126305,12.0,145.0,33.0,F,2.0,103671.75,0.0,3.0</td>\n",
       "    </tr>\n",
       "  </tbody>\n",
       "</table>\n",
       "</div>"
      ],
      "text/plain": [
       "  client_id,clnt_tenure_yr,clnt_tenure_mnth,clnt_age,gendr,num_accts,bal,calls_6_mnth,logons_6_mnth\n",
       "0         836976,6.0,73.0,60.5,U,2.0,45105.3,6.0,9.0                                               \n",
       "1       2304905,7.0,94.0,58.0,U,2.0,110860.3,6.0,9.0                                               \n",
       "2  1439522,5.0,64.0,32.0,U,2.0,52467.78999999999,...                                               \n",
       "3     1562045,16.0,198.0,49.0,M,2.0,67454.65,3.0,6.0                                               \n",
       "4    5126305,12.0,145.0,33.0,F,2.0,103671.75,0.0,3.0                                               "
      ]
     },
     "execution_count": 19,
     "metadata": {},
     "output_type": "execute_result"
    }
   ],
   "source": [
    "df_demo.info()\n",
    "df_demo.head()"
   ]
  },
  {
   "cell_type": "markdown",
   "metadata": {},
   "source": [
    "Checking df_ec dataset"
   ]
  },
  {
   "cell_type": "code",
   "execution_count": 20,
   "metadata": {},
   "outputs": [
    {
     "name": "stdout",
     "output_type": "stream",
     "text": [
      "<class 'pandas.core.frame.DataFrame'>\n",
      "RangeIndex: 70609 entries, 0 to 70608\n",
      "Data columns (total 1 columns):\n",
      " #   Column               Non-Null Count  Dtype \n",
      "---  ------               --------------  ----- \n",
      " 0   client_id,Variation  70609 non-null  object\n",
      "dtypes: object(1)\n",
      "memory usage: 551.8+ KB\n"
     ]
    },
    {
     "data": {
      "text/html": [
       "<div>\n",
       "<style scoped>\n",
       "    .dataframe tbody tr th:only-of-type {\n",
       "        vertical-align: middle;\n",
       "    }\n",
       "\n",
       "    .dataframe tbody tr th {\n",
       "        vertical-align: top;\n",
       "    }\n",
       "\n",
       "    .dataframe thead th {\n",
       "        text-align: right;\n",
       "    }\n",
       "</style>\n",
       "<table border=\"1\" class=\"dataframe\">\n",
       "  <thead>\n",
       "    <tr style=\"text-align: right;\">\n",
       "      <th></th>\n",
       "      <th>client_id,Variation</th>\n",
       "    </tr>\n",
       "  </thead>\n",
       "  <tbody>\n",
       "    <tr>\n",
       "      <th>0</th>\n",
       "      <td>9988021,Test</td>\n",
       "    </tr>\n",
       "    <tr>\n",
       "      <th>1</th>\n",
       "      <td>8320017,Test</td>\n",
       "    </tr>\n",
       "    <tr>\n",
       "      <th>2</th>\n",
       "      <td>4033851,Control</td>\n",
       "    </tr>\n",
       "    <tr>\n",
       "      <th>3</th>\n",
       "      <td>1982004,Test</td>\n",
       "    </tr>\n",
       "    <tr>\n",
       "      <th>4</th>\n",
       "      <td>9294070,Control</td>\n",
       "    </tr>\n",
       "  </tbody>\n",
       "</table>\n",
       "</div>"
      ],
      "text/plain": [
       "  client_id,Variation\n",
       "0        9988021,Test\n",
       "1        8320017,Test\n",
       "2     4033851,Control\n",
       "3        1982004,Test\n",
       "4     9294070,Control"
      ]
     },
     "execution_count": 20,
     "metadata": {},
     "output_type": "execute_result"
    }
   ],
   "source": [
    "df_ec.info()\n",
    "df_ec.head()"
   ]
  },
  {
   "cell_type": "markdown",
   "metadata": {},
   "source": [
    "Checking df_fwd1 dataset"
   ]
  },
  {
   "cell_type": "code",
   "execution_count": 21,
   "metadata": {},
   "outputs": [
    {
     "name": "stdout",
     "output_type": "stream",
     "text": [
      "<class 'pandas.core.frame.DataFrame'>\n",
      "RangeIndex: 343141 entries, 0 to 343140\n",
      "Data columns (total 1 columns):\n",
      " #   Column                                                Non-Null Count   Dtype \n",
      "---  ------                                                --------------   ----- \n",
      " 0   client_id,visitor_id,visit_id,process_step,date_time  343141 non-null  object\n",
      "dtypes: object(1)\n",
      "memory usage: 2.6+ MB\n"
     ]
    },
    {
     "data": {
      "text/html": [
       "<div>\n",
       "<style scoped>\n",
       "    .dataframe tbody tr th:only-of-type {\n",
       "        vertical-align: middle;\n",
       "    }\n",
       "\n",
       "    .dataframe tbody tr th {\n",
       "        vertical-align: top;\n",
       "    }\n",
       "\n",
       "    .dataframe thead th {\n",
       "        text-align: right;\n",
       "    }\n",
       "</style>\n",
       "<table border=\"1\" class=\"dataframe\">\n",
       "  <thead>\n",
       "    <tr style=\"text-align: right;\">\n",
       "      <th></th>\n",
       "      <th>client_id,visitor_id,visit_id,process_step,date_time</th>\n",
       "    </tr>\n",
       "  </thead>\n",
       "  <tbody>\n",
       "    <tr>\n",
       "      <th>0</th>\n",
       "      <td>9988021,580560515_7732621733,781255054_2193545...</td>\n",
       "    </tr>\n",
       "    <tr>\n",
       "      <th>1</th>\n",
       "      <td>9988021,580560515_7732621733,781255054_2193545...</td>\n",
       "    </tr>\n",
       "    <tr>\n",
       "      <th>2</th>\n",
       "      <td>9988021,580560515_7732621733,781255054_2193545...</td>\n",
       "    </tr>\n",
       "    <tr>\n",
       "      <th>3</th>\n",
       "      <td>9988021,580560515_7732621733,781255054_2193545...</td>\n",
       "    </tr>\n",
       "    <tr>\n",
       "      <th>4</th>\n",
       "      <td>9988021,580560515_7732621733,781255054_2193545...</td>\n",
       "    </tr>\n",
       "  </tbody>\n",
       "</table>\n",
       "</div>"
      ],
      "text/plain": [
       "  client_id,visitor_id,visit_id,process_step,date_time\n",
       "0  9988021,580560515_7732621733,781255054_2193545...  \n",
       "1  9988021,580560515_7732621733,781255054_2193545...  \n",
       "2  9988021,580560515_7732621733,781255054_2193545...  \n",
       "3  9988021,580560515_7732621733,781255054_2193545...  \n",
       "4  9988021,580560515_7732621733,781255054_2193545...  "
      ]
     },
     "execution_count": 21,
     "metadata": {},
     "output_type": "execute_result"
    }
   ],
   "source": [
    "df_fwd1.info()\n",
    "df_fwd1.head()"
   ]
  },
  {
   "cell_type": "markdown",
   "metadata": {},
   "source": [
    "Checking df_fwd2 dataset"
   ]
  },
  {
   "cell_type": "code",
   "execution_count": 22,
   "metadata": {},
   "outputs": [
    {
     "name": "stdout",
     "output_type": "stream",
     "text": [
      "<class 'pandas.core.frame.DataFrame'>\n",
      "RangeIndex: 412264 entries, 0 to 412263\n",
      "Data columns (total 1 columns):\n",
      " #   Column                                                Non-Null Count   Dtype \n",
      "---  ------                                                --------------   ----- \n",
      " 0   client_id,visitor_id,visit_id,process_step,date_time  412264 non-null  object\n",
      "dtypes: object(1)\n",
      "memory usage: 3.1+ MB\n"
     ]
    },
    {
     "data": {
      "text/html": [
       "<div>\n",
       "<style scoped>\n",
       "    .dataframe tbody tr th:only-of-type {\n",
       "        vertical-align: middle;\n",
       "    }\n",
       "\n",
       "    .dataframe tbody tr th {\n",
       "        vertical-align: top;\n",
       "    }\n",
       "\n",
       "    .dataframe thead th {\n",
       "        text-align: right;\n",
       "    }\n",
       "</style>\n",
       "<table border=\"1\" class=\"dataframe\">\n",
       "  <thead>\n",
       "    <tr style=\"text-align: right;\">\n",
       "      <th></th>\n",
       "      <th>client_id,visitor_id,visit_id,process_step,date_time</th>\n",
       "    </tr>\n",
       "  </thead>\n",
       "  <tbody>\n",
       "    <tr>\n",
       "      <th>0</th>\n",
       "      <td>763412,601952081_10457207388,397475557_4044094...</td>\n",
       "    </tr>\n",
       "    <tr>\n",
       "      <th>1</th>\n",
       "      <td>6019349,442094451_91531546617,154620534_353310...</td>\n",
       "    </tr>\n",
       "    <tr>\n",
       "      <th>2</th>\n",
       "      <td>6019349,442094451_91531546617,154620534_353310...</td>\n",
       "    </tr>\n",
       "    <tr>\n",
       "      <th>3</th>\n",
       "      <td>6019349,442094451_91531546617,154620534_353310...</td>\n",
       "    </tr>\n",
       "    <tr>\n",
       "      <th>4</th>\n",
       "      <td>6019349,442094451_91531546617,154620534_353310...</td>\n",
       "    </tr>\n",
       "  </tbody>\n",
       "</table>\n",
       "</div>"
      ],
      "text/plain": [
       "  client_id,visitor_id,visit_id,process_step,date_time\n",
       "0  763412,601952081_10457207388,397475557_4044094...  \n",
       "1  6019349,442094451_91531546617,154620534_353310...  \n",
       "2  6019349,442094451_91531546617,154620534_353310...  \n",
       "3  6019349,442094451_91531546617,154620534_353310...  \n",
       "4  6019349,442094451_91531546617,154620534_353310...  "
      ]
     },
     "execution_count": 22,
     "metadata": {},
     "output_type": "execute_result"
    }
   ],
   "source": [
    "df_fwd2.info()\n",
    "df_fwd2.head()"
   ]
  },
  {
   "cell_type": "code",
   "execution_count": 23,
   "metadata": {},
   "outputs": [
    {
     "name": "stdout",
     "output_type": "stream",
     "text": [
      "\n",
      "===== df_demo =====\n",
      "\n",
      "Shape: (70609, 1)\n",
      "\n",
      "Columns and Data Types:\n",
      " client_id,clnt_tenure_yr,clnt_tenure_mnth,clnt_age,gendr,num_accts,bal,calls_6_mnth,logons_6_mnth    object\n",
      "dtype: object\n",
      "\n",
      "Missing Values:\n",
      " client_id,clnt_tenure_yr,clnt_tenure_mnth,clnt_age,gendr,num_accts,bal,calls_6_mnth,logons_6_mnth    0\n",
      "dtype: int64\n",
      "\n",
      "Preview:\n",
      "   client_id,clnt_tenure_yr,clnt_tenure_mnth,clnt_age,gendr,num_accts,bal,calls_6_mnth,logons_6_mnth\n",
      "0         836976,6.0,73.0,60.5,U,2.0,45105.3,6.0,9.0                                               \n",
      "1       2304905,7.0,94.0,58.0,U,2.0,110860.3,6.0,9.0                                               \n",
      "2  1439522,5.0,64.0,32.0,U,2.0,52467.78999999999,...                                               \n",
      "\n",
      "===== df_ec =====\n",
      "\n",
      "Shape: (70609, 1)\n",
      "\n",
      "Columns and Data Types:\n",
      " client_id,Variation    object\n",
      "dtype: object\n",
      "\n",
      "Missing Values:\n",
      " client_id,Variation    0\n",
      "dtype: int64\n",
      "\n",
      "Preview:\n",
      "   client_id,Variation\n",
      "0        9988021,Test\n",
      "1        8320017,Test\n",
      "2     4033851,Control\n",
      "\n",
      "===== df_fwd1 =====\n",
      "\n",
      "Shape: (343141, 1)\n",
      "\n",
      "Columns and Data Types:\n",
      " client_id,visitor_id,visit_id,process_step,date_time    object\n",
      "dtype: object\n",
      "\n",
      "Missing Values:\n",
      " client_id,visitor_id,visit_id,process_step,date_time    0\n",
      "dtype: int64\n",
      "\n",
      "Preview:\n",
      "   client_id,visitor_id,visit_id,process_step,date_time\n",
      "0  9988021,580560515_7732621733,781255054_2193545...  \n",
      "1  9988021,580560515_7732621733,781255054_2193545...  \n",
      "2  9988021,580560515_7732621733,781255054_2193545...  \n",
      "\n",
      "===== df_fwd2 =====\n",
      "\n",
      "Shape: (412264, 1)\n",
      "\n",
      "Columns and Data Types:\n",
      " client_id,visitor_id,visit_id,process_step,date_time    object\n",
      "dtype: object\n",
      "\n",
      "Missing Values:\n",
      " client_id,visitor_id,visit_id,process_step,date_time    0\n",
      "dtype: int64\n",
      "\n",
      "Preview:\n",
      "   client_id,visitor_id,visit_id,process_step,date_time\n",
      "0  763412,601952081_10457207388,397475557_4044094...  \n",
      "1  6019349,442094451_91531546617,154620534_353310...  \n",
      "2  6019349,442094451_91531546617,154620534_353310...  \n"
     ]
    }
   ],
   "source": [
    "# For each DataFrame\n",
    "for name, df in [('df_demo', df_demo), ('df_ec', df_ec), ('df_fwd1', df_fwd1), ('df_fwd2', df_fwd2)]:\n",
    "    print(f\"\\n===== {name} =====\")\n",
    "    print(\"\\nShape:\", df.shape)\n",
    "    print(\"\\nColumns and Data Types:\\n\", df.dtypes)\n",
    "    print(\"\\nMissing Values:\\n\", df.isnull().sum())\n",
    "    print(\"\\nPreview:\\n\", df.head(3))"
   ]
  },
  {
   "cell_type": "code",
   "execution_count": null,
   "metadata": {},
   "outputs": [],
   "source": [
    "df_ec = pd.read_csv(file_path_ec, sep=\",\", engine=\"python\")"
   ]
  },
  {
   "cell_type": "code",
   "execution_count": null,
   "metadata": {},
   "outputs": [
    {
     "name": "stdout",
     "output_type": "stream",
     "text": [
      "\"client_id,Variation\"\n",
      "\n",
      "\"9988021,Test\"\n",
      "\n",
      "\"8320017,Test\"\n",
      "\n",
      "\"4033851,Control\"\n",
      "\n",
      "\"1982004,Test\"\n",
      "\n"
     ]
    }
   ],
   "source": [
    "# with open(file_path_ec, 'r') as f:\n",
    "#     for _ in range(5):\n",
    "#         print(f.readline())"
   ]
  },
  {
   "cell_type": "code",
   "execution_count": null,
   "metadata": {},
   "outputs": [
    {
     "name": "stdout",
     "output_type": "stream",
     "text": [
      "<class 'pandas.core.frame.DataFrame'>\n",
      "RangeIndex: 70609 entries, 0 to 70608\n",
      "Data columns (total 1 columns):\n",
      " #   Column               Non-Null Count  Dtype \n",
      "---  ------               --------------  ----- \n",
      " 0   client_id,Variation  70609 non-null  object\n",
      "dtypes: object(1)\n",
      "memory usage: 551.8+ KB\n"
     ]
    }
   ],
   "source": [
    "df_ec.head()\n",
    "df_ec.columns\n",
    "df_ec.info()"
   ]
  }
 ],
 "metadata": {
  "kernelspec": {
   "display_name": "base",
   "language": "python",
   "name": "python3"
  },
  "language_info": {
   "codemirror_mode": {
    "name": "ipython",
    "version": 3
   },
   "file_extension": ".py",
   "mimetype": "text/x-python",
   "name": "python",
   "nbconvert_exporter": "python",
   "pygments_lexer": "ipython3",
   "version": "3.12.2"
  }
 },
 "nbformat": 4,
 "nbformat_minor": 2
}
