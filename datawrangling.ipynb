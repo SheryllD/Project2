{
 "cells": [
  {
   "cell_type": "markdown",
   "metadata": {},
   "source": [
    "Data wrangling "
   ]
  },
  {
   "cell_type": "markdown",
   "metadata": {},
   "source": [
    "Importing Libraries"
   ]
  },
  {
   "cell_type": "code",
   "execution_count": null,
   "metadata": {},
   "outputs": [],
   "source": [
    "import pandas as pd\n",
    "import numpy as np\n",
    "import matplotlib.pyplot as plt\n",
    "import seaborn as sns\n",
    "import warnings\n",
    "from datetime import datetime\n",
    "from IPython.display import display\n",
    "warnings.filterwarnings('ignore')"
   ]
  },
  {
   "cell_type": "code",
   "execution_count": null,
   "metadata": {},
   "outputs": [],
   "source": [
    "# Changing data txt files to csv\n",
    "\n",
    "df = pd.read_csv('Datasets/Datasets_raw/df_final_demo.txt', delimiter='\\t')  # or use ' ' for space\n",
    "# Save as CSV\n",
    "df.to_csv('Datasets/Datasets_raw/df_final_demo.csv', index=False)\n",
    "df = pd.read_csv('Datasets/Datasets_raw/df_final_demo.csv')  # assumes comma\n",
    "#df.to_csv('your_file.csv', index=False)\n",
    "\n",
    "# Experiment Clients \n",
    "df = pd.read_csv('Datasets/Datasets_raw/df_final_experiment_clients.txt', delimiter='\\t')  # or use ' ' for space\n",
    "# Save as CSV\n",
    "df.to_csv('Datasets/Datasets_raw/df_final_experiment_clients.csv', index=False)\n",
    "df = pd.read_csv('Datasets/Datasets_raw/df_final_experiment_clients.csv')\n",
    "\n",
    "#webdata_pt 1\n",
    "df = pd.read_csv('Datasets/Datasets_raw/df_final_web_data_pt_1.txt', delimiter='\\t')  # or use ' ' for space\n",
    "# Save as CSV\n",
    "df.to_csv('Datasets/Datasets_raw/df_final_web_data_pt_1.csv', index=False)\n",
    "df = pd.read_csv('Datasets/Datasets_raw/df_final_web_data_pt_1.csv')\n",
    "\n",
    "#webdata_pt 2\n",
    "df = pd.read_csv('Datasets/Datasets_raw/df_final_web_data_pt_2.txt', delimiter='\\t')  # or use ' ' for space\n",
    "# Save as CSV\n",
    "df.to_csv('Datasets/Datasets_raw/df_final_web_data_pt_2.csv', index=False)\n",
    "df = pd.read_csv('Datasets/Datasets_raw/df_final_web_data_pt_2.csv')"
   ]
  },
  {
   "cell_type": "markdown",
   "metadata": {},
   "source": [
    "# Loading the datasets"
   ]
  },
  {
   "cell_type": "code",
   "execution_count": null,
   "metadata": {},
   "outputs": [],
   "source": [
    "file_path = 'Datasets/Datasets_raw/df_final_web_data_pt_2.csv'"
   ]
  }
 ],
 "metadata": {
  "kernelspec": {
   "display_name": "Python [conda env:base] *",
   "language": "python",
   "name": "conda-base-py"
  },
  "language_info": {
   "codemirror_mode": {
    "name": "ipython",
    "version": 3
   },
   "file_extension": ".py",
   "mimetype": "text/x-python",
   "name": "python",
   "nbconvert_exporter": "python",
   "pygments_lexer": "ipython3",
   "version": "3.12.7"
  }
 },
 "nbformat": 4,
 "nbformat_minor": 4
}
