{
 "cells": [
  {
   "cell_type": "markdown",
   "metadata": {},
   "source": [
    "# Data wrangling Project 2\n",
    "This file is used for exploring and refining the datasets."
   ]
  },
  {
   "cell_type": "markdown",
   "metadata": {},
   "source": [
    "Importing Libraries"
   ]
  },
  {
   "cell_type": "code",
   "execution_count": 3,
   "metadata": {},
   "outputs": [],
   "source": [
    "import pandas as pd\n",
    "import numpy as np\n",
    "import matplotlib.pyplot as plt\n",
    "import seaborn as sns\n",
    "import warnings\n",
    "from datetime import datetime\n",
    "from IPython.display import display\n",
    "warnings.filterwarnings('ignore')"
   ]
  },
  {
   "cell_type": "code",
   "execution_count": null,
   "metadata": {},
   "outputs": [],
   "source": [
    "# Changing data txt files to csv\n",
    "df = pd.read_csv('Datasets/Datasets_raw/df_final_demo.txt', delimiter='\\t')  # or use ' ' for space\n",
    "# Save as CSV\n",
    "df.to_csv('Datasets/Datasets_raw/df_final_demo.csv', index=False)\n",
    "df = pd.read_csv('Datasets/Datasets_raw/df_final_demo.csv')  # assumes comma\n",
    "#df.to_csv('your_file.csv', index=False)\n",
    "\n",
    "# Experiment Clients \n",
    "df = pd.read_csv('Datasets/Datasets_raw/df_final_experiment_clients.txt', delimiter='\\t')  # or use ' ' for space\n",
    "# Save as CSV\n",
    "df.to_csv('Datasets/Datasets_raw/df_final_experiment_clients.csv', index=False)\n",
    "df = pd.read_csv('Datasets/Datasets_raw/df_final_experiment_clients.csv')\n",
    "\n",
    "#webdata_pt 1\n",
    "df = pd.read_csv('Datasets/Datasets_raw/df_final_web_data_pt_1.txt', delimiter='\\t')  # or use ' ' for space\n",
    "# Save as CSV\n",
    "df.to_csv('Datasets/Datasets_raw/df_final_web_data_pt_1.csv', index=False)\n",
    "df = pd.read_csv('Datasets/Datasets_raw/df_final_web_data_pt_1.csv')\n",
    "\n",
    "#webdata_pt 2\n",
    "df = pd.read_csv('Datasets/Datasets_raw/df_final_web_data_pt_2.txt', delimiter='\\t')  # or use ' ' for space\n",
    "# Save as CSV\n",
    "df.to_csv('Datasets/Datasets_raw/df_final_web_data_pt_2.csv', index=False)\n",
    "df = pd.read_csv('Datasets/Datasets_raw/df_final_web_data_pt_2.csv')"
   ]
  },
  {
   "cell_type": "markdown",
   "metadata": {},
   "source": [
    "# Loading the datasets"
   ]
  },
  {
   "cell_type": "code",
   "execution_count": 4,
   "metadata": {},
   "outputs": [],
   "source": [
    "# Defining the file path \n",
    "file_path_demo = 'Datasets/Datasets_raw/df_final_demo.csv'\n",
    "file_path_ec = 'Datasets/Datasets_raw/df_final_experiment_clients.csv'\n",
    "file_path_fwd1 = 'Datasets/Datasets_raw/df_final_web_data_pt_1.csv'\n",
    "file_path_fwd2 = 'Datasets/Datasets_raw/df_final_web_data_pt_2.csv'\n",
    "\n",
    "# Loading the CSV files into DataFrames\n",
    "df_demo = pd.read_csv(file_path_demo)\n",
    "df_ec = pd.read_csv(file_path_ec)\n",
    "df_fwd1 = pd.read_csv(file_path_fwd1)\n",
    "df_fwd2 = pd.read_csv(file_path_fwd2)"
   ]
  },
  {
   "cell_type": "markdown",
   "metadata": {},
   "source": [
    "# Exploring the datasets"
   ]
  },
  {
   "cell_type": "code",
   "execution_count": null,
   "metadata": {},
   "outputs": [],
   "source": []
  },
  {
   "cell_type": "code",
   "execution_count": null,
   "metadata": {},
   "outputs": [],
   "source": []
  },
  {
   "cell_type": "code",
   "execution_count": null,
   "metadata": {},
   "outputs": [],
   "source": []
  }
 ],
 "metadata": {
  "kernelspec": {
   "display_name": "base",
   "language": "python",
   "name": "python3"
  },
  "language_info": {
   "codemirror_mode": {
    "name": "ipython",
    "version": 3
   },
   "file_extension": ".py",
   "mimetype": "text/x-python",
   "name": "python",
   "nbconvert_exporter": "python",
   "pygments_lexer": "ipython3",
   "version": "3.12.2"
  }
 },
 "nbformat": 4,
 "nbformat_minor": 2
}
