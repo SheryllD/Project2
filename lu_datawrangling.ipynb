{
 "cells": [
  {
   "cell_type": "code",
   "execution_count": 1,
   "id": "8150e9dc",
   "metadata": {},
   "outputs": [],
   "source": [
    "# Importing Libraries\n",
    "import pandas as pd\n",
    "import numpy as np\n",
    "import matplotlib.pyplot as plt\n",
    "import seaborn as sns"
   ]
  },
  {
   "cell_type": "markdown",
   "id": "9f1d1e6e",
   "metadata": {},
   "source": [
    "Loading Relavant Datasets"
   ]
  },
  {
   "cell_type": "code",
   "execution_count": 2,
   "id": "0c2585f6",
   "metadata": {},
   "outputs": [],
   "source": [
    "# Client Profiles (df_final_demo): Demographics like age, gender, and account details of our clients.\n",
    "df_client = pd.read_csv('C:/Users/luson/IH_QUESTS/Project2/Datasets/Datasets_raw/df_final_demo.txt')\n",
    "\n",
    "# Experiment Client (df_final_experiment_clients): A list revealing which clients were part of the grand experiment.\n",
    "df_ec = pd.read_csv('C:/Users/luson/IH_QUESTS/Project2/Datasets/Datasets_raw/df_final_experiment_clients.txt')\n",
    "\n",
    "# Digital Footprints (df_final_web_data): A detailed trace of client interactions online, divided into two parts:\n",
    "df_fwd1 = pd.read_csv('C:/Users/luson/IH_QUESTS/Project2/Datasets/Datasets_raw/df_final_web_data_pt_1.txt')\n",
    "df_fwd2 = pd.read_csv('C:/Users/luson/IH_QUESTS/Project2/Datasets/Datasets_raw/df_final_web_data_pt_2.txt')"
   ]
  },
  {
   "cell_type": "markdown",
   "id": "faaac624",
   "metadata": {},
   "source": [
    "Data Combining"
   ]
  },
  {
   "cell_type": "code",
   "execution_count": 3,
   "id": "951f4e76",
   "metadata": {},
   "outputs": [],
   "source": [
    "# Merging the two parts of the digital footprints into a single DataFrame.\n",
    "df_web = pd.concat([df_fwd1, df_fwd2], ignore_index=True)\n",
    "# df_web"
   ]
  },
  {
   "cell_type": "markdown",
   "id": "66a2184d",
   "metadata": {},
   "source": [
    "Standardize Column Names"
   ]
  },
  {
   "cell_type": "code",
   "execution_count": null,
   "id": "99a33d91",
   "metadata": {},
   "outputs": [],
   "source": [
    "# Only found in df_ec where 'Variation' is not all lowercase. \n",
    "# The other dataframe columns are already lowercase, and easy to understand.\n",
    "df_ec.columns = df_ec.columns.str.lower()"
   ]
  },
  {
   "cell_type": "markdown",
   "id": "222d3594",
   "metadata": {},
   "source": [
    "Checking Null Vaules in dataframes"
   ]
  },
  {
   "cell_type": "code",
   "execution_count": null,
   "id": "4fd5aca8",
   "metadata": {},
   "outputs": [
    {
     "data": {
      "text/plain": [
       "client_id            0\n",
       "clnt_tenure_yr      14\n",
       "clnt_tenure_mnth    14\n",
       "clnt_age            15\n",
       "gendr               14\n",
       "num_accts           14\n",
       "bal                 14\n",
       "calls_6_mnth        14\n",
       "logons_6_mnth       14\n",
       "dtype: int64"
      ]
     },
     "execution_count": 4,
     "metadata": {},
     "output_type": "execute_result"
    }
   ],
   "source": [
    "# df_client has very few missing values, and the columns with missing values are not so important for our analysis. So we can keep the nulls.\n",
    "df_client.isnull().sum()"
   ]
  },
  {
   "cell_type": "code",
   "execution_count": 26,
   "id": "15131b74",
   "metadata": {},
   "outputs": [
    {
     "data": {
      "text/plain": [
       "client_id    0\n",
       "variation    0\n",
       "dtype: int64"
      ]
     },
     "execution_count": 26,
     "metadata": {},
     "output_type": "execute_result"
    }
   ],
   "source": [
    "# in df_ec there are 20,109 missing values in the column 'variation'.\n",
    "# This column shows whether the client was part of the experiment or not, and which group (control or test) So we can drop the null values.\n",
    "df_ec.dropna(inplace=True)\n",
    "df_ec.isnull().sum()"
   ]
  },
  {
   "cell_type": "code",
   "execution_count": 27,
   "id": "f2dbb678",
   "metadata": {},
   "outputs": [
    {
     "data": {
      "text/plain": [
       "client_id       0\n",
       "visitor_id      0\n",
       "visit_id        0\n",
       "process_step    0\n",
       "date_time       0\n",
       "dtype: int64"
      ]
     },
     "execution_count": 27,
     "metadata": {},
     "output_type": "execute_result"
    }
   ],
   "source": [
    "# in df_web there are no null values.\n",
    "df_web.isnull().sum()"
   ]
  },
  {
   "cell_type": "markdown",
   "id": "1f7196a2",
   "metadata": {},
   "source": [
    "Demographics"
   ]
  },
  {
   "cell_type": "code",
   "execution_count": 28,
   "id": "34d006fd",
   "metadata": {},
   "outputs": [],
   "source": [
    "#Are the primary clients younger or older, new or long-standing?"
   ]
  },
  {
   "cell_type": "code",
   "execution_count": 29,
   "id": "14f7772b",
   "metadata": {},
   "outputs": [],
   "source": [
    "# Who are the primary clients using this online process?\n",
    "# Join the df_client and df_ec dataframes on the 'client_id' column to get a comprehensive view of the clients involved in the experiment.\n",
    "df_client_experiment = df_ec.merge(df_client, on='client_id', how='left')"
   ]
  },
  {
   "cell_type": "code",
   "execution_count": 30,
   "id": "c9806d5d",
   "metadata": {},
   "outputs": [
    {
     "data": {
      "application/vnd.microsoft.datawrangler.viewer.v0+json": {
       "columns": [
        {
         "name": "index",
         "rawType": "int64",
         "type": "integer"
        },
        {
         "name": "client_id",
         "rawType": "int64",
         "type": "integer"
        },
        {
         "name": "variation",
         "rawType": "object",
         "type": "string"
        },
        {
         "name": "clnt_tenure_yr",
         "rawType": "float64",
         "type": "float"
        },
        {
         "name": "clnt_tenure_mnth",
         "rawType": "float64",
         "type": "float"
        },
        {
         "name": "clnt_age",
         "rawType": "float64",
         "type": "float"
        },
        {
         "name": "gendr",
         "rawType": "object",
         "type": "string"
        },
        {
         "name": "num_accts",
         "rawType": "float64",
         "type": "float"
        },
        {
         "name": "bal",
         "rawType": "float64",
         "type": "float"
        },
        {
         "name": "calls_6_mnth",
         "rawType": "float64",
         "type": "float"
        },
        {
         "name": "logons_6_mnth",
         "rawType": "float64",
         "type": "float"
        }
       ],
       "conversionMethod": "pd.DataFrame",
       "ref": "191bab69-437a-47df-becc-fdecd8f37eba",
       "rows": [
        [
         "0",
         "9988021",
         "Test",
         "5.0",
         "64.0",
         "79.0",
         "U",
         "2.0",
         "189023.86",
         "1.0",
         "4.0"
        ],
        [
         "1",
         "8320017",
         "Test",
         "22.0",
         "274.0",
         "34.5",
         "M",
         "2.0",
         "36001.899999999994",
         "5.0",
         "8.0"
        ],
        [
         "2",
         "4033851",
         "Control",
         "12.0",
         "149.0",
         "63.5",
         "M",
         "2.0",
         "142642.26",
         "5.0",
         "8.0"
        ],
        [
         "3",
         "1982004",
         "Test",
         "6.0",
         "80.0",
         "44.5",
         "U",
         "2.0",
         "30231.76",
         "1.0",
         "4.0"
        ],
        [
         "4",
         "9294070",
         "Control",
         "5.0",
         "70.0",
         "29.0",
         "U",
         "2.0",
         "34254.54",
         "0.0",
         "3.0"
        ]
       ],
       "shape": {
        "columns": 10,
        "rows": 5
       }
      },
      "text/html": [
       "<div>\n",
       "<style scoped>\n",
       "    .dataframe tbody tr th:only-of-type {\n",
       "        vertical-align: middle;\n",
       "    }\n",
       "\n",
       "    .dataframe tbody tr th {\n",
       "        vertical-align: top;\n",
       "    }\n",
       "\n",
       "    .dataframe thead th {\n",
       "        text-align: right;\n",
       "    }\n",
       "</style>\n",
       "<table border=\"1\" class=\"dataframe\">\n",
       "  <thead>\n",
       "    <tr style=\"text-align: right;\">\n",
       "      <th></th>\n",
       "      <th>client_id</th>\n",
       "      <th>variation</th>\n",
       "      <th>clnt_tenure_yr</th>\n",
       "      <th>clnt_tenure_mnth</th>\n",
       "      <th>clnt_age</th>\n",
       "      <th>gendr</th>\n",
       "      <th>num_accts</th>\n",
       "      <th>bal</th>\n",
       "      <th>calls_6_mnth</th>\n",
       "      <th>logons_6_mnth</th>\n",
       "    </tr>\n",
       "  </thead>\n",
       "  <tbody>\n",
       "    <tr>\n",
       "      <th>0</th>\n",
       "      <td>9988021</td>\n",
       "      <td>Test</td>\n",
       "      <td>5.0</td>\n",
       "      <td>64.0</td>\n",
       "      <td>79.0</td>\n",
       "      <td>U</td>\n",
       "      <td>2.0</td>\n",
       "      <td>189023.86</td>\n",
       "      <td>1.0</td>\n",
       "      <td>4.0</td>\n",
       "    </tr>\n",
       "    <tr>\n",
       "      <th>1</th>\n",
       "      <td>8320017</td>\n",
       "      <td>Test</td>\n",
       "      <td>22.0</td>\n",
       "      <td>274.0</td>\n",
       "      <td>34.5</td>\n",
       "      <td>M</td>\n",
       "      <td>2.0</td>\n",
       "      <td>36001.90</td>\n",
       "      <td>5.0</td>\n",
       "      <td>8.0</td>\n",
       "    </tr>\n",
       "    <tr>\n",
       "      <th>2</th>\n",
       "      <td>4033851</td>\n",
       "      <td>Control</td>\n",
       "      <td>12.0</td>\n",
       "      <td>149.0</td>\n",
       "      <td>63.5</td>\n",
       "      <td>M</td>\n",
       "      <td>2.0</td>\n",
       "      <td>142642.26</td>\n",
       "      <td>5.0</td>\n",
       "      <td>8.0</td>\n",
       "    </tr>\n",
       "    <tr>\n",
       "      <th>3</th>\n",
       "      <td>1982004</td>\n",
       "      <td>Test</td>\n",
       "      <td>6.0</td>\n",
       "      <td>80.0</td>\n",
       "      <td>44.5</td>\n",
       "      <td>U</td>\n",
       "      <td>2.0</td>\n",
       "      <td>30231.76</td>\n",
       "      <td>1.0</td>\n",
       "      <td>4.0</td>\n",
       "    </tr>\n",
       "    <tr>\n",
       "      <th>4</th>\n",
       "      <td>9294070</td>\n",
       "      <td>Control</td>\n",
       "      <td>5.0</td>\n",
       "      <td>70.0</td>\n",
       "      <td>29.0</td>\n",
       "      <td>U</td>\n",
       "      <td>2.0</td>\n",
       "      <td>34254.54</td>\n",
       "      <td>0.0</td>\n",
       "      <td>3.0</td>\n",
       "    </tr>\n",
       "  </tbody>\n",
       "</table>\n",
       "</div>"
      ],
      "text/plain": [
       "   client_id variation  clnt_tenure_yr  clnt_tenure_mnth  clnt_age gendr  \\\n",
       "0    9988021      Test             5.0              64.0      79.0     U   \n",
       "1    8320017      Test            22.0             274.0      34.5     M   \n",
       "2    4033851   Control            12.0             149.0      63.5     M   \n",
       "3    1982004      Test             6.0              80.0      44.5     U   \n",
       "4    9294070   Control             5.0              70.0      29.0     U   \n",
       "\n",
       "   num_accts        bal  calls_6_mnth  logons_6_mnth  \n",
       "0        2.0  189023.86           1.0            4.0  \n",
       "1        2.0   36001.90           5.0            8.0  \n",
       "2        2.0  142642.26           5.0            8.0  \n",
       "3        2.0   30231.76           1.0            4.0  \n",
       "4        2.0   34254.54           0.0            3.0  "
      ]
     },
     "execution_count": 30,
     "metadata": {},
     "output_type": "execute_result"
    }
   ],
   "source": [
    "df_client_experiment.head()"
   ]
  },
  {
   "cell_type": "markdown",
   "id": "18519e85",
   "metadata": {},
   "source": [
    "Basic demographics of the clients in the experiment."
   ]
  },
  {
   "cell_type": "code",
   "execution_count": null,
   "id": "b89cdcd0",
   "metadata": {},
   "outputs": [
    {
     "data": {
      "text/plain": [
       "variation\n",
       "Test       26968\n",
       "Control    23532\n",
       "Name: count, dtype: int64"
      ]
     },
     "execution_count": 32,
     "metadata": {},
     "output_type": "execute_result"
    }
   ],
   "source": [
    "# spilit bewteen the control and test groups.\n",
    "variation_counts=df_client_experiment['variation'].value_counts()"
   ]
  }
 ],
 "metadata": {
  "kernelspec": {
   "display_name": "base",
   "language": "python",
   "name": "python3"
  },
  "language_info": {
   "codemirror_mode": {
    "name": "ipython",
    "version": 3
   },
   "file_extension": ".py",
   "mimetype": "text/x-python",
   "name": "python",
   "nbconvert_exporter": "python",
   "pygments_lexer": "ipython3",
   "version": "3.12.7"
  }
 },
 "nbformat": 4,
 "nbformat_minor": 5
}
