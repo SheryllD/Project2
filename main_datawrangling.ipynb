{
 "cells": [
  {
   "cell_type": "markdown",
   "metadata": {},
   "source": [
    "# Data wrangling Project 2\n",
    "This file is used for exploring and refining the datasets."
   ]
  },
  {
   "cell_type": "markdown",
   "metadata": {},
   "source": [
    "Importing Libraries"
   ]
  },
  {
   "cell_type": "code",
   "execution_count": 366,
   "metadata": {},
   "outputs": [],
   "source": [
    "import pandas as pd\n",
    "import numpy as np\n",
    "\n",
    "import matplotlib.pyplot as plt\n",
    "import seaborn as sns\n",
    "import warnings\n",
    "from datetime import datetime\n",
    "from IPython.display import display\n",
    "from scipy.stats import ttest_ind, chi2_contingency\n",
    "\n",
    "# Ignore warnings\n",
    "warnings.filterwarnings('ignore')"
   ]
  },
  {
   "cell_type": "markdown",
   "metadata": {},
   "source": [
    "# Loading the datasets"
   ]
  },
  {
   "cell_type": "markdown",
   "metadata": {},
   "source": [
    "Just with .txt files, without converting it to csv (works perfectly fine)"
   ]
  },
  {
   "cell_type": "code",
   "execution_count": 369,
   "metadata": {},
   "outputs": [],
   "source": [
    "# Defining the file path \n",
    "file_path_client = 'Datasets/Datasets_raw/df_final_experiment_clients.txt'\n",
    "file_path_fwd1 = 'Datasets/Datasets_raw/df_final_web_data_pt_1.txt'\n",
    "file_path_fwd2 = 'Datasets/Datasets_raw/df_final_web_data_pt_2.txt'\n",
    "\n",
    "# Defining the file path for the demo set\n",
    "file_path_demo = 'Datasets/Datasets_raw/df_final_demo.txt'\n",
    "\n",
    "# Loading the CSV files into DataFrames\n",
    "df_client = pd.read_csv(file_path_client)\n",
    "df_fwd1 = pd.read_csv(file_path_fwd1)\n",
    "df_fwd2 = pd.read_csv(file_path_fwd2)\n",
    "\n",
    "# Loading the demo file into Dataframe\n",
    "df_demo = pd.read_csv(file_path_demo)"
   ]
  },
  {
   "cell_type": "markdown",
   "metadata": {},
   "source": [
    "## Naming of the dataframes \n",
    "Here are all the information about the datasets that are merged together\n",
    "- df_web = web data 1 and web data 2 merged together \n",
    "- df_web_ec = experiment clients data + web d1 + web df2\n",
    "- df_merged = df start + df demo "
   ]
  },
  {
   "cell_type": "markdown",
   "metadata": {},
   "source": [
    "# Exploring the datasets"
   ]
  },
  {
   "cell_type": "markdown",
   "metadata": {},
   "source": [
    "### Exploring the webdataset  part 1 "
   ]
  },
  {
   "cell_type": "code",
   "execution_count": 373,
   "metadata": {},
   "outputs": [
    {
     "data": {
      "text/html": [
       "<div>\n",
       "<style scoped>\n",
       "    .dataframe tbody tr th:only-of-type {\n",
       "        vertical-align: middle;\n",
       "    }\n",
       "\n",
       "    .dataframe tbody tr th {\n",
       "        vertical-align: top;\n",
       "    }\n",
       "\n",
       "    .dataframe thead th {\n",
       "        text-align: right;\n",
       "    }\n",
       "</style>\n",
       "<table border=\"1\" class=\"dataframe\">\n",
       "  <thead>\n",
       "    <tr style=\"text-align: right;\">\n",
       "      <th></th>\n",
       "      <th>client_id</th>\n",
       "      <th>visitor_id</th>\n",
       "      <th>visit_id</th>\n",
       "      <th>process_step</th>\n",
       "      <th>date_time</th>\n",
       "    </tr>\n",
       "  </thead>\n",
       "  <tbody>\n",
       "    <tr>\n",
       "      <th>0</th>\n",
       "      <td>9988021</td>\n",
       "      <td>580560515_7732621733</td>\n",
       "      <td>781255054_21935453173_531117</td>\n",
       "      <td>step_3</td>\n",
       "      <td>2017-04-17 15:27:07</td>\n",
       "    </tr>\n",
       "    <tr>\n",
       "      <th>1</th>\n",
       "      <td>9988021</td>\n",
       "      <td>580560515_7732621733</td>\n",
       "      <td>781255054_21935453173_531117</td>\n",
       "      <td>step_2</td>\n",
       "      <td>2017-04-17 15:26:51</td>\n",
       "    </tr>\n",
       "    <tr>\n",
       "      <th>2</th>\n",
       "      <td>9988021</td>\n",
       "      <td>580560515_7732621733</td>\n",
       "      <td>781255054_21935453173_531117</td>\n",
       "      <td>step_3</td>\n",
       "      <td>2017-04-17 15:19:22</td>\n",
       "    </tr>\n",
       "    <tr>\n",
       "      <th>3</th>\n",
       "      <td>9988021</td>\n",
       "      <td>580560515_7732621733</td>\n",
       "      <td>781255054_21935453173_531117</td>\n",
       "      <td>step_2</td>\n",
       "      <td>2017-04-17 15:19:13</td>\n",
       "    </tr>\n",
       "    <tr>\n",
       "      <th>4</th>\n",
       "      <td>9988021</td>\n",
       "      <td>580560515_7732621733</td>\n",
       "      <td>781255054_21935453173_531117</td>\n",
       "      <td>step_3</td>\n",
       "      <td>2017-04-17 15:18:04</td>\n",
       "    </tr>\n",
       "    <tr>\n",
       "      <th>...</th>\n",
       "      <td>...</td>\n",
       "      <td>...</td>\n",
       "      <td>...</td>\n",
       "      <td>...</td>\n",
       "      <td>...</td>\n",
       "    </tr>\n",
       "    <tr>\n",
       "      <th>343136</th>\n",
       "      <td>2443347</td>\n",
       "      <td>465784886_73090545671</td>\n",
       "      <td>136329900_10529659391_316129</td>\n",
       "      <td>confirm</td>\n",
       "      <td>2017-03-31 15:15:46</td>\n",
       "    </tr>\n",
       "    <tr>\n",
       "      <th>343137</th>\n",
       "      <td>2443347</td>\n",
       "      <td>465784886_73090545671</td>\n",
       "      <td>136329900_10529659391_316129</td>\n",
       "      <td>step_3</td>\n",
       "      <td>2017-03-31 15:14:53</td>\n",
       "    </tr>\n",
       "    <tr>\n",
       "      <th>343138</th>\n",
       "      <td>2443347</td>\n",
       "      <td>465784886_73090545671</td>\n",
       "      <td>136329900_10529659391_316129</td>\n",
       "      <td>step_2</td>\n",
       "      <td>2017-03-31 15:12:08</td>\n",
       "    </tr>\n",
       "    <tr>\n",
       "      <th>343139</th>\n",
       "      <td>2443347</td>\n",
       "      <td>465784886_73090545671</td>\n",
       "      <td>136329900_10529659391_316129</td>\n",
       "      <td>step_1</td>\n",
       "      <td>2017-03-31 15:11:37</td>\n",
       "    </tr>\n",
       "    <tr>\n",
       "      <th>343140</th>\n",
       "      <td>2443347</td>\n",
       "      <td>465784886_73090545671</td>\n",
       "      <td>136329900_10529659391_316129</td>\n",
       "      <td>start</td>\n",
       "      <td>2017-03-31 15:10:47</td>\n",
       "    </tr>\n",
       "  </tbody>\n",
       "</table>\n",
       "<p>343141 rows × 5 columns</p>\n",
       "</div>"
      ],
      "text/plain": [
       "        client_id             visitor_id                      visit_id  \\\n",
       "0         9988021   580560515_7732621733  781255054_21935453173_531117   \n",
       "1         9988021   580560515_7732621733  781255054_21935453173_531117   \n",
       "2         9988021   580560515_7732621733  781255054_21935453173_531117   \n",
       "3         9988021   580560515_7732621733  781255054_21935453173_531117   \n",
       "4         9988021   580560515_7732621733  781255054_21935453173_531117   \n",
       "...           ...                    ...                           ...   \n",
       "343136    2443347  465784886_73090545671  136329900_10529659391_316129   \n",
       "343137    2443347  465784886_73090545671  136329900_10529659391_316129   \n",
       "343138    2443347  465784886_73090545671  136329900_10529659391_316129   \n",
       "343139    2443347  465784886_73090545671  136329900_10529659391_316129   \n",
       "343140    2443347  465784886_73090545671  136329900_10529659391_316129   \n",
       "\n",
       "       process_step            date_time  \n",
       "0            step_3  2017-04-17 15:27:07  \n",
       "1            step_2  2017-04-17 15:26:51  \n",
       "2            step_3  2017-04-17 15:19:22  \n",
       "3            step_2  2017-04-17 15:19:13  \n",
       "4            step_3  2017-04-17 15:18:04  \n",
       "...             ...                  ...  \n",
       "343136      confirm  2017-03-31 15:15:46  \n",
       "343137       step_3  2017-03-31 15:14:53  \n",
       "343138       step_2  2017-03-31 15:12:08  \n",
       "343139       step_1  2017-03-31 15:11:37  \n",
       "343140        start  2017-03-31 15:10:47  \n",
       "\n",
       "[343141 rows x 5 columns]"
      ]
     },
     "execution_count": 373,
     "metadata": {},
     "output_type": "execute_result"
    }
   ],
   "source": [
    "# Here I am checking the columns of the dataframes if the first web data file\n",
    "df_fwd1"
   ]
  },
  {
   "cell_type": "code",
   "execution_count": 374,
   "metadata": {},
   "outputs": [],
   "source": [
    "# df_fwd1.info()\n",
    "# df_fwd1.head()"
   ]
  },
  {
   "cell_type": "markdown",
   "metadata": {},
   "source": [
    "### Exploring the webdataset  part 2"
   ]
  },
  {
   "cell_type": "code",
   "execution_count": 376,
   "metadata": {},
   "outputs": [
    {
     "data": {
      "text/html": [
       "<div>\n",
       "<style scoped>\n",
       "    .dataframe tbody tr th:only-of-type {\n",
       "        vertical-align: middle;\n",
       "    }\n",
       "\n",
       "    .dataframe tbody tr th {\n",
       "        vertical-align: top;\n",
       "    }\n",
       "\n",
       "    .dataframe thead th {\n",
       "        text-align: right;\n",
       "    }\n",
       "</style>\n",
       "<table border=\"1\" class=\"dataframe\">\n",
       "  <thead>\n",
       "    <tr style=\"text-align: right;\">\n",
       "      <th></th>\n",
       "      <th>client_id</th>\n",
       "      <th>visitor_id</th>\n",
       "      <th>visit_id</th>\n",
       "      <th>process_step</th>\n",
       "      <th>date_time</th>\n",
       "    </tr>\n",
       "  </thead>\n",
       "  <tbody>\n",
       "    <tr>\n",
       "      <th>0</th>\n",
       "      <td>763412</td>\n",
       "      <td>601952081_10457207388</td>\n",
       "      <td>397475557_40440946728_419634</td>\n",
       "      <td>confirm</td>\n",
       "      <td>2017-06-06 08:56:00</td>\n",
       "    </tr>\n",
       "    <tr>\n",
       "      <th>1</th>\n",
       "      <td>6019349</td>\n",
       "      <td>442094451_91531546617</td>\n",
       "      <td>154620534_35331068705_522317</td>\n",
       "      <td>confirm</td>\n",
       "      <td>2017-06-01 11:59:27</td>\n",
       "    </tr>\n",
       "    <tr>\n",
       "      <th>2</th>\n",
       "      <td>6019349</td>\n",
       "      <td>442094451_91531546617</td>\n",
       "      <td>154620534_35331068705_522317</td>\n",
       "      <td>step_3</td>\n",
       "      <td>2017-06-01 11:58:48</td>\n",
       "    </tr>\n",
       "    <tr>\n",
       "      <th>3</th>\n",
       "      <td>6019349</td>\n",
       "      <td>442094451_91531546617</td>\n",
       "      <td>154620534_35331068705_522317</td>\n",
       "      <td>step_2</td>\n",
       "      <td>2017-06-01 11:58:08</td>\n",
       "    </tr>\n",
       "    <tr>\n",
       "      <th>4</th>\n",
       "      <td>6019349</td>\n",
       "      <td>442094451_91531546617</td>\n",
       "      <td>154620534_35331068705_522317</td>\n",
       "      <td>step_1</td>\n",
       "      <td>2017-06-01 11:57:58</td>\n",
       "    </tr>\n",
       "    <tr>\n",
       "      <th>...</th>\n",
       "      <td>...</td>\n",
       "      <td>...</td>\n",
       "      <td>...</td>\n",
       "      <td>...</td>\n",
       "      <td>...</td>\n",
       "    </tr>\n",
       "    <tr>\n",
       "      <th>412259</th>\n",
       "      <td>9668240</td>\n",
       "      <td>388766751_9038881013</td>\n",
       "      <td>922267647_3096648104_968866</td>\n",
       "      <td>start</td>\n",
       "      <td>2017-05-24 18:46:10</td>\n",
       "    </tr>\n",
       "    <tr>\n",
       "      <th>412260</th>\n",
       "      <td>9668240</td>\n",
       "      <td>388766751_9038881013</td>\n",
       "      <td>922267647_3096648104_968866</td>\n",
       "      <td>start</td>\n",
       "      <td>2017-05-24 18:45:29</td>\n",
       "    </tr>\n",
       "    <tr>\n",
       "      <th>412261</th>\n",
       "      <td>9668240</td>\n",
       "      <td>388766751_9038881013</td>\n",
       "      <td>922267647_3096648104_968866</td>\n",
       "      <td>step_1</td>\n",
       "      <td>2017-05-24 18:44:51</td>\n",
       "    </tr>\n",
       "    <tr>\n",
       "      <th>412262</th>\n",
       "      <td>9668240</td>\n",
       "      <td>388766751_9038881013</td>\n",
       "      <td>922267647_3096648104_968866</td>\n",
       "      <td>start</td>\n",
       "      <td>2017-05-24 18:44:34</td>\n",
       "    </tr>\n",
       "    <tr>\n",
       "      <th>412263</th>\n",
       "      <td>674799</td>\n",
       "      <td>947159805_81558194550</td>\n",
       "      <td>86152093_47511127657_716022</td>\n",
       "      <td>start</td>\n",
       "      <td>2017-06-03 12:17:09</td>\n",
       "    </tr>\n",
       "  </tbody>\n",
       "</table>\n",
       "<p>412264 rows × 5 columns</p>\n",
       "</div>"
      ],
      "text/plain": [
       "        client_id             visitor_id                      visit_id  \\\n",
       "0          763412  601952081_10457207388  397475557_40440946728_419634   \n",
       "1         6019349  442094451_91531546617  154620534_35331068705_522317   \n",
       "2         6019349  442094451_91531546617  154620534_35331068705_522317   \n",
       "3         6019349  442094451_91531546617  154620534_35331068705_522317   \n",
       "4         6019349  442094451_91531546617  154620534_35331068705_522317   \n",
       "...           ...                    ...                           ...   \n",
       "412259    9668240   388766751_9038881013   922267647_3096648104_968866   \n",
       "412260    9668240   388766751_9038881013   922267647_3096648104_968866   \n",
       "412261    9668240   388766751_9038881013   922267647_3096648104_968866   \n",
       "412262    9668240   388766751_9038881013   922267647_3096648104_968866   \n",
       "412263     674799  947159805_81558194550   86152093_47511127657_716022   \n",
       "\n",
       "       process_step            date_time  \n",
       "0           confirm  2017-06-06 08:56:00  \n",
       "1           confirm  2017-06-01 11:59:27  \n",
       "2            step_3  2017-06-01 11:58:48  \n",
       "3            step_2  2017-06-01 11:58:08  \n",
       "4            step_1  2017-06-01 11:57:58  \n",
       "...             ...                  ...  \n",
       "412259        start  2017-05-24 18:46:10  \n",
       "412260        start  2017-05-24 18:45:29  \n",
       "412261       step_1  2017-05-24 18:44:51  \n",
       "412262        start  2017-05-24 18:44:34  \n",
       "412263        start  2017-06-03 12:17:09  \n",
       "\n",
       "[412264 rows x 5 columns]"
      ]
     },
     "execution_count": 376,
     "metadata": {},
     "output_type": "execute_result"
    }
   ],
   "source": [
    "# Here I am checking the columns and information of the second web data file\n",
    "df_fwd2"
   ]
  },
  {
   "cell_type": "code",
   "execution_count": 377,
   "metadata": {},
   "outputs": [],
   "source": [
    "# df_fwd2.info()\n",
    "# df_fwd2.head()"
   ]
  },
  {
   "cell_type": "markdown",
   "metadata": {},
   "source": [
    "### Exploring the dataset experiment client "
   ]
  },
  {
   "cell_type": "code",
   "execution_count": 379,
   "metadata": {},
   "outputs": [],
   "source": [
    "# Reviewing the dataset client\n",
    "# df_client"
   ]
  },
  {
   "cell_type": "code",
   "execution_count": 380,
   "metadata": {},
   "outputs": [
    {
     "name": "stdout",
     "output_type": "stream",
     "text": [
      "['client_id', 'Variation']\n"
     ]
    }
   ],
   "source": [
    "# Here I am checking the columns of the dataframaes of the client file\n",
    "print(df_client.columns.tolist())"
   ]
  },
  {
   "cell_type": "code",
   "execution_count": 381,
   "metadata": {},
   "outputs": [],
   "source": [
    "# df_client.info()\n",
    "# df_client.head()"
   ]
  },
  {
   "cell_type": "code",
   "execution_count": 382,
   "metadata": {},
   "outputs": [
    {
     "data": {
      "text/plain": [
       "Index(['client_id', 'Variation'], dtype='object')"
      ]
     },
     "execution_count": 382,
     "metadata": {},
     "output_type": "execute_result"
    }
   ],
   "source": [
    "df_client.columns"
   ]
  },
  {
   "cell_type": "markdown",
   "metadata": {},
   "source": [
    "Checking for nulls, shapes and types from all datasets"
   ]
  },
  {
   "cell_type": "code",
   "execution_count": 384,
   "metadata": {},
   "outputs": [],
   "source": [
    "# # For each DataFrame\n",
    "# for name, df in [('df_demo', df_demo), ('df_client', df_client), ('df_fwd1', df_fwd1), ('df_fwd2', df_fwd2)]:\n",
    "#     print(f\"\\n===== {name} =====\")\n",
    "#     print(\"\\nShape:\", df.shape)\n",
    "#     print(\"\\nColumns and Data Types:\\n\", df.dtypes)\n",
    "#     print(\"\\nMissing Values:\\n\", df.isnull().sum())\n",
    "#     print(\"\\nPreview:\\n\", df.head(3))"
   ]
  },
  {
   "cell_type": "markdown",
   "metadata": {},
   "source": [
    "Merging the file web datasets of 1 and 2 together "
   ]
  },
  {
   "cell_type": "code",
   "execution_count": 386,
   "metadata": {},
   "outputs": [
    {
     "data": {
      "text/html": [
       "<div>\n",
       "<style scoped>\n",
       "    .dataframe tbody tr th:only-of-type {\n",
       "        vertical-align: middle;\n",
       "    }\n",
       "\n",
       "    .dataframe tbody tr th {\n",
       "        vertical-align: top;\n",
       "    }\n",
       "\n",
       "    .dataframe thead th {\n",
       "        text-align: right;\n",
       "    }\n",
       "</style>\n",
       "<table border=\"1\" class=\"dataframe\">\n",
       "  <thead>\n",
       "    <tr style=\"text-align: right;\">\n",
       "      <th></th>\n",
       "      <th>client_id</th>\n",
       "      <th>visitor_id</th>\n",
       "      <th>visit_id</th>\n",
       "      <th>process_step</th>\n",
       "      <th>date_time</th>\n",
       "    </tr>\n",
       "  </thead>\n",
       "  <tbody>\n",
       "    <tr>\n",
       "      <th>0</th>\n",
       "      <td>9988021</td>\n",
       "      <td>580560515_7732621733</td>\n",
       "      <td>781255054_21935453173_531117</td>\n",
       "      <td>step_3</td>\n",
       "      <td>2017-04-17 15:27:07</td>\n",
       "    </tr>\n",
       "    <tr>\n",
       "      <th>1</th>\n",
       "      <td>9988021</td>\n",
       "      <td>580560515_7732621733</td>\n",
       "      <td>781255054_21935453173_531117</td>\n",
       "      <td>step_2</td>\n",
       "      <td>2017-04-17 15:26:51</td>\n",
       "    </tr>\n",
       "    <tr>\n",
       "      <th>2</th>\n",
       "      <td>9988021</td>\n",
       "      <td>580560515_7732621733</td>\n",
       "      <td>781255054_21935453173_531117</td>\n",
       "      <td>step_3</td>\n",
       "      <td>2017-04-17 15:19:22</td>\n",
       "    </tr>\n",
       "    <tr>\n",
       "      <th>3</th>\n",
       "      <td>9988021</td>\n",
       "      <td>580560515_7732621733</td>\n",
       "      <td>781255054_21935453173_531117</td>\n",
       "      <td>step_2</td>\n",
       "      <td>2017-04-17 15:19:13</td>\n",
       "    </tr>\n",
       "    <tr>\n",
       "      <th>4</th>\n",
       "      <td>9988021</td>\n",
       "      <td>580560515_7732621733</td>\n",
       "      <td>781255054_21935453173_531117</td>\n",
       "      <td>step_3</td>\n",
       "      <td>2017-04-17 15:18:04</td>\n",
       "    </tr>\n",
       "    <tr>\n",
       "      <th>...</th>\n",
       "      <td>...</td>\n",
       "      <td>...</td>\n",
       "      <td>...</td>\n",
       "      <td>...</td>\n",
       "      <td>...</td>\n",
       "    </tr>\n",
       "    <tr>\n",
       "      <th>755400</th>\n",
       "      <td>9668240</td>\n",
       "      <td>388766751_9038881013</td>\n",
       "      <td>922267647_3096648104_968866</td>\n",
       "      <td>start</td>\n",
       "      <td>2017-05-24 18:46:10</td>\n",
       "    </tr>\n",
       "    <tr>\n",
       "      <th>755401</th>\n",
       "      <td>9668240</td>\n",
       "      <td>388766751_9038881013</td>\n",
       "      <td>922267647_3096648104_968866</td>\n",
       "      <td>start</td>\n",
       "      <td>2017-05-24 18:45:29</td>\n",
       "    </tr>\n",
       "    <tr>\n",
       "      <th>755402</th>\n",
       "      <td>9668240</td>\n",
       "      <td>388766751_9038881013</td>\n",
       "      <td>922267647_3096648104_968866</td>\n",
       "      <td>step_1</td>\n",
       "      <td>2017-05-24 18:44:51</td>\n",
       "    </tr>\n",
       "    <tr>\n",
       "      <th>755403</th>\n",
       "      <td>9668240</td>\n",
       "      <td>388766751_9038881013</td>\n",
       "      <td>922267647_3096648104_968866</td>\n",
       "      <td>start</td>\n",
       "      <td>2017-05-24 18:44:34</td>\n",
       "    </tr>\n",
       "    <tr>\n",
       "      <th>755404</th>\n",
       "      <td>674799</td>\n",
       "      <td>947159805_81558194550</td>\n",
       "      <td>86152093_47511127657_716022</td>\n",
       "      <td>start</td>\n",
       "      <td>2017-06-03 12:17:09</td>\n",
       "    </tr>\n",
       "  </tbody>\n",
       "</table>\n",
       "<p>755405 rows × 5 columns</p>\n",
       "</div>"
      ],
      "text/plain": [
       "        client_id             visitor_id                      visit_id  \\\n",
       "0         9988021   580560515_7732621733  781255054_21935453173_531117   \n",
       "1         9988021   580560515_7732621733  781255054_21935453173_531117   \n",
       "2         9988021   580560515_7732621733  781255054_21935453173_531117   \n",
       "3         9988021   580560515_7732621733  781255054_21935453173_531117   \n",
       "4         9988021   580560515_7732621733  781255054_21935453173_531117   \n",
       "...           ...                    ...                           ...   \n",
       "755400    9668240   388766751_9038881013   922267647_3096648104_968866   \n",
       "755401    9668240   388766751_9038881013   922267647_3096648104_968866   \n",
       "755402    9668240   388766751_9038881013   922267647_3096648104_968866   \n",
       "755403    9668240   388766751_9038881013   922267647_3096648104_968866   \n",
       "755404     674799  947159805_81558194550   86152093_47511127657_716022   \n",
       "\n",
       "       process_step            date_time  \n",
       "0            step_3  2017-04-17 15:27:07  \n",
       "1            step_2  2017-04-17 15:26:51  \n",
       "2            step_3  2017-04-17 15:19:22  \n",
       "3            step_2  2017-04-17 15:19:13  \n",
       "4            step_3  2017-04-17 15:18:04  \n",
       "...             ...                  ...  \n",
       "755400        start  2017-05-24 18:46:10  \n",
       "755401        start  2017-05-24 18:45:29  \n",
       "755402       step_1  2017-05-24 18:44:51  \n",
       "755403        start  2017-05-24 18:44:34  \n",
       "755404        start  2017-06-03 12:17:09  \n",
       "\n",
       "[755405 rows x 5 columns]"
      ]
     },
     "execution_count": 386,
     "metadata": {},
     "output_type": "execute_result"
    }
   ],
   "source": [
    "# Merging here the two dataframes of the web data files\n",
    "df_web = pd.concat([df_fwd1, df_fwd2], ignore_index=True)\n",
    "df_web"
   ]
  },
  {
   "cell_type": "code",
   "execution_count": 387,
   "metadata": {},
   "outputs": [],
   "source": [
    "# Here I am saving the two dataframes of the web data files into one file\n",
    "df_web.to_csv('Datasets/Datasets_raw/df_web_merged.csv', index=False)"
   ]
  },
  {
   "cell_type": "markdown",
   "metadata": {},
   "source": [
    "Merging web datasets 1 + 2 and with experiment dataset"
   ]
  },
  {
   "cell_type": "code",
   "execution_count": 389,
   "metadata": {},
   "outputs": [
    {
     "data": {
      "text/html": [
       "<div>\n",
       "<style scoped>\n",
       "    .dataframe tbody tr th:only-of-type {\n",
       "        vertical-align: middle;\n",
       "    }\n",
       "\n",
       "    .dataframe tbody tr th {\n",
       "        vertical-align: top;\n",
       "    }\n",
       "\n",
       "    .dataframe thead th {\n",
       "        text-align: right;\n",
       "    }\n",
       "</style>\n",
       "<table border=\"1\" class=\"dataframe\">\n",
       "  <thead>\n",
       "    <tr style=\"text-align: right;\">\n",
       "      <th></th>\n",
       "      <th>client_id</th>\n",
       "      <th>visitor_id</th>\n",
       "      <th>visit_id</th>\n",
       "      <th>process_step</th>\n",
       "      <th>date_time</th>\n",
       "      <th>Variation</th>\n",
       "    </tr>\n",
       "  </thead>\n",
       "  <tbody>\n",
       "    <tr>\n",
       "      <th>0</th>\n",
       "      <td>9988021</td>\n",
       "      <td>580560515_7732621733</td>\n",
       "      <td>781255054_21935453173_531117</td>\n",
       "      <td>step_3</td>\n",
       "      <td>2017-04-17 15:27:07</td>\n",
       "      <td>Test</td>\n",
       "    </tr>\n",
       "    <tr>\n",
       "      <th>1</th>\n",
       "      <td>9988021</td>\n",
       "      <td>580560515_7732621733</td>\n",
       "      <td>781255054_21935453173_531117</td>\n",
       "      <td>step_2</td>\n",
       "      <td>2017-04-17 15:26:51</td>\n",
       "      <td>Test</td>\n",
       "    </tr>\n",
       "    <tr>\n",
       "      <th>2</th>\n",
       "      <td>9988021</td>\n",
       "      <td>580560515_7732621733</td>\n",
       "      <td>781255054_21935453173_531117</td>\n",
       "      <td>step_3</td>\n",
       "      <td>2017-04-17 15:19:22</td>\n",
       "      <td>Test</td>\n",
       "    </tr>\n",
       "    <tr>\n",
       "      <th>3</th>\n",
       "      <td>9988021</td>\n",
       "      <td>580560515_7732621733</td>\n",
       "      <td>781255054_21935453173_531117</td>\n",
       "      <td>step_2</td>\n",
       "      <td>2017-04-17 15:19:13</td>\n",
       "      <td>Test</td>\n",
       "    </tr>\n",
       "    <tr>\n",
       "      <th>4</th>\n",
       "      <td>9988021</td>\n",
       "      <td>580560515_7732621733</td>\n",
       "      <td>781255054_21935453173_531117</td>\n",
       "      <td>step_3</td>\n",
       "      <td>2017-04-17 15:18:04</td>\n",
       "      <td>Test</td>\n",
       "    </tr>\n",
       "    <tr>\n",
       "      <th>...</th>\n",
       "      <td>...</td>\n",
       "      <td>...</td>\n",
       "      <td>...</td>\n",
       "      <td>...</td>\n",
       "      <td>...</td>\n",
       "      <td>...</td>\n",
       "    </tr>\n",
       "    <tr>\n",
       "      <th>449826</th>\n",
       "      <td>9895983</td>\n",
       "      <td>473024645_56027518531</td>\n",
       "      <td>498981662_93503779869_272484</td>\n",
       "      <td>step_3</td>\n",
       "      <td>2017-06-15 19:52:09</td>\n",
       "      <td>NaN</td>\n",
       "    </tr>\n",
       "    <tr>\n",
       "      <th>449827</th>\n",
       "      <td>9895983</td>\n",
       "      <td>473024645_56027518531</td>\n",
       "      <td>498981662_93503779869_272484</td>\n",
       "      <td>step_2</td>\n",
       "      <td>2017-06-15 19:50:37</td>\n",
       "      <td>NaN</td>\n",
       "    </tr>\n",
       "    <tr>\n",
       "      <th>449828</th>\n",
       "      <td>9895983</td>\n",
       "      <td>473024645_56027518531</td>\n",
       "      <td>498981662_93503779869_272484</td>\n",
       "      <td>step_1</td>\n",
       "      <td>2017-06-15 19:50:05</td>\n",
       "      <td>NaN</td>\n",
       "    </tr>\n",
       "    <tr>\n",
       "      <th>449829</th>\n",
       "      <td>9895983</td>\n",
       "      <td>473024645_56027518531</td>\n",
       "      <td>498981662_93503779869_272484</td>\n",
       "      <td>start</td>\n",
       "      <td>2017-06-15 19:50:00</td>\n",
       "      <td>NaN</td>\n",
       "    </tr>\n",
       "    <tr>\n",
       "      <th>449830</th>\n",
       "      <td>9895983</td>\n",
       "      <td>473024645_56027518531</td>\n",
       "      <td>498981662_93503779869_272484</td>\n",
       "      <td>start</td>\n",
       "      <td>2017-06-15 19:44:05</td>\n",
       "      <td>NaN</td>\n",
       "    </tr>\n",
       "  </tbody>\n",
       "</table>\n",
       "<p>449831 rows × 6 columns</p>\n",
       "</div>"
      ],
      "text/plain": [
       "        client_id             visitor_id                      visit_id  \\\n",
       "0         9988021   580560515_7732621733  781255054_21935453173_531117   \n",
       "1         9988021   580560515_7732621733  781255054_21935453173_531117   \n",
       "2         9988021   580560515_7732621733  781255054_21935453173_531117   \n",
       "3         9988021   580560515_7732621733  781255054_21935453173_531117   \n",
       "4         9988021   580560515_7732621733  781255054_21935453173_531117   \n",
       "...           ...                    ...                           ...   \n",
       "449826    9895983  473024645_56027518531  498981662_93503779869_272484   \n",
       "449827    9895983  473024645_56027518531  498981662_93503779869_272484   \n",
       "449828    9895983  473024645_56027518531  498981662_93503779869_272484   \n",
       "449829    9895983  473024645_56027518531  498981662_93503779869_272484   \n",
       "449830    9895983  473024645_56027518531  498981662_93503779869_272484   \n",
       "\n",
       "       process_step            date_time Variation  \n",
       "0            step_3  2017-04-17 15:27:07      Test  \n",
       "1            step_2  2017-04-17 15:26:51      Test  \n",
       "2            step_3  2017-04-17 15:19:22      Test  \n",
       "3            step_2  2017-04-17 15:19:13      Test  \n",
       "4            step_3  2017-04-17 15:18:04      Test  \n",
       "...             ...                  ...       ...  \n",
       "449826       step_3  2017-06-15 19:52:09       NaN  \n",
       "449827       step_2  2017-06-15 19:50:37       NaN  \n",
       "449828       step_1  2017-06-15 19:50:05       NaN  \n",
       "449829        start  2017-06-15 19:50:00       NaN  \n",
       "449830        start  2017-06-15 19:44:05       NaN  \n",
       "\n",
       "[449831 rows x 6 columns]"
      ]
     },
     "execution_count": 389,
     "metadata": {},
     "output_type": "execute_result"
    }
   ],
   "source": [
    "# Now I want to merge the web data frames with the experiment client data frame\n",
    "df_web_ec = pd.merge(df_web, df_client, on='client_id', how='right')\n",
    "df_web_ec # Reviewing the dataset "
   ]
  },
  {
   "cell_type": "code",
   "execution_count": 390,
   "metadata": {},
   "outputs": [],
   "source": [
    "# I am saving the dataframes of the web data files with the experiment clients into one file\n",
    "df_web_ec.to_csv('Datasets/Datasets_raw/df_web_ec.csv', index=False)"
   ]
  },
  {
   "cell_type": "code",
   "execution_count": 391,
   "metadata": {},
   "outputs": [
    {
     "name": "stdout",
     "output_type": "stream",
     "text": [
      "Total clients in experiment: 70609\n",
      "Unique clients in merged web+experiment data: 70609\n"
     ]
    }
   ],
   "source": [
    "print(\"Total clients in experiment:\", df_client['client_id'].nunique()) # Checking here the unique total of the dataset for clients\n",
    "print(\"Unique clients in merged web+experiment data:\", df_web_ec['client_id'].nunique()) # Checking here the total of the dataset for the merged web data + experiment data files\n",
    "# The amount is the same so there is no loss of data "
   ]
  },
  {
   "cell_type": "code",
   "execution_count": 392,
   "metadata": {},
   "outputs": [
    {
     "data": {
      "text/plain": [
       "client_id            0\n",
       "visitor_id           0\n",
       "visit_id             0\n",
       "process_step         0\n",
       "date_time            0\n",
       "Variation       128522\n",
       "dtype: int64"
      ]
     },
     "execution_count": 392,
     "metadata": {},
     "output_type": "execute_result"
    }
   ],
   "source": [
    "df_web_ec.isnull().sum() # Checking to see if we have any nulls."
   ]
  },
  {
   "cell_type": "code",
   "execution_count": 393,
   "metadata": {},
   "outputs": [
    {
     "data": {
      "text/plain": [
       "(0, 6)"
      ]
     },
     "execution_count": 393,
     "metadata": {},
     "output_type": "execute_result"
    }
   ],
   "source": [
    "df_web_ec[df_web_ec['date_time'].isnull()].shape"
   ]
  },
  {
   "cell_type": "code",
   "execution_count": 394,
   "metadata": {},
   "outputs": [
    {
     "data": {
      "text/html": [
       "<div>\n",
       "<style scoped>\n",
       "    .dataframe tbody tr th:only-of-type {\n",
       "        vertical-align: middle;\n",
       "    }\n",
       "\n",
       "    .dataframe tbody tr th {\n",
       "        vertical-align: top;\n",
       "    }\n",
       "\n",
       "    .dataframe thead th {\n",
       "        text-align: right;\n",
       "    }\n",
       "</style>\n",
       "<table border=\"1\" class=\"dataframe\">\n",
       "  <thead>\n",
       "    <tr style=\"text-align: right;\">\n",
       "      <th></th>\n",
       "      <th>client_id</th>\n",
       "      <th>visitor_id</th>\n",
       "      <th>visit_id</th>\n",
       "      <th>process_step</th>\n",
       "      <th>date_time</th>\n",
       "      <th>Variation</th>\n",
       "    </tr>\n",
       "  </thead>\n",
       "  <tbody>\n",
       "  </tbody>\n",
       "</table>\n",
       "</div>"
      ],
      "text/plain": [
       "Empty DataFrame\n",
       "Columns: [client_id, visitor_id, visit_id, process_step, date_time, Variation]\n",
       "Index: []"
      ]
     },
     "execution_count": 394,
     "metadata": {},
     "output_type": "execute_result"
    }
   ],
   "source": [
    "df_web_ec[df_web_ec['date_time'].isnull()] # Checking WHERE the nulls are"
   ]
  },
  {
   "cell_type": "code",
   "execution_count": 395,
   "metadata": {},
   "outputs": [
    {
     "name": "stdout",
     "output_type": "stream",
     "text": [
      "Index([], dtype='int64')\n"
     ]
    }
   ],
   "source": [
    "null_indices = df_web_ec[df_web_ec['date_time'].isnull()].index   # there seems 0 nulls \n",
    "print(null_indices)   "
   ]
  },
  {
   "cell_type": "markdown",
   "metadata": {},
   "source": [
    "Checking group sizes"
   ]
  },
  {
   "cell_type": "code",
   "execution_count": 397,
   "metadata": {},
   "outputs": [
    {
     "data": {
      "text/plain": [
       "Index(['client_id', 'visitor_id', 'visit_id', 'process_step', 'date_time',\n",
       "       'Variation'],\n",
       "      dtype='object')"
      ]
     },
     "execution_count": 397,
     "metadata": {},
     "output_type": "execute_result"
    }
   ],
   "source": [
    "df_web_ec.columns # Checking all the columns of the dataset"
   ]
  },
  {
   "cell_type": "code",
   "execution_count": 398,
   "metadata": {},
   "outputs": [
    {
     "data": {
      "text/plain": [
       "array(['Test', 'Control', nan], dtype=object)"
      ]
     },
     "execution_count": 398,
     "metadata": {},
     "output_type": "execute_result"
    }
   ],
   "source": [
    "df_web_ec['Variation'].unique() # reviewing how many inputs there are in the coluymn variation"
   ]
  },
  {
   "cell_type": "code",
   "execution_count": 399,
   "metadata": {},
   "outputs": [
    {
     "data": {
      "text/html": [
       "<div>\n",
       "<style scoped>\n",
       "    .dataframe tbody tr th:only-of-type {\n",
       "        vertical-align: middle;\n",
       "    }\n",
       "\n",
       "    .dataframe tbody tr th {\n",
       "        vertical-align: top;\n",
       "    }\n",
       "\n",
       "    .dataframe thead th {\n",
       "        text-align: right;\n",
       "    }\n",
       "</style>\n",
       "<table border=\"1\" class=\"dataframe\">\n",
       "  <thead>\n",
       "    <tr style=\"text-align: right;\">\n",
       "      <th></th>\n",
       "      <th>client_id</th>\n",
       "      <th>visitor_id</th>\n",
       "      <th>visit_id</th>\n",
       "      <th>process_step</th>\n",
       "      <th>date_time</th>\n",
       "      <th>Variation</th>\n",
       "    </tr>\n",
       "  </thead>\n",
       "  <tbody>\n",
       "    <tr>\n",
       "      <th>321309</th>\n",
       "      <td>5459747</td>\n",
       "      <td>927506343_21566395546</td>\n",
       "      <td>126601512_42206463738_739012</td>\n",
       "      <td>confirm</td>\n",
       "      <td>2017-05-22 12:14:45</td>\n",
       "      <td>NaN</td>\n",
       "    </tr>\n",
       "    <tr>\n",
       "      <th>321310</th>\n",
       "      <td>5459747</td>\n",
       "      <td>927506343_21566395546</td>\n",
       "      <td>126601512_42206463738_739012</td>\n",
       "      <td>step_3</td>\n",
       "      <td>2017-05-22 12:14:27</td>\n",
       "      <td>NaN</td>\n",
       "    </tr>\n",
       "    <tr>\n",
       "      <th>321311</th>\n",
       "      <td>5459747</td>\n",
       "      <td>927506343_21566395546</td>\n",
       "      <td>126601512_42206463738_739012</td>\n",
       "      <td>step_2</td>\n",
       "      <td>2017-05-22 12:14:13</td>\n",
       "      <td>NaN</td>\n",
       "    </tr>\n",
       "    <tr>\n",
       "      <th>321312</th>\n",
       "      <td>5459747</td>\n",
       "      <td>927506343_21566395546</td>\n",
       "      <td>126601512_42206463738_739012</td>\n",
       "      <td>step_1</td>\n",
       "      <td>2017-05-22 12:13:50</td>\n",
       "      <td>NaN</td>\n",
       "    </tr>\n",
       "    <tr>\n",
       "      <th>321313</th>\n",
       "      <td>5459747</td>\n",
       "      <td>927506343_21566395546</td>\n",
       "      <td>126601512_42206463738_739012</td>\n",
       "      <td>start</td>\n",
       "      <td>2017-05-22 12:13:43</td>\n",
       "      <td>NaN</td>\n",
       "    </tr>\n",
       "    <tr>\n",
       "      <th>...</th>\n",
       "      <td>...</td>\n",
       "      <td>...</td>\n",
       "      <td>...</td>\n",
       "      <td>...</td>\n",
       "      <td>...</td>\n",
       "      <td>...</td>\n",
       "    </tr>\n",
       "    <tr>\n",
       "      <th>449826</th>\n",
       "      <td>9895983</td>\n",
       "      <td>473024645_56027518531</td>\n",
       "      <td>498981662_93503779869_272484</td>\n",
       "      <td>step_3</td>\n",
       "      <td>2017-06-15 19:52:09</td>\n",
       "      <td>NaN</td>\n",
       "    </tr>\n",
       "    <tr>\n",
       "      <th>449827</th>\n",
       "      <td>9895983</td>\n",
       "      <td>473024645_56027518531</td>\n",
       "      <td>498981662_93503779869_272484</td>\n",
       "      <td>step_2</td>\n",
       "      <td>2017-06-15 19:50:37</td>\n",
       "      <td>NaN</td>\n",
       "    </tr>\n",
       "    <tr>\n",
       "      <th>449828</th>\n",
       "      <td>9895983</td>\n",
       "      <td>473024645_56027518531</td>\n",
       "      <td>498981662_93503779869_272484</td>\n",
       "      <td>step_1</td>\n",
       "      <td>2017-06-15 19:50:05</td>\n",
       "      <td>NaN</td>\n",
       "    </tr>\n",
       "    <tr>\n",
       "      <th>449829</th>\n",
       "      <td>9895983</td>\n",
       "      <td>473024645_56027518531</td>\n",
       "      <td>498981662_93503779869_272484</td>\n",
       "      <td>start</td>\n",
       "      <td>2017-06-15 19:50:00</td>\n",
       "      <td>NaN</td>\n",
       "    </tr>\n",
       "    <tr>\n",
       "      <th>449830</th>\n",
       "      <td>9895983</td>\n",
       "      <td>473024645_56027518531</td>\n",
       "      <td>498981662_93503779869_272484</td>\n",
       "      <td>start</td>\n",
       "      <td>2017-06-15 19:44:05</td>\n",
       "      <td>NaN</td>\n",
       "    </tr>\n",
       "  </tbody>\n",
       "</table>\n",
       "<p>128522 rows × 6 columns</p>\n",
       "</div>"
      ],
      "text/plain": [
       "        client_id             visitor_id                      visit_id  \\\n",
       "321309    5459747  927506343_21566395546  126601512_42206463738_739012   \n",
       "321310    5459747  927506343_21566395546  126601512_42206463738_739012   \n",
       "321311    5459747  927506343_21566395546  126601512_42206463738_739012   \n",
       "321312    5459747  927506343_21566395546  126601512_42206463738_739012   \n",
       "321313    5459747  927506343_21566395546  126601512_42206463738_739012   \n",
       "...           ...                    ...                           ...   \n",
       "449826    9895983  473024645_56027518531  498981662_93503779869_272484   \n",
       "449827    9895983  473024645_56027518531  498981662_93503779869_272484   \n",
       "449828    9895983  473024645_56027518531  498981662_93503779869_272484   \n",
       "449829    9895983  473024645_56027518531  498981662_93503779869_272484   \n",
       "449830    9895983  473024645_56027518531  498981662_93503779869_272484   \n",
       "\n",
       "       process_step            date_time Variation  \n",
       "321309      confirm  2017-05-22 12:14:45       NaN  \n",
       "321310       step_3  2017-05-22 12:14:27       NaN  \n",
       "321311       step_2  2017-05-22 12:14:13       NaN  \n",
       "321312       step_1  2017-05-22 12:13:50       NaN  \n",
       "321313        start  2017-05-22 12:13:43       NaN  \n",
       "...             ...                  ...       ...  \n",
       "449826       step_3  2017-06-15 19:52:09       NaN  \n",
       "449827       step_2  2017-06-15 19:50:37       NaN  \n",
       "449828       step_1  2017-06-15 19:50:05       NaN  \n",
       "449829        start  2017-06-15 19:50:00       NaN  \n",
       "449830        start  2017-06-15 19:44:05       NaN  \n",
       "\n",
       "[128522 rows x 6 columns]"
      ]
     },
     "execution_count": 399,
     "metadata": {},
     "output_type": "execute_result"
    }
   ],
   "source": [
    "df_web_ec[df_web_ec['Variation'].isnull()] # reviewing how many Nan's we have "
   ]
  },
  {
   "cell_type": "code",
   "execution_count": 400,
   "metadata": {},
   "outputs": [],
   "source": [
    "# Replacing all the Nan of the column 'Variation' into unknown\n",
    "df_web_ec['Variation'] = df_web_ec['Variation'].fillna('Unknown')"
   ]
  },
  {
   "cell_type": "code",
   "execution_count": 401,
   "metadata": {},
   "outputs": [
    {
     "data": {
      "text/plain": [
       "array(['Test', 'Control', 'Unknown'], dtype=object)"
      ]
     },
     "execution_count": 401,
     "metadata": {},
     "output_type": "execute_result"
    }
   ],
   "source": [
    "df_web_ec['Variation'].unique()"
   ]
  },
  {
   "cell_type": "code",
   "execution_count": 402,
   "metadata": {},
   "outputs": [
    {
     "data": {
      "text/plain": [
       "Variation\n",
       "Test       0.395364\n",
       "Control    0.318924\n",
       "Unknown    0.285712\n",
       "Name: proportion, dtype: float64"
      ]
     },
     "execution_count": 402,
     "metadata": {},
     "output_type": "execute_result"
    }
   ],
   "source": [
    "df_web_ec['Variation'].value_counts(normalize=True) # calculating the proportion (relative frequency) of each unique value in the Variation column."
   ]
  },
  {
   "cell_type": "markdown",
   "metadata": {},
   "source": [
    "Exploring the full funnel process steps"
   ]
  },
  {
   "cell_type": "code",
   "execution_count": 404,
   "metadata": {},
   "outputs": [
    {
     "data": {
      "text/plain": [
       "process_step\n",
       "start      145588\n",
       "step_1      95896\n",
       "step_2      79571\n",
       "step_3      68217\n",
       "confirm     60559\n",
       "Name: count, dtype: int64"
      ]
     },
     "execution_count": 404,
     "metadata": {},
     "output_type": "execute_result"
    }
   ],
   "source": [
    "df_web_ec['process_step'].value_counts()"
   ]
  },
  {
   "cell_type": "code",
   "execution_count": 405,
   "metadata": {},
   "outputs": [
    {
     "data": {
      "text/html": [
       "<div>\n",
       "<style scoped>\n",
       "    .dataframe tbody tr th:only-of-type {\n",
       "        vertical-align: middle;\n",
       "    }\n",
       "\n",
       "    .dataframe tbody tr th {\n",
       "        vertical-align: top;\n",
       "    }\n",
       "\n",
       "    .dataframe thead th {\n",
       "        text-align: right;\n",
       "    }\n",
       "</style>\n",
       "<table border=\"1\" class=\"dataframe\">\n",
       "  <thead>\n",
       "    <tr style=\"text-align: right;\">\n",
       "      <th>process_step</th>\n",
       "      <th>confirm</th>\n",
       "      <th>start</th>\n",
       "      <th>step_1</th>\n",
       "      <th>step_2</th>\n",
       "      <th>step_3</th>\n",
       "    </tr>\n",
       "    <tr>\n",
       "      <th>Variation</th>\n",
       "      <th></th>\n",
       "      <th></th>\n",
       "      <th></th>\n",
       "      <th></th>\n",
       "      <th></th>\n",
       "    </tr>\n",
       "  </thead>\n",
       "  <tbody>\n",
       "    <tr>\n",
       "      <th>Control</th>\n",
       "      <td>17505</td>\n",
       "      <td>47608</td>\n",
       "      <td>29668</td>\n",
       "      <td>25886</td>\n",
       "      <td>22795</td>\n",
       "    </tr>\n",
       "    <tr>\n",
       "      <th>Test</th>\n",
       "      <td>25722</td>\n",
       "      <td>56474</td>\n",
       "      <td>38768</td>\n",
       "      <td>30989</td>\n",
       "      <td>25894</td>\n",
       "    </tr>\n",
       "    <tr>\n",
       "      <th>Unknown</th>\n",
       "      <td>17332</td>\n",
       "      <td>41506</td>\n",
       "      <td>27460</td>\n",
       "      <td>22696</td>\n",
       "      <td>19528</td>\n",
       "    </tr>\n",
       "  </tbody>\n",
       "</table>\n",
       "</div>"
      ],
      "text/plain": [
       "process_step  confirm  start  step_1  step_2  step_3\n",
       "Variation                                           \n",
       "Control         17505  47608   29668   25886   22795\n",
       "Test            25722  56474   38768   30989   25894\n",
       "Unknown         17332  41506   27460   22696   19528"
      ]
     },
     "execution_count": 405,
     "metadata": {},
     "output_type": "execute_result"
    }
   ],
   "source": [
    "step_counts = df_web_ec.groupby(['Variation', 'process_step']).size().unstack().fillna(0)\n",
    "step_counts"
   ]
  },
  {
   "cell_type": "markdown",
   "metadata": {},
   "source": [
    "Checking how many clients reached 'confirm'"
   ]
  },
  {
   "cell_type": "code",
   "execution_count": 407,
   "metadata": {},
   "outputs": [
    {
     "data": {
      "text/plain": [
       "Variation\n",
       "Test       0.424743\n",
       "Control    0.289057\n",
       "Unknown    0.286200\n",
       "Name: proportion, dtype: float64"
      ]
     },
     "execution_count": 407,
     "metadata": {},
     "output_type": "execute_result"
    }
   ],
   "source": [
    "# Here I am assing new variables to review how many confirmed and review if its either with the test or control group\n",
    "df_confirm = df_web_ec[df_web_ec['process_step'] == 'confirm']\n",
    "conversion_rates = df_confirm['Variation'].value_counts(normalize=True)\n",
    "conversion_rates"
   ]
  },
  {
   "cell_type": "markdown",
   "metadata": {},
   "source": [
    "Confirmed / converted per variation group\n",
    "Variation\n",
    "Test       42,5%\n",
    "Control    28,9%\n",
    "Unknown    28,6%"
   ]
  },
  {
   "cell_type": "code",
   "execution_count": 409,
   "metadata": {},
   "outputs": [
    {
     "data": {
      "text/plain": [
       "Variation\n",
       "Test       25722\n",
       "Control    17505\n",
       "Unknown    17332\n",
       "Name: count, dtype: int64"
      ]
     },
     "execution_count": 409,
     "metadata": {},
     "output_type": "execute_result"
    }
   ],
   "source": [
    "# these are just raw counts \n",
    "df_confirm['Variation'].value_counts()"
   ]
  },
  {
   "cell_type": "markdown",
   "metadata": {},
   "source": [
    "Completion rate per client"
   ]
  },
  {
   "cell_type": "code",
   "execution_count": 411,
   "metadata": {},
   "outputs": [
    {
     "data": {
      "text/plain": [
       "Variation\n",
       "Test       0.390941\n",
       "Control    0.322887\n",
       "Unknown    0.286172\n",
       "Name: proportion, dtype: float64"
      ]
     },
     "execution_count": 411,
     "metadata": {},
     "output_type": "execute_result"
    }
   ],
   "source": [
    "# Dropping here any client ids that are duplicated \n",
    "df_confirm_unique = df_confirm.drop_duplicates(subset=['client_id'])\n",
    "df_confirm_unique['Variation'].value_counts(normalize=True)"
   ]
  },
  {
   "cell_type": "markdown",
   "metadata": {},
   "source": []
  },
  {
   "cell_type": "markdown",
   "metadata": {},
   "source": [
    "### Plots "
   ]
  },
  {
   "cell_type": "code",
   "execution_count": 414,
   "metadata": {},
   "outputs": [],
   "source": [
    "# Converting date_time to datetime object\n",
    "df_web_ec['date_time'] = pd.to_datetime(df_web_ec['date_time'])\n",
    "\n",
    "# Sorting by client, visit and time.\n",
    "df_web_ec = df_web_ec.sort_values(by=['client_id', 'visit_id', 'date_time'])"
   ]
  },
  {
   "cell_type": "code",
   "execution_count": 415,
   "metadata": {},
   "outputs": [],
   "source": [
    "# df_web_ec"
   ]
  },
  {
   "cell_type": "code",
   "execution_count": 416,
   "metadata": {},
   "outputs": [
    {
     "name": "stdout",
     "output_type": "stream",
     "text": [
      "(449831, 6)\n",
      "        client_id             visitor_id                      visit_id  \\\n",
      "374121        169  201385055_71273495308  749567106_99161211863_557568   \n",
      "374120        169  201385055_71273495308  749567106_99161211863_557568   \n",
      "374119        169  201385055_71273495308  749567106_99161211863_557568   \n",
      "374118        169  201385055_71273495308  749567106_99161211863_557568   \n",
      "374117        169  201385055_71273495308  749567106_99161211863_557568   \n",
      "\n",
      "       process_step           date_time Variation  \n",
      "374121        start 2017-04-12 20:19:36   Unknown  \n",
      "374120       step_1 2017-04-12 20:19:45   Unknown  \n",
      "374119       step_2 2017-04-12 20:20:31   Unknown  \n",
      "374118       step_3 2017-04-12 20:22:05   Unknown  \n",
      "374117      confirm 2017-04-12 20:23:09   Unknown  \n",
      "client_id       0\n",
      "visitor_id      0\n",
      "visit_id        0\n",
      "process_step    0\n",
      "date_time       0\n",
      "Variation       0\n",
      "dtype: int64\n"
     ]
    }
   ],
   "source": [
    "print(df_web_ec.shape) # number of rows and columns\n",
    "print(df_web_ec.head()) # first 5 rows\n",
    "print(df_web_ec.isnull().sum()) # number of missing values in each column"
   ]
  },
  {
   "cell_type": "code",
   "execution_count": 417,
   "metadata": {},
   "outputs": [
    {
     "name": "stdout",
     "output_type": "stream",
     "text": [
      "['client_id', 'visitor_id', 'visit_id', 'process_step', 'date_time', 'Variation']\n"
     ]
    }
   ],
   "source": [
    "print(df_web_ec.columns.tolist())"
   ]
  },
  {
   "cell_type": "code",
   "execution_count": 418,
   "metadata": {},
   "outputs": [
    {
     "name": "stdout",
     "output_type": "stream",
     "text": [
      "Total duplicated rows: 5934\n"
     ]
    }
   ],
   "source": [
    "# Checking for duplicates\n",
    "duplicates = df_web_ec[df_web_ec.duplicated()]\n",
    "print(\"Total duplicated rows:\", len(duplicates))"
   ]
  },
  {
   "cell_type": "code",
   "execution_count": 419,
   "metadata": {},
   "outputs": [],
   "source": [
    "def remove_duplicates(df):\n",
    "    '''REMOVING DUPLICATES, 'start' and 'confirm' steps, only keeping the last each visit'''\n",
    "\n",
    "    df = df_web_ec.copy()\n",
    "\n",
    "    df_not_started = df[df['process_step'] != 'start']\n",
    "    filter_start = df[df['process_step'] == 'start'].drop_duplicates(subset=['visit_id'], keep='last')\n",
    "    df = pd.concat([df_not_started, filter_start])\n",
    "    df = df.sort_values(by=['client_id', 'visit_id', 'date_time'])\n",
    "\n",
    "    not_confirm_df = df[df['process_step'] != 'confirm']\n",
    "    filter_confirm = df[df['process_step'] == 'confirm'].drop_duplicates(subset=['visit_id'], keep='last')\n",
    "\n",
    "    df = pd.concat([not_confirm_df, filter_confirm])\n",
    "    df = df.sort_values(by=['client_id', 'visit_id', 'date_time'])\n",
    "    return(df)"
   ]
  },
  {
   "cell_type": "code",
   "execution_count": 420,
   "metadata": {},
   "outputs": [
    {
     "data": {
      "text/html": [
       "<div>\n",
       "<style scoped>\n",
       "    .dataframe tbody tr th:only-of-type {\n",
       "        vertical-align: middle;\n",
       "    }\n",
       "\n",
       "    .dataframe tbody tr th {\n",
       "        vertical-align: top;\n",
       "    }\n",
       "\n",
       "    .dataframe thead th {\n",
       "        text-align: right;\n",
       "    }\n",
       "</style>\n",
       "<table border=\"1\" class=\"dataframe\">\n",
       "  <thead>\n",
       "    <tr style=\"text-align: right;\">\n",
       "      <th></th>\n",
       "      <th>client_id</th>\n",
       "      <th>visitor_id</th>\n",
       "      <th>visit_id</th>\n",
       "      <th>process_step</th>\n",
       "      <th>date_time</th>\n",
       "      <th>Variation</th>\n",
       "    </tr>\n",
       "  </thead>\n",
       "  <tbody>\n",
       "    <tr>\n",
       "      <th>374121</th>\n",
       "      <td>169</td>\n",
       "      <td>201385055_71273495308</td>\n",
       "      <td>749567106_99161211863_557568</td>\n",
       "      <td>start</td>\n",
       "      <td>2017-04-12 20:19:36</td>\n",
       "      <td>Unknown</td>\n",
       "    </tr>\n",
       "    <tr>\n",
       "      <th>374120</th>\n",
       "      <td>169</td>\n",
       "      <td>201385055_71273495308</td>\n",
       "      <td>749567106_99161211863_557568</td>\n",
       "      <td>step_1</td>\n",
       "      <td>2017-04-12 20:19:45</td>\n",
       "      <td>Unknown</td>\n",
       "    </tr>\n",
       "    <tr>\n",
       "      <th>374119</th>\n",
       "      <td>169</td>\n",
       "      <td>201385055_71273495308</td>\n",
       "      <td>749567106_99161211863_557568</td>\n",
       "      <td>step_2</td>\n",
       "      <td>2017-04-12 20:20:31</td>\n",
       "      <td>Unknown</td>\n",
       "    </tr>\n",
       "    <tr>\n",
       "      <th>374118</th>\n",
       "      <td>169</td>\n",
       "      <td>201385055_71273495308</td>\n",
       "      <td>749567106_99161211863_557568</td>\n",
       "      <td>step_3</td>\n",
       "      <td>2017-04-12 20:22:05</td>\n",
       "      <td>Unknown</td>\n",
       "    </tr>\n",
       "    <tr>\n",
       "      <th>374117</th>\n",
       "      <td>169</td>\n",
       "      <td>201385055_71273495308</td>\n",
       "      <td>749567106_99161211863_557568</td>\n",
       "      <td>confirm</td>\n",
       "      <td>2017-04-12 20:23:09</td>\n",
       "      <td>Unknown</td>\n",
       "    </tr>\n",
       "    <tr>\n",
       "      <th>...</th>\n",
       "      <td>...</td>\n",
       "      <td>...</td>\n",
       "      <td>...</td>\n",
       "      <td>...</td>\n",
       "      <td>...</td>\n",
       "      <td>...</td>\n",
       "    </tr>\n",
       "    <tr>\n",
       "      <th>359300</th>\n",
       "      <td>9999839</td>\n",
       "      <td>948322592_28990736246</td>\n",
       "      <td>715530422_68620416793_515645</td>\n",
       "      <td>start</td>\n",
       "      <td>2017-03-29 12:11:32</td>\n",
       "      <td>Unknown</td>\n",
       "    </tr>\n",
       "    <tr>\n",
       "      <th>359299</th>\n",
       "      <td>9999839</td>\n",
       "      <td>948322592_28990736246</td>\n",
       "      <td>715530422_68620416793_515645</td>\n",
       "      <td>step_1</td>\n",
       "      <td>2017-03-29 12:11:35</td>\n",
       "      <td>Unknown</td>\n",
       "    </tr>\n",
       "    <tr>\n",
       "      <th>359298</th>\n",
       "      <td>9999839</td>\n",
       "      <td>948322592_28990736246</td>\n",
       "      <td>715530422_68620416793_515645</td>\n",
       "      <td>step_2</td>\n",
       "      <td>2017-03-29 12:11:50</td>\n",
       "      <td>Unknown</td>\n",
       "    </tr>\n",
       "    <tr>\n",
       "      <th>359297</th>\n",
       "      <td>9999839</td>\n",
       "      <td>948322592_28990736246</td>\n",
       "      <td>715530422_68620416793_515645</td>\n",
       "      <td>step_3</td>\n",
       "      <td>2017-03-29 12:12:28</td>\n",
       "      <td>Unknown</td>\n",
       "    </tr>\n",
       "    <tr>\n",
       "      <th>359296</th>\n",
       "      <td>9999839</td>\n",
       "      <td>948322592_28990736246</td>\n",
       "      <td>715530422_68620416793_515645</td>\n",
       "      <td>confirm</td>\n",
       "      <td>2017-03-29 12:13:03</td>\n",
       "      <td>Unknown</td>\n",
       "    </tr>\n",
       "  </tbody>\n",
       "</table>\n",
       "<p>385779 rows × 6 columns</p>\n",
       "</div>"
      ],
      "text/plain": [
       "        client_id             visitor_id                      visit_id  \\\n",
       "374121        169  201385055_71273495308  749567106_99161211863_557568   \n",
       "374120        169  201385055_71273495308  749567106_99161211863_557568   \n",
       "374119        169  201385055_71273495308  749567106_99161211863_557568   \n",
       "374118        169  201385055_71273495308  749567106_99161211863_557568   \n",
       "374117        169  201385055_71273495308  749567106_99161211863_557568   \n",
       "...           ...                    ...                           ...   \n",
       "359300    9999839  948322592_28990736246  715530422_68620416793_515645   \n",
       "359299    9999839  948322592_28990736246  715530422_68620416793_515645   \n",
       "359298    9999839  948322592_28990736246  715530422_68620416793_515645   \n",
       "359297    9999839  948322592_28990736246  715530422_68620416793_515645   \n",
       "359296    9999839  948322592_28990736246  715530422_68620416793_515645   \n",
       "\n",
       "       process_step           date_time Variation  \n",
       "374121        start 2017-04-12 20:19:36   Unknown  \n",
       "374120       step_1 2017-04-12 20:19:45   Unknown  \n",
       "374119       step_2 2017-04-12 20:20:31   Unknown  \n",
       "374118       step_3 2017-04-12 20:22:05   Unknown  \n",
       "374117      confirm 2017-04-12 20:23:09   Unknown  \n",
       "...             ...                 ...       ...  \n",
       "359300        start 2017-03-29 12:11:32   Unknown  \n",
       "359299       step_1 2017-03-29 12:11:35   Unknown  \n",
       "359298       step_2 2017-03-29 12:11:50   Unknown  \n",
       "359297       step_3 2017-03-29 12:12:28   Unknown  \n",
       "359296      confirm 2017-03-29 12:13:03   Unknown  \n",
       "\n",
       "[385779 rows x 6 columns]"
      ]
     },
     "execution_count": 420,
     "metadata": {},
     "output_type": "execute_result"
    }
   ],
   "source": [
    "df_web_ec_cleaned = remove_duplicates(df_web_ec)\n",
    "df_web_ec_cleaned"
   ]
  },
  {
   "cell_type": "code",
   "execution_count": 421,
   "metadata": {},
   "outputs": [],
   "source": [
    "# # Reviewing the df for duplicates\n",
    "# duplicates2 = df[df.duplicated()]\n",
    "# print(\"Total duplicated rows:\", len(duplicates))"
   ]
  },
  {
   "cell_type": "markdown",
   "metadata": {},
   "source": [
    "Checking df_demo dataset"
   ]
  },
  {
   "cell_type": "code",
   "execution_count": 423,
   "metadata": {},
   "outputs": [],
   "source": [
    "# df_demo.info()\n",
    "# df_demo.head()"
   ]
  },
  {
   "cell_type": "code",
   "execution_count": 424,
   "metadata": {},
   "outputs": [
    {
     "name": "stdout",
     "output_type": "stream",
     "text": [
      "        client_id           date_time\n",
      "46460     7179755 2017-03-15 00:19:28\n",
      "104052    4192640 2017-03-15 00:44:38\n",
      "137482    6752370 2017-03-15 05:43:13\n",
      "274114    9584408 2017-03-15 06:14:28\n",
      "228151    2685910 2017-03-15 07:13:47\n",
      "...           ...                 ...\n",
      "343771    6506786 2017-06-20 23:28:30\n",
      "324228    6868690 2017-06-20 23:32:41\n",
      "337003    2142847 2017-06-20 23:35:24\n",
      "432569    8295888 2017-06-20 23:43:06\n",
      "195002    6187864 2017-06-20 23:56:17\n",
      "\n",
      "[89374 rows x 2 columns]\n"
     ]
    }
   ],
   "source": [
    "#Who are the primary clients using this online process?\n",
    "\n",
    "# Filter for rows where process_step is 'start'\n",
    "df_start = df_web_ec_cleaned[df_web_ec_cleaned['process_step'].str.lower() == 'start']\n",
    "\n",
    "# Sort the result by date_time in ascending order\n",
    "df_sorted = df_start.sort_values(by='date_time', ascending=True)\n",
    "\n",
    "# Display only client_id and date_time (optional: include more columns if needed)\n",
    "result = df_sorted[['client_id', 'date_time']]\n",
    "\n",
    "print(result)"
   ]
  },
  {
   "cell_type": "code",
   "execution_count": null,
   "metadata": {},
   "outputs": [],
   "source": [
    "#  df_merged"
   ]
  },
  {
   "cell_type": "code",
   "execution_count": null,
   "metadata": {},
   "outputs": [],
   "source": [
    "#  df_start"
   ]
  },
  {
   "cell_type": "code",
   "execution_count": 426,
   "metadata": {},
   "outputs": [
    {
     "data": {
      "text/plain": [
       "5"
      ]
     },
     "execution_count": 426,
     "metadata": {},
     "output_type": "execute_result"
    }
   ],
   "source": [
    "df_web_ec_cleaned['process_step'].nunique() # 5 in total "
   ]
  },
  {
   "cell_type": "code",
   "execution_count": null,
   "metadata": {},
   "outputs": [],
   "source": [
    "# df_merged.head() # reviewing dataset"
   ]
  },
  {
   "cell_type": "code",
   "execution_count": null,
   "metadata": {},
   "outputs": [],
   "source": [
    "# df_started_p"
   ]
  },
  {
   "cell_type": "code",
   "execution_count": null,
   "metadata": {},
   "outputs": [],
   "source": [
    "# Load the sorted enriched data\n",
    "df_started_p = pd.read_csv('Datasets/Datasets_clean/clients_started_process_enriched_sorted.csv')\n",
    "\n",
    "# Set Seaborn style\n",
    "sns.set(style='whitegrid')\n",
    "\n",
    "# Scatter Plot\n",
    "plt.figure(figsize=(10, 6))\n",
    "sns.scatterplot(data=df_started_p, x='clnt_age', y='clnt_tenure_mnth', alpha=0.6)\n",
    "\n",
    "plt.title('Client Tenure (Months) vs Client Age')\n",
    "plt.xlabel('Client Age')\n",
    "plt.ylabel('Client Tenure (Months)')\n",
    "plt.tight_layout()\n",
    "plt.savefig('Datasets/Datavisuals/Client_Tenure_Months_vs_Client_Age.png') \n",
    "plt.show()"
   ]
  },
  {
   "cell_type": "code",
   "execution_count": null,
   "metadata": {},
   "outputs": [],
   "source": [
    "# df_started_p"
   ]
  },
  {
   "cell_type": "code",
   "execution_count": null,
   "metadata": {},
   "outputs": [],
   "source": [
    "# Histogram of clnt_tenure_mnth\n",
    "plt.figure(figsize=(12, 5))\n",
    "\n",
    "plt.subplot(1, 2, 1)\n",
    "sns.histplot(df_started_p['clnt_tenure_mnth'], bins=30, kde=True, color='skyblue')\n",
    "plt.title('Distribution of Client Tenure (Months)')\n",
    "plt.xlabel('Tenure (Months)')\n",
    "\n",
    "# Histogram of clnt_age\n",
    "plt.subplot(1, 2, 2)\n",
    "sns.histplot(df_started_p['clnt_age'], bins=30, kde=True, color='salmon')\n",
    "plt.title('Distribution of Client Age')\n",
    "plt.xlabel('Age')\n",
    "\n",
    "plt.tight_layout()\n",
    "plt.savefig('Datasets/Datavisuals/Histogram_of_clnt_tenure_mnth.png')  # Saves as a PNG file\n",
    "plt.show()"
   ]
  },
  {
   "cell_type": "code",
   "execution_count": null,
   "metadata": {},
   "outputs": [],
   "source": [
    "# Selecting the columns of interest in the df dataframe\n",
    "cols = ['clnt_age', 'clnt_tenure_mnth']\n",
    "df_selected = df_started_p[cols]\n",
    "\n",
    "# Calculate statistics\n",
    "summary_stats = {\n",
    "    'Mean': df_started_p[cols].mean(),\n",
    "    'Standard Deviation': df_started_p[cols].std(),\n",
    "    'Median': df_started_p[cols].median(),\n",
    "    'Mode': df_started_p[cols].mode().iloc[0]  # Take first mode if multiple\n",
    "}\n",
    "\n",
    "# Convert to a DataFrame for easy viewing\n",
    "df_stats = pd.DataFrame(summary_stats)\n",
    "print(df_stats)"
   ]
  },
  {
   "cell_type": "code",
   "execution_count": null,
   "metadata": {},
   "outputs": [],
   "source": [
    "# Select the columns of interest\n",
    "cols = ['clnt_age', 'clnt_tenure_mnth']\n",
    "df_demo_selected = df_demo[cols] \n",
    "\n",
    "# Calculate statistics\n",
    "summary_stats = {\n",
    "    'Mean': df_demo[cols].mean(),\n",
    "    'Standard Deviation': df_demo[cols].std(),\n",
    "    'Median': df_demo[cols].median(),\n",
    "    'Mode': df_demo[cols].mode().iloc[0]  # Take first mode if multiple\n",
    "}\n",
    "\n",
    "# Convert to a DataFrame for easy viewing\n",
    "demo_stats = pd.DataFrame(summary_stats)\n",
    "print(demo_stats)"
   ]
  },
  {
   "cell_type": "code",
   "execution_count": null,
   "metadata": {},
   "outputs": [],
   "source": [
    "#Completion Rate: The proportion of users who reach the final ‘confirm’ step.\n",
    "\n",
    "# Total number of unique clients who started the process\n",
    "total_clients = df_started_p[\"client_id\"].nunique()\n",
    "\n",
    "# Number of unique clients who reached the 'confirm' step # we had to take the cleaned df_web_ec_cleaned dataset\n",
    "clients_completed = df_web_ec_cleaned[df_web_ec_cleaned[\"process_step\"] == \"confirm\"][\"client_id\"].nunique()\n",
    "\n",
    "# Calculate completion rate\n",
    "completion_rate = clients_completed / total_clients\n",
    "\n",
    "# Display result as a percentage\n",
    "print(f\"Completion Rate: {completion_rate:.2%}\")"
   ]
  },
  {
   "cell_type": "code",
   "execution_count": null,
   "metadata": {},
   "outputs": [],
   "source": [
    "df_web_ec_cleaned"
   ]
  },
  {
   "cell_type": "code",
   "execution_count": null,
   "metadata": {},
   "outputs": [],
   "source": [
    "#TIME SPENT ON EACH STEP: The average duration users spend on each step\n",
    "\n",
    "# Convert date_time to datetime format\n",
    "df_web_ec_cleaned[\"date_time\"] = pd.to_datetime(df_web_ec_cleaned[\"date_time\"])\n",
    "\n",
    "# Sort by client_id and date_time\n",
    "df_web_ec_cleaned = df_web_ec_cleaned.sort_values(by=[\"client_id\", \"date_time\"])\n",
    "\n",
    "# Calculate the time spent per step (difference between current and next step for the same user)\n",
    "df_web_ec_cleaned[\"time_spent\"] = df_web_ec_cleaned.groupby(\"client_id\")[\"date_time\"].diff(-1).abs()\n",
    "\n",
    "# Shift the process_step column up to associate the time with the current step\n",
    "df_web_ec_cleaned[\"next_step\"] = df_web_ec_cleaned.groupby(\"client_id\")[\"process_step\"].shift(-1)\n",
    "\n",
    "# Drop rows where next_step is NaN (i.e., last step) df_web_ec_cleaned = df_web_ec_cleaned.dropna(subset=[\"next_step\", \"time_spent\"])\n",
    "# Note Sher: I am commenting this out. A missing next_step might simply mean \"the client ended the process\" no more steps after.\n",
    "df_web_ec_cleaned[\"next_step\"] = df_web_ec_cleaned[\"next_step\"].fillna(\"end\")\n",
    "\n",
    "# Drop rows where time is NaN \n",
    "df_web_ec_cleaned = df_web_ec_cleaned.dropna(subset=[\"time_spent\"])\n",
    "\n",
    "# Calculate average time spent per step\n",
    "avg_time_per_step = df_web_ec_cleaned.groupby(\"process_step\")[\"time_spent\"].mean()\n",
    "# Display results\n",
    "print(\"Average Time Spent on Each Step:\\n\")\n",
    "print(avg_time_per_step)"
   ]
  },
  {
   "cell_type": "code",
   "execution_count": null,
   "metadata": {},
   "outputs": [],
   "source": [
    "# Convert Timedelta to minutes for better readability\n",
    "avg_time_minutes = avg_time_per_step.dt.total_seconds() / 60\n",
    "\n",
    "# Plotting\n",
    "plt.figure(figsize=(10, 6))\n",
    "avg_time_minutes.plot(kind='bar', color='skyblue', edgecolor='black')\n",
    "\n",
    "plt.title('Average Time Spent on Each Process Step')\n",
    "plt.xlabel('Process Step')\n",
    "plt.ylabel('Time Spent (minutes)')\n",
    "plt.xticks(rotation=45)\n",
    "plt.grid(axis='y', linestyle='--', alpha=0.7)\n",
    "\n",
    "plt.tight_layout()\n",
    "plt.show()"
   ]
  },
  {
   "cell_type": "code",
   "execution_count": null,
   "metadata": {},
   "outputs": [],
   "source": [
    "#ERROR RATE: If there’s a step where users go back to a previous step, it may indicate confusion or an error.\n",
    "\n",
    "# Step 1: Define step order\n",
    "step_order = {\n",
    "    \"start\": 0,\n",
    "    \"step_1\": 1,\n",
    "    \"step_2\": 2,\n",
    "    \"step_3\": 3,\n",
    "    \"confirm\": 4\n",
    "}\n",
    "\n",
    "#Step 2: Map steps to numeric order\n",
    "df_web_ec_cleaned['step_num'] = df_web_ec_cleaned['process_step'].map(step_order)\n",
    "\n",
    "#Step 3: Sort the dataframe by client and time\n",
    "df_web_ec_cleaned = df_web_ec_cleaned.sort_values(by=['client_id', 'date_time'])\n",
    "\n",
    "#Step 4: Detect backward movement for each client\n",
    "# For each client, compute the difference between consecutive steps\n",
    "df_web_ec_cleaned['step_diff'] = df_web_ec_cleaned.groupby('client_id')['step_num'].diff()\n",
    "\n",
    "# Identify backward steps (negative diffs)\n",
    "df_web_ec_cleaned['is_error'] = df_web_ec_cleaned['step_diff'] < 0\n",
    "\n",
    "#Step 5: Calculate the error rate\n",
    "\n",
    "# Find clients who made at least one error\n",
    "clients_with_error = df_web_ec_cleaned[df_web_ec_cleaned['is_error'] == True]['client_id'].unique()\n",
    "\n",
    "# Total unique clients\n",
    "total_clients = df_web_ec_cleaned['client_id'].nunique()\n",
    "\n",
    "# Error rate in %\n",
    "error_rate = len(clients_with_error) / total_clients * 100\n",
    "\n",
    "print(f\"Error rate: {error_rate:.2f}%\")\n",
    "\n",
    "df_web_ec_cleaned"
   ]
  },
  {
   "cell_type": "markdown",
   "metadata": {},
   "source": [
    "- Based on the chosen KPIs, how does the new design’s performance compare to the old one?\n",
    "- Another analysis: the observed increase in completion rate from the A/B test meets or exceeds this 5% threshold.\n",
    "- An A/B test was set into motion from 3/15/2017 to 6/20/2017 by the team.\n",
    "\n",
    "- Control Group: Clients interacted with Vanguard’s traditional online process.\n",
    "- Test Group: Clients experienced the new, spruced-up digital interface."
   ]
  },
  {
   "cell_type": "code",
   "execution_count": null,
   "metadata": {},
   "outputs": [],
   "source": [
    "# Step order mapping\n",
    "step_order = {\n",
    "    \"start\": 0,\n",
    "    \"step_1\": 1,\n",
    "    \"step_2\": 2,\n",
    "    \"step_3\": 3,\n",
    "    \"confirm\": 4\n",
    "}\n",
    "df_web_ec_cleaned['step_num'] = df_web_ec_cleaned['process_step'].map(step_order)\n",
    "\n",
    "# Sort for time-based computations\n",
    "df_web_ec_cleaned = df_web_ec_cleaned.sort_values(by=['client_id', 'date_time'])\n",
    "\n",
    "\n",
    "#Step 1. Completion Rate (reached \"confirm\")\n",
    "completion = (\n",
    "    df_web_ec_cleaned[df_web_ec_cleaned['process_step'] == 'confirm']\n",
    "    .groupby('Variation')['client_id']\n",
    "    .nunique()\n",
    "    / df_web_ec.groupby('Variation')['client_id'].nunique()\n",
    "    * 100\n",
    ").round(2)\n",
    "\n",
    "print(\"*Completion Rate (%) :\")\n",
    "print(completion)"
   ]
  },
  {
   "cell_type": "code",
   "execution_count": null,
   "metadata": {},
   "outputs": [],
   "source": [
    "#Step 2. Average Time Spent on Each Step (per group)\n",
    "\n",
    "# Time difference per client between steps\n",
    "df_web_ec_cleaned['next_time'] = df_web_ec_cleaned.groupby(['client_id'])['date_time'].shift(-1)\n",
    "df_web_ec_cleaned['step_time'] = (df_web_ec_cleaned['next_time'] - df_web_ec_cleaned['date_time']).dt.total_seconds()\n",
    "\n",
    "# Only keep time spent on valid steps (i.e., exclude last rows per client)\n",
    "df_step_time = df_web_ec_cleaned.dropna(subset=['step_time'])\n",
    "\n",
    "# Average time spent on each step per group\n",
    "avg_time = df_step_time.groupby(['Variation', 'process_step'])['step_time'].mean().round(2).unstack(0)\n",
    "\n",
    "print(\"*Average Time Spent per Step (in seconds)\")\n",
    "print(avg_time)"
   ]
  },
  {
   "cell_type": "code",
   "execution_count": null,
   "metadata": {},
   "outputs": [],
   "source": [
    "# Defining here a function to convert seconds to H:M:S\n",
    "\n",
    "def convert_seconds_to_dhms(seconds):\n",
    "    if pd.isna(seconds):\n",
    "        return 'N/A'\n",
    "    seconds = int(seconds)\n",
    "    days = seconds // 86400\n",
    "    hours = (seconds % 86400) // 3600\n",
    "    minutes = (seconds % 3600) // 60\n",
    "    secs = seconds % 60\n",
    "    if days > 0:\n",
    "        return f\"{days}d {hours}h {minutes}m {secs}s\"\n",
    "    else:\n",
    "        return f\"{hours}h {minutes}m {secs}s\"\n",
    "\n",
    "# Apply it\n",
    "avg_time_dhms = avg_time.applymap(convert_seconds_to_dhms)\n",
    "\n",
    "# Show result\n",
    "print(\"*Average Time Spent per Step (in days:hours:minutes:seconds)\")\n",
    "print(avg_time_dhms)\n"
   ]
  },
  {
   "cell_type": "code",
   "execution_count": null,
   "metadata": {},
   "outputs": [],
   "source": [
    "avg_time_dhms_reset = avg_time_dhms.reset_index()\n",
    "avg_time_dhms_reset\n",
    "\n",
    "# Save to CSV\n",
    "avg_time_dhms_reset.to_csv('Datasets/Datasets_clean/avg_time_per_step_dhms.csv', index=False)"
   ]
  },
  {
   "cell_type": "code",
   "execution_count": null,
   "metadata": {},
   "outputs": [],
   "source": [
    "#Step 3. Error Rate (backward movement per group)\n",
    "\n",
    "# Compute step diff per client\n",
    "df_web_ec_cleaned['step_diff'] = df_web_ec_cleaned.groupby('client_id')['step_num'].diff()\n",
    "df_web_ec_cleaned['is_error'] = df_web_ec_cleaned['step_diff'] < 0\n",
    "\n",
    "# Clients with at least one error per group\n",
    "error_clients = df_web_ec_cleaned[df_web_ec_cleaned['is_error']].groupby('Variation')['client_id'].nunique()\n",
    "\n",
    "# Total clients per group\n",
    "total_clients_group = df_web_ec_cleaned.groupby('Variation')['client_id'].nunique()\n",
    "\n",
    "# Error rate\n",
    "error_rate = (error_clients / total_clients_group * 100).round(2)\n",
    "\n",
    "print(\"*Error Rate (%)\")\n",
    "print(error_rate)"
   ]
  },
  {
   "cell_type": "code",
   "execution_count": null,
   "metadata": {},
   "outputs": [],
   "source": [
    "# merged_df"
   ]
  },
  {
   "cell_type": "code",
   "execution_count": null,
   "metadata": {},
   "outputs": [],
   "source": [
    "df_demo.isna().sum()"
   ]
  },
  {
   "cell_type": "code",
   "execution_count": null,
   "metadata": {},
   "outputs": [],
   "source": [
    "#df_demo[df_demo['clnt_tenure_yr'].isna()] # columns showing NaN values "
   ]
  },
  {
   "cell_type": "code",
   "execution_count": null,
   "metadata": {},
   "outputs": [],
   "source": [
    "df_demo.dropna(axis=0, how='any', inplace=True) # dropping all of these Nan values"
   ]
  },
  {
   "cell_type": "code",
   "execution_count": null,
   "metadata": {},
   "outputs": [],
   "source": [
    "df_demo.isna().sum()"
   ]
  },
  {
   "cell_type": "code",
   "execution_count": null,
   "metadata": {},
   "outputs": [],
   "source": [
    "df_demo.to_csv('Datasets/Datasets_clean/df_demo_cleaned.csv', index=False) # saving the cleaned demo file"
   ]
  },
  {
   "cell_type": "code",
   "execution_count": 438,
   "metadata": {},
   "outputs": [
    {
     "name": "stdout",
     "output_type": "stream",
     "text": [
      "The Test group's average age is 47.06 years. The Control group's average age is 47.5 years.\n"
     ]
    }
   ],
   "source": [
    "#You might want to test whether the average age of clients engaging with the new process is the same as those engaging with the old process.\n",
    "\n",
    "# Step 1: Filter only customers who started the process\n",
    "started_clients = df_web_ec_cleaned[df_web_ec_cleaned['process_step'] == 'start'][['client_id', 'Variation']].drop_duplicates()\n",
    "\n",
    "# Step 2: Merge with demographic data\n",
    "merged_df = pd.merge(started_clients, df_demo[['client_id', 'clnt_age']], on='client_id', how='left')\n",
    "\n",
    "# Step 3: Compute average age per Variation group\n",
    "avg_age = merged_df.groupby('Variation')['clnt_age'].mean().round(2)\n",
    "\n",
    "# Step 4: Display the results\n",
    "print(f\"The Test group's average age is {avg_age.get('Test', 'N/A')} years. The Control group's average age is {avg_age.get('Control', 'N/A')} years.\")"
   ]
  },
  {
   "cell_type": "markdown",
   "metadata": {},
   "source": [
    "The Test group's average age is 47.15 years. The Control group's average age is 47.5 years."
   ]
  },
  {
   "cell_type": "code",
   "execution_count": 428,
   "metadata": {},
   "outputs": [
    {
     "name": "stdout",
     "output_type": "stream",
     "text": [
      "T-statistic = -1.72, P-value = 0.0854\n",
      "No significant difference in client tenure between the Test and Control groups.\n"
     ]
    }
   ],
   "source": [
    "#You might want to test if the average client tenure (how long they’ve been with Vanguard) of those engaging with the new process is the same as those engaging with the old process\n",
    "\n",
    "# Step 1: Get unique clients and their Variation group from df_web_ec\n",
    "variation_df = df_web_ec_cleaned[['client_id', 'Variation']].drop_duplicates()\n",
    "\n",
    "# Step 2: Merge with df_demo to get tenure\n",
    "merged_df = pd.merge(variation_df, df_demo[['client_id', 'clnt_tenure_yr']], on='client_id', how='inner')\n",
    "\n",
    "# Step 3: Drop missing values\n",
    "merged_df = merged_df.dropna(subset=['clnt_tenure_yr'])\n",
    "\n",
    "# Step 4: Split into test and control groups\n",
    "test_group = merged_df[merged_df['Variation'] == 'Test']['clnt_tenure_yr']\n",
    "control_group = merged_df[merged_df['Variation'] == 'Control']['clnt_tenure_yr']\n",
    "\n",
    "# Step 5: Perform independent t-test (Welch’s t-test for safety)\n",
    "t_stat, p_val = ttest_ind(test_group, control_group, equal_var=False)\n",
    "\n",
    "# Step 6: Display the result\n",
    "print(f\"T-statistic = {t_stat:.2f}, P-value = {p_val:.4f}\")\n",
    "\n",
    "if p_val < 0.05:\n",
    "    print(\"There is a significant difference in client tenure between the Test and Control groups.\")\n",
    "else:\n",
    "    print(\"No significant difference in client tenure between the Test and Control groups.\")"
   ]
  },
  {
   "cell_type": "markdown",
   "metadata": {},
   "source": [
    "T-statistic = -1.71, P-value = 0.0870\n",
    "No significant difference in client tenure between the Test and Control groups."
   ]
  },
  {
   "cell_type": "code",
   "execution_count": null,
   "metadata": {},
   "outputs": [],
   "source": [
    "sns.boxplot(data=merged_df, x='Variation', y='clnt_tenure_yr', palette='pastel')\n",
    "plt.title(\"Client Tenure by Variation Group\")\n",
    "plt.xlabel(\"Group\")\n",
    "plt.ylabel(\"Tenure (Years)\")\n",
    "plt.show()"
   ]
  },
  {
   "cell_type": "code",
   "execution_count": 430,
   "metadata": {},
   "outputs": [
    {
     "name": "stdout",
     "output_type": "stream",
     "text": [
      "Contingency Table:\n",
      " Variation  Control  Test  Unknown\n",
      "gendr                            \n",
      "F             7543  8716     6487\n",
      "M             7970  8977     6777\n",
      "U             8014  9266     6842\n",
      "X                0     2        1\n",
      "\n",
      "Chi-squared = 3.80, P-value = 0.7036, Degrees of freedom = 6\n",
      "No significant association between gender and process variation assignment.\n"
     ]
    }
   ],
   "source": [
    "#You might want to test if there are gender differences that affect engaging with the new or old process\n",
    "\n",
    "# Step 1: Get one row per client with their group (Variation)\n",
    "variation_df = df_web_ec[['client_id', 'Variation']].drop_duplicates()\n",
    "\n",
    "# Step 2: Merge with df_demo to get gender\n",
    "merged_df = pd.merge(variation_df, df_demo[['client_id', 'gendr']], on='client_id', how='inner')\n",
    "\n",
    "# Step 3: Create a contingency table (cross-tabulation)\n",
    "contingency_table = pd.crosstab(merged_df['gendr'], merged_df['Variation'])\n",
    "\n",
    "# Step 4: Run the Chi-squared test\n",
    "chi2, p, dof, expected = chi2_contingency(contingency_table)\n",
    "\n",
    "# Step 5: Display results\n",
    "print(\"Contingency Table:\\n\", contingency_table)\n",
    "print(f\"\\nChi-squared = {chi2:.2f}, P-value = {p:.4f}, Degrees of freedom = {dof}\")\n",
    "\n",
    "if p < 0.05:\n",
    "    print(\"There is a significant association between gender and process variation assignment.\")\n",
    "else:\n",
    "    print(\"No significant association between gender and process variation assignment.\")"
   ]
  },
  {
   "cell_type": "markdown",
   "metadata": {},
   "source": [
    "Contingency Table:\n",
    " Variation  Control  Test  Unknown\n",
    "gendr                            \n",
    "F             7543  8716     6487\n",
    "M             7970  8977     6777\n",
    "U             8014  9266     6842\n",
    "X                0     2        1\n",
    "\n",
    "Chi-squared = 3.80, P-value = 0.7036, Degrees of freedom = 6\n",
    "No significant association between gender and process variation assignment."
   ]
  },
  {
   "cell_type": "code",
   "execution_count": null,
   "metadata": {},
   "outputs": [],
   "source": [
    "# Save to CSV\n",
    "df_web_ec_cleaned.to_csv('Datasets/Datasets_clean/df_web_ec_cleaned.csv', index=False)"
   ]
  },
  {
   "cell_type": "code",
   "execution_count": null,
   "metadata": {},
   "outputs": [],
   "source": []
  },
  {
   "cell_type": "markdown",
   "metadata": {},
   "source": []
  },
  {
   "cell_type": "code",
   "execution_count": null,
   "metadata": {},
   "outputs": [],
   "source": [
    "#Hypothesis Testing: Completion Rate\n",
    "#H0:The completion rates are the same in the Test and Control groups.\n",
    "#H1:The Test group has a higher completion rate than the Control group."
   ]
  },
  {
   "cell_type": "code",
   "execution_count": 432,
   "metadata": {},
   "outputs": [
    {
     "data": {
      "text/html": [
       "<div>\n",
       "<style scoped>\n",
       "    .dataframe tbody tr th:only-of-type {\n",
       "        vertical-align: middle;\n",
       "    }\n",
       "\n",
       "    .dataframe tbody tr th {\n",
       "        vertical-align: top;\n",
       "    }\n",
       "\n",
       "    .dataframe thead th {\n",
       "        text-align: right;\n",
       "    }\n",
       "</style>\n",
       "<table border=\"1\" class=\"dataframe\">\n",
       "  <thead>\n",
       "    <tr style=\"text-align: right;\">\n",
       "      <th></th>\n",
       "      <th>client_id</th>\n",
       "      <th>Variation</th>\n",
       "      <th>gendr</th>\n",
       "    </tr>\n",
       "  </thead>\n",
       "  <tbody>\n",
       "    <tr>\n",
       "      <th>0</th>\n",
       "      <td>169</td>\n",
       "      <td>Unknown</td>\n",
       "      <td>M</td>\n",
       "    </tr>\n",
       "    <tr>\n",
       "      <th>1</th>\n",
       "      <td>555</td>\n",
       "      <td>Test</td>\n",
       "      <td>U</td>\n",
       "    </tr>\n",
       "    <tr>\n",
       "      <th>2</th>\n",
       "      <td>647</td>\n",
       "      <td>Test</td>\n",
       "      <td>M</td>\n",
       "    </tr>\n",
       "    <tr>\n",
       "      <th>3</th>\n",
       "      <td>722</td>\n",
       "      <td>Unknown</td>\n",
       "      <td>F</td>\n",
       "    </tr>\n",
       "    <tr>\n",
       "      <th>4</th>\n",
       "      <td>934</td>\n",
       "      <td>Test</td>\n",
       "      <td>F</td>\n",
       "    </tr>\n",
       "    <tr>\n",
       "      <th>...</th>\n",
       "      <td>...</td>\n",
       "      <td>...</td>\n",
       "      <td>...</td>\n",
       "    </tr>\n",
       "    <tr>\n",
       "      <th>70604</th>\n",
       "      <td>9999400</td>\n",
       "      <td>Test</td>\n",
       "      <td>U</td>\n",
       "    </tr>\n",
       "    <tr>\n",
       "      <th>70605</th>\n",
       "      <td>9999626</td>\n",
       "      <td>Test</td>\n",
       "      <td>M</td>\n",
       "    </tr>\n",
       "    <tr>\n",
       "      <th>70606</th>\n",
       "      <td>9999729</td>\n",
       "      <td>Test</td>\n",
       "      <td>F</td>\n",
       "    </tr>\n",
       "    <tr>\n",
       "      <th>70607</th>\n",
       "      <td>9999832</td>\n",
       "      <td>Test</td>\n",
       "      <td>F</td>\n",
       "    </tr>\n",
       "    <tr>\n",
       "      <th>70608</th>\n",
       "      <td>9999839</td>\n",
       "      <td>Unknown</td>\n",
       "      <td>F</td>\n",
       "    </tr>\n",
       "  </tbody>\n",
       "</table>\n",
       "<p>70609 rows × 3 columns</p>\n",
       "</div>"
      ],
      "text/plain": [
       "       client_id Variation gendr\n",
       "0            169   Unknown     M\n",
       "1            555      Test     U\n",
       "2            647      Test     M\n",
       "3            722   Unknown     F\n",
       "4            934      Test     F\n",
       "...          ...       ...   ...\n",
       "70604    9999400      Test     U\n",
       "70605    9999626      Test     M\n",
       "70606    9999729      Test     F\n",
       "70607    9999832      Test     F\n",
       "70608    9999839   Unknown     F\n",
       "\n",
       "[70609 rows x 3 columns]"
      ]
     },
     "execution_count": 432,
     "metadata": {},
     "output_type": "execute_result"
    }
   ],
   "source": [
    "merged_df"
   ]
  },
  {
   "cell_type": "code",
   "execution_count": 434,
   "metadata": {},
   "outputs": [
    {
     "data": {
      "text/html": [
       "<div>\n",
       "<style scoped>\n",
       "    .dataframe tbody tr th:only-of-type {\n",
       "        vertical-align: middle;\n",
       "    }\n",
       "\n",
       "    .dataframe tbody tr th {\n",
       "        vertical-align: top;\n",
       "    }\n",
       "\n",
       "    .dataframe thead th {\n",
       "        text-align: right;\n",
       "    }\n",
       "</style>\n",
       "<table border=\"1\" class=\"dataframe\">\n",
       "  <thead>\n",
       "    <tr style=\"text-align: right;\">\n",
       "      <th></th>\n",
       "      <th>client_id</th>\n",
       "      <th>Variation</th>\n",
       "    </tr>\n",
       "  </thead>\n",
       "  <tbody>\n",
       "    <tr>\n",
       "      <th>374121</th>\n",
       "      <td>169</td>\n",
       "      <td>Unknown</td>\n",
       "    </tr>\n",
       "    <tr>\n",
       "      <th>94261</th>\n",
       "      <td>555</td>\n",
       "      <td>Test</td>\n",
       "    </tr>\n",
       "    <tr>\n",
       "      <th>180548</th>\n",
       "      <td>647</td>\n",
       "      <td>Test</td>\n",
       "    </tr>\n",
       "    <tr>\n",
       "      <th>321616</th>\n",
       "      <td>722</td>\n",
       "      <td>Unknown</td>\n",
       "    </tr>\n",
       "    <tr>\n",
       "      <th>81938</th>\n",
       "      <td>934</td>\n",
       "      <td>Test</td>\n",
       "    </tr>\n",
       "    <tr>\n",
       "      <th>...</th>\n",
       "      <td>...</td>\n",
       "      <td>...</td>\n",
       "    </tr>\n",
       "    <tr>\n",
       "      <th>237234</th>\n",
       "      <td>9999400</td>\n",
       "      <td>Test</td>\n",
       "    </tr>\n",
       "    <tr>\n",
       "      <th>248212</th>\n",
       "      <td>9999626</td>\n",
       "      <td>Test</td>\n",
       "    </tr>\n",
       "    <tr>\n",
       "      <th>140279</th>\n",
       "      <td>9999729</td>\n",
       "      <td>Test</td>\n",
       "    </tr>\n",
       "    <tr>\n",
       "      <th>14818</th>\n",
       "      <td>9999832</td>\n",
       "      <td>Test</td>\n",
       "    </tr>\n",
       "    <tr>\n",
       "      <th>359301</th>\n",
       "      <td>9999839</td>\n",
       "      <td>Unknown</td>\n",
       "    </tr>\n",
       "  </tbody>\n",
       "</table>\n",
       "<p>70609 rows × 2 columns</p>\n",
       "</div>"
      ],
      "text/plain": [
       "        client_id Variation\n",
       "374121        169   Unknown\n",
       "94261         555      Test\n",
       "180548        647      Test\n",
       "321616        722   Unknown\n",
       "81938         934      Test\n",
       "...           ...       ...\n",
       "237234    9999400      Test\n",
       "248212    9999626      Test\n",
       "140279    9999729      Test\n",
       "14818     9999832      Test\n",
       "359301    9999839   Unknown\n",
       "\n",
       "[70609 rows x 2 columns]"
      ]
     },
     "execution_count": 434,
     "metadata": {},
     "output_type": "execute_result"
    }
   ],
   "source": [
    "variation_df"
   ]
  },
  {
   "cell_type": "code",
   "execution_count": 440,
   "metadata": {},
   "outputs": [
    {
     "data": {
      "text/html": [
       "<div>\n",
       "<style scoped>\n",
       "    .dataframe tbody tr th:only-of-type {\n",
       "        vertical-align: middle;\n",
       "    }\n",
       "\n",
       "    .dataframe tbody tr th {\n",
       "        vertical-align: top;\n",
       "    }\n",
       "\n",
       "    .dataframe thead th {\n",
       "        text-align: right;\n",
       "    }\n",
       "</style>\n",
       "<table border=\"1\" class=\"dataframe\">\n",
       "  <thead>\n",
       "    <tr style=\"text-align: right;\">\n",
       "      <th></th>\n",
       "      <th>client_id</th>\n",
       "      <th>visitor_id</th>\n",
       "      <th>visit_id</th>\n",
       "      <th>process_step</th>\n",
       "      <th>date_time</th>\n",
       "      <th>Variation</th>\n",
       "    </tr>\n",
       "  </thead>\n",
       "  <tbody>\n",
       "    <tr>\n",
       "      <th>374121</th>\n",
       "      <td>169</td>\n",
       "      <td>201385055_71273495308</td>\n",
       "      <td>749567106_99161211863_557568</td>\n",
       "      <td>start</td>\n",
       "      <td>2017-04-12 20:19:36</td>\n",
       "      <td>Unknown</td>\n",
       "    </tr>\n",
       "    <tr>\n",
       "      <th>374120</th>\n",
       "      <td>169</td>\n",
       "      <td>201385055_71273495308</td>\n",
       "      <td>749567106_99161211863_557568</td>\n",
       "      <td>step_1</td>\n",
       "      <td>2017-04-12 20:19:45</td>\n",
       "      <td>Unknown</td>\n",
       "    </tr>\n",
       "    <tr>\n",
       "      <th>374119</th>\n",
       "      <td>169</td>\n",
       "      <td>201385055_71273495308</td>\n",
       "      <td>749567106_99161211863_557568</td>\n",
       "      <td>step_2</td>\n",
       "      <td>2017-04-12 20:20:31</td>\n",
       "      <td>Unknown</td>\n",
       "    </tr>\n",
       "    <tr>\n",
       "      <th>374118</th>\n",
       "      <td>169</td>\n",
       "      <td>201385055_71273495308</td>\n",
       "      <td>749567106_99161211863_557568</td>\n",
       "      <td>step_3</td>\n",
       "      <td>2017-04-12 20:22:05</td>\n",
       "      <td>Unknown</td>\n",
       "    </tr>\n",
       "    <tr>\n",
       "      <th>374117</th>\n",
       "      <td>169</td>\n",
       "      <td>201385055_71273495308</td>\n",
       "      <td>749567106_99161211863_557568</td>\n",
       "      <td>confirm</td>\n",
       "      <td>2017-04-12 20:23:09</td>\n",
       "      <td>Unknown</td>\n",
       "    </tr>\n",
       "    <tr>\n",
       "      <th>...</th>\n",
       "      <td>...</td>\n",
       "      <td>...</td>\n",
       "      <td>...</td>\n",
       "      <td>...</td>\n",
       "      <td>...</td>\n",
       "      <td>...</td>\n",
       "    </tr>\n",
       "    <tr>\n",
       "      <th>359300</th>\n",
       "      <td>9999839</td>\n",
       "      <td>948322592_28990736246</td>\n",
       "      <td>715530422_68620416793_515645</td>\n",
       "      <td>start</td>\n",
       "      <td>2017-03-29 12:11:32</td>\n",
       "      <td>Unknown</td>\n",
       "    </tr>\n",
       "    <tr>\n",
       "      <th>359299</th>\n",
       "      <td>9999839</td>\n",
       "      <td>948322592_28990736246</td>\n",
       "      <td>715530422_68620416793_515645</td>\n",
       "      <td>step_1</td>\n",
       "      <td>2017-03-29 12:11:35</td>\n",
       "      <td>Unknown</td>\n",
       "    </tr>\n",
       "    <tr>\n",
       "      <th>359298</th>\n",
       "      <td>9999839</td>\n",
       "      <td>948322592_28990736246</td>\n",
       "      <td>715530422_68620416793_515645</td>\n",
       "      <td>step_2</td>\n",
       "      <td>2017-03-29 12:11:50</td>\n",
       "      <td>Unknown</td>\n",
       "    </tr>\n",
       "    <tr>\n",
       "      <th>359297</th>\n",
       "      <td>9999839</td>\n",
       "      <td>948322592_28990736246</td>\n",
       "      <td>715530422_68620416793_515645</td>\n",
       "      <td>step_3</td>\n",
       "      <td>2017-03-29 12:12:28</td>\n",
       "      <td>Unknown</td>\n",
       "    </tr>\n",
       "    <tr>\n",
       "      <th>359296</th>\n",
       "      <td>9999839</td>\n",
       "      <td>948322592_28990736246</td>\n",
       "      <td>715530422_68620416793_515645</td>\n",
       "      <td>confirm</td>\n",
       "      <td>2017-03-29 12:13:03</td>\n",
       "      <td>Unknown</td>\n",
       "    </tr>\n",
       "  </tbody>\n",
       "</table>\n",
       "<p>385779 rows × 6 columns</p>\n",
       "</div>"
      ],
      "text/plain": [
       "        client_id             visitor_id                      visit_id  \\\n",
       "374121        169  201385055_71273495308  749567106_99161211863_557568   \n",
       "374120        169  201385055_71273495308  749567106_99161211863_557568   \n",
       "374119        169  201385055_71273495308  749567106_99161211863_557568   \n",
       "374118        169  201385055_71273495308  749567106_99161211863_557568   \n",
       "374117        169  201385055_71273495308  749567106_99161211863_557568   \n",
       "...           ...                    ...                           ...   \n",
       "359300    9999839  948322592_28990736246  715530422_68620416793_515645   \n",
       "359299    9999839  948322592_28990736246  715530422_68620416793_515645   \n",
       "359298    9999839  948322592_28990736246  715530422_68620416793_515645   \n",
       "359297    9999839  948322592_28990736246  715530422_68620416793_515645   \n",
       "359296    9999839  948322592_28990736246  715530422_68620416793_515645   \n",
       "\n",
       "       process_step           date_time Variation  \n",
       "374121        start 2017-04-12 20:19:36   Unknown  \n",
       "374120       step_1 2017-04-12 20:19:45   Unknown  \n",
       "374119       step_2 2017-04-12 20:20:31   Unknown  \n",
       "374118       step_3 2017-04-12 20:22:05   Unknown  \n",
       "374117      confirm 2017-04-12 20:23:09   Unknown  \n",
       "...             ...                 ...       ...  \n",
       "359300        start 2017-03-29 12:11:32   Unknown  \n",
       "359299       step_1 2017-03-29 12:11:35   Unknown  \n",
       "359298       step_2 2017-03-29 12:11:50   Unknown  \n",
       "359297       step_3 2017-03-29 12:12:28   Unknown  \n",
       "359296      confirm 2017-03-29 12:13:03   Unknown  \n",
       "\n",
       "[385779 rows x 6 columns]"
      ]
     },
     "execution_count": 440,
     "metadata": {},
     "output_type": "execute_result"
    }
   ],
   "source": [
    "df_web_ec_cleaned"
   ]
  },
  {
   "cell_type": "code",
   "execution_count": 446,
   "metadata": {},
   "outputs": [
    {
     "data": {
      "text/plain": [
       "array(['Unknown', 'Test', 'Control'], dtype=object)"
      ]
     },
     "execution_count": 446,
     "metadata": {},
     "output_type": "execute_result"
    }
   ],
   "source": [
    "df_web_ec_cleaned['Variation'].unique()"
   ]
  },
  {
   "cell_type": "code",
   "execution_count": 448,
   "metadata": {},
   "outputs": [
    {
     "data": {
      "text/html": [
       "<div>\n",
       "<style scoped>\n",
       "    .dataframe tbody tr th:only-of-type {\n",
       "        vertical-align: middle;\n",
       "    }\n",
       "\n",
       "    .dataframe tbody tr th {\n",
       "        vertical-align: top;\n",
       "    }\n",
       "\n",
       "    .dataframe thead th {\n",
       "        text-align: right;\n",
       "    }\n",
       "</style>\n",
       "<table border=\"1\" class=\"dataframe\">\n",
       "  <thead>\n",
       "    <tr style=\"text-align: right;\">\n",
       "      <th></th>\n",
       "      <th>client_id</th>\n",
       "      <th>Variation</th>\n",
       "      <th>process_step</th>\n",
       "    </tr>\n",
       "  </thead>\n",
       "  <tbody>\n",
       "    <tr>\n",
       "      <th>374121</th>\n",
       "      <td>169</td>\n",
       "      <td>Unknown</td>\n",
       "      <td>start</td>\n",
       "    </tr>\n",
       "    <tr>\n",
       "      <th>374120</th>\n",
       "      <td>169</td>\n",
       "      <td>Unknown</td>\n",
       "      <td>step_1</td>\n",
       "    </tr>\n",
       "    <tr>\n",
       "      <th>374119</th>\n",
       "      <td>169</td>\n",
       "      <td>Unknown</td>\n",
       "      <td>step_2</td>\n",
       "    </tr>\n",
       "    <tr>\n",
       "      <th>374118</th>\n",
       "      <td>169</td>\n",
       "      <td>Unknown</td>\n",
       "      <td>step_3</td>\n",
       "    </tr>\n",
       "    <tr>\n",
       "      <th>374117</th>\n",
       "      <td>169</td>\n",
       "      <td>Unknown</td>\n",
       "      <td>confirm</td>\n",
       "    </tr>\n",
       "    <tr>\n",
       "      <th>...</th>\n",
       "      <td>...</td>\n",
       "      <td>...</td>\n",
       "      <td>...</td>\n",
       "    </tr>\n",
       "    <tr>\n",
       "      <th>359300</th>\n",
       "      <td>9999839</td>\n",
       "      <td>Unknown</td>\n",
       "      <td>start</td>\n",
       "    </tr>\n",
       "    <tr>\n",
       "      <th>359299</th>\n",
       "      <td>9999839</td>\n",
       "      <td>Unknown</td>\n",
       "      <td>step_1</td>\n",
       "    </tr>\n",
       "    <tr>\n",
       "      <th>359298</th>\n",
       "      <td>9999839</td>\n",
       "      <td>Unknown</td>\n",
       "      <td>step_2</td>\n",
       "    </tr>\n",
       "    <tr>\n",
       "      <th>359297</th>\n",
       "      <td>9999839</td>\n",
       "      <td>Unknown</td>\n",
       "      <td>step_3</td>\n",
       "    </tr>\n",
       "    <tr>\n",
       "      <th>359296</th>\n",
       "      <td>9999839</td>\n",
       "      <td>Unknown</td>\n",
       "      <td>confirm</td>\n",
       "    </tr>\n",
       "  </tbody>\n",
       "</table>\n",
       "<p>290098 rows × 3 columns</p>\n",
       "</div>"
      ],
      "text/plain": [
       "        client_id Variation process_step\n",
       "374121        169   Unknown        start\n",
       "374120        169   Unknown       step_1\n",
       "374119        169   Unknown       step_2\n",
       "374118        169   Unknown       step_3\n",
       "374117        169   Unknown      confirm\n",
       "...           ...       ...          ...\n",
       "359300    9999839   Unknown        start\n",
       "359299    9999839   Unknown       step_1\n",
       "359298    9999839   Unknown       step_2\n",
       "359297    9999839   Unknown       step_3\n",
       "359296    9999839   Unknown      confirm\n",
       "\n",
       "[290098 rows x 3 columns]"
      ]
     },
     "execution_count": 448,
     "metadata": {},
     "output_type": "execute_result"
    }
   ],
   "source": [
    "df = df_web_ec_cleaned[['client_id', 'Variation', 'process_step']].drop_duplicates()\n",
    "df"
   ]
  },
  {
   "cell_type": "code",
   "execution_count": null,
   "metadata": {},
   "outputs": [],
   "source": []
  },
  {
   "cell_type": "code",
   "execution_count": null,
   "metadata": {},
   "outputs": [],
   "source": []
  },
  {
   "cell_type": "code",
   "execution_count": 450,
   "metadata": {},
   "outputs": [
    {
     "name": "stdout",
     "output_type": "stream",
     "text": [
      "Test completions: 18552 / 26545\n",
      "Control completions: 15309 / 23274\n"
     ]
    }
   ],
   "source": [
    "started = df[df['process_step'] == 'start']\n",
    "start_counts = started['Variation'].value_counts()\n",
    "\n",
    "# Count how many clients confirmed (we assume 'confirm' means process was completed)\n",
    "confirmed = df[df['process_step'] == 'confirm']\n",
    "confirm_counts = confirmed['Variation'].value_counts()\n",
    "\n",
    "# Extract numbers for Test and Control (ignore NaN/Unknown group for hypothesis test)\n",
    "x_test = confirm_counts.get('Test', 0)\n",
    "n_test = start_counts.get('Test', 0)\n",
    "\n",
    "x_control = confirm_counts.get('Control', 0)\n",
    "n_control = start_counts.get('Control', 0)\n",
    "\n",
    "print(f\"Test completions: {x_test} / {n_test}\")\n",
    "print(f\"Control completions: {x_control} / {n_control}\")"
   ]
  },
  {
   "cell_type": "code",
   "execution_count": null,
   "metadata": {},
   "outputs": [],
   "source": [
    "#H0:The increase in completion rate from the new UI (Test group) is less than 5% compared to the old UI (Control group).\n",
    "#h1:The increase in completion rate from the new UI (Test group) is at least 5% compared to the old UI (Control group).\n"
   ]
  },
  {
   "cell_type": "code",
   "execution_count": 452,
   "metadata": {},
   "outputs": [
    {
     "name": "stdout",
     "output_type": "stream",
     "text": [
      "Z-statistic: 9.8129\n",
      "P-value: 0.0000\n"
     ]
    }
   ],
   "source": [
    "from statsmodels.stats.proportion import proportions_ztest\n",
    "\n",
    "# Number of successes and observations\n",
    "successes = [x_test, x_control]\n",
    "observations = [n_test, n_control]\n",
    "\n",
    "# Perform the one-tailed z-test (H1: Test > Control)\n",
    "z_stat, p_value = proportions_ztest(count=successes, nobs=observations, alternative='larger')\n",
    "\n",
    "print(f\"Z-statistic: {z_stat:.4f}\")\n",
    "print(f\"P-value: {p_value:.4f}\")\n",
    "#There is a statistically significant difference in completion rates between the Test and Control groups. \n",
    "#Specifically, the Test group has a significantly higher completion rate than the Control group."
   ]
  },
  {
   "cell_type": "code",
   "execution_count": null,
   "metadata": {},
   "outputs": [],
   "source": []
  },
  {
   "cell_type": "code",
   "execution_count": null,
   "metadata": {},
   "outputs": [],
   "source": []
  },
  {
   "cell_type": "code",
   "execution_count": null,
   "metadata": {},
   "outputs": [],
   "source": []
  },
  {
   "cell_type": "code",
   "execution_count": 454,
   "metadata": {},
   "outputs": [
    {
     "name": "stdout",
     "output_type": "stream",
     "text": [
      "Test group completion rate: 69.8889%\n",
      "Control group completion rate: 65.7773%\n",
      "Absolute improvement: 4.1116%\n"
     ]
    }
   ],
   "source": [
    "#\n",
    "completion_rate_test = x_test / n_test\n",
    "completion_rate_control = x_control / n_control\n",
    "improvement = completion_rate_test - completion_rate_control\n",
    "\n",
    "print(f\"Test group completion rate: {completion_rate_test:.4%}\")\n",
    "print(f\"Control group completion rate: {completion_rate_control:.4%}\")\n",
    "print(f\"Absolute improvement: {improvement:.4%}\")\n"
   ]
  },
  {
   "cell_type": "code",
   "execution_count": 456,
   "metadata": {},
   "outputs": [
    {
     "name": "stdout",
     "output_type": "stream",
     "text": [
      "❌ The improvement does not meet the 5% threshold. The new design may not be justified.\n"
     ]
    }
   ],
   "source": [
    "threshold = 0.05  # 5%\n",
    "\n",
    "if improvement >= threshold:\n",
    "    print(\"✅ The improvement exceeds the 5% threshold. The new design is cost-effective.\")\n",
    "else:\n",
    "    print(\"❌ The improvement does not meet the 5% threshold. The new design may not be justified.\")\n"
   ]
  },
  {
   "cell_type": "code",
   "execution_count": 458,
   "metadata": {},
   "outputs": [
    {
     "name": "stdout",
     "output_type": "stream",
     "text": [
      "Z-statistic vs 5% threshold: -2.1203\n",
      "P-value vs 5% threshold: 0.9830\n"
     ]
    }
   ],
   "source": [
    "from statsmodels.stats.proportion import proportions_ztest\n",
    "\n",
    "# Your data\n",
    "successes = [x_test, x_control]\n",
    "observations = [n_test, n_control]\n",
    "\n",
    "# Vanguard threshold (5%)\n",
    "min_effect = 0.05\n",
    "\n",
    "# Run a one-sided z-test against a null difference of 5%\n",
    "z_stat, p_value = proportions_ztest(\n",
    "    count=successes,\n",
    "    nobs=observations,\n",
    "    value=min_effect,  # Test against 5% improvement instead of 0%\n",
    "    alternative='larger'  # One-sided: test if observed difference > 5%\n",
    ")\n",
    "\n",
    "print(f\"Z-statistic vs 5% threshold: {z_stat:.4f}\")\n",
    "print(f\"P-value vs 5% threshold: {p_value:.4f}\")\n"
   ]
  },
  {
   "cell_type": "code",
   "execution_count": null,
   "metadata": {},
   "outputs": [],
   "source": []
  },
  {
   "cell_type": "code",
   "execution_count": 482,
   "metadata": {},
   "outputs": [],
   "source": [
    "df_merged = df_web_ec_cleaned.merge(df_demo, on='client_id', how='inner')"
   ]
  },
  {
   "cell_type": "code",
   "execution_count": null,
   "metadata": {},
   "outputs": [],
   "source": [
    "#Hypothesis 3: \n",
    "#H0:The average tenure is the same between Control and Test groups.\n",
    "#H1:The average tenure is different between Control and Test groups."
   ]
  },
  {
   "cell_type": "code",
   "execution_count": 484,
   "metadata": {},
   "outputs": [
    {
     "data": {
      "text/html": [
       "<div>\n",
       "<style scoped>\n",
       "    .dataframe tbody tr th:only-of-type {\n",
       "        vertical-align: middle;\n",
       "    }\n",
       "\n",
       "    .dataframe tbody tr th {\n",
       "        vertical-align: top;\n",
       "    }\n",
       "\n",
       "    .dataframe thead th {\n",
       "        text-align: right;\n",
       "    }\n",
       "</style>\n",
       "<table border=\"1\" class=\"dataframe\">\n",
       "  <thead>\n",
       "    <tr style=\"text-align: right;\">\n",
       "      <th></th>\n",
       "      <th>client_id</th>\n",
       "      <th>visitor_id</th>\n",
       "      <th>visit_id</th>\n",
       "      <th>process_step</th>\n",
       "      <th>date_time</th>\n",
       "      <th>Variation</th>\n",
       "      <th>clnt_tenure_yr</th>\n",
       "      <th>clnt_tenure_mnth</th>\n",
       "      <th>clnt_age</th>\n",
       "      <th>gendr</th>\n",
       "      <th>num_accts</th>\n",
       "      <th>bal</th>\n",
       "      <th>calls_6_mnth</th>\n",
       "      <th>logons_6_mnth</th>\n",
       "    </tr>\n",
       "  </thead>\n",
       "  <tbody>\n",
       "    <tr>\n",
       "      <th>0</th>\n",
       "      <td>169</td>\n",
       "      <td>201385055_71273495308</td>\n",
       "      <td>749567106_99161211863_557568</td>\n",
       "      <td>start</td>\n",
       "      <td>2017-04-12 20:19:36</td>\n",
       "      <td>Unknown</td>\n",
       "      <td>21.0</td>\n",
       "      <td>262.0</td>\n",
       "      <td>47.5</td>\n",
       "      <td>M</td>\n",
       "      <td>2.0</td>\n",
       "      <td>501570.72</td>\n",
       "      <td>4.0</td>\n",
       "      <td>4.0</td>\n",
       "    </tr>\n",
       "    <tr>\n",
       "      <th>1</th>\n",
       "      <td>169</td>\n",
       "      <td>201385055_71273495308</td>\n",
       "      <td>749567106_99161211863_557568</td>\n",
       "      <td>step_1</td>\n",
       "      <td>2017-04-12 20:19:45</td>\n",
       "      <td>Unknown</td>\n",
       "      <td>21.0</td>\n",
       "      <td>262.0</td>\n",
       "      <td>47.5</td>\n",
       "      <td>M</td>\n",
       "      <td>2.0</td>\n",
       "      <td>501570.72</td>\n",
       "      <td>4.0</td>\n",
       "      <td>4.0</td>\n",
       "    </tr>\n",
       "    <tr>\n",
       "      <th>2</th>\n",
       "      <td>169</td>\n",
       "      <td>201385055_71273495308</td>\n",
       "      <td>749567106_99161211863_557568</td>\n",
       "      <td>step_2</td>\n",
       "      <td>2017-04-12 20:20:31</td>\n",
       "      <td>Unknown</td>\n",
       "      <td>21.0</td>\n",
       "      <td>262.0</td>\n",
       "      <td>47.5</td>\n",
       "      <td>M</td>\n",
       "      <td>2.0</td>\n",
       "      <td>501570.72</td>\n",
       "      <td>4.0</td>\n",
       "      <td>4.0</td>\n",
       "    </tr>\n",
       "    <tr>\n",
       "      <th>3</th>\n",
       "      <td>169</td>\n",
       "      <td>201385055_71273495308</td>\n",
       "      <td>749567106_99161211863_557568</td>\n",
       "      <td>step_3</td>\n",
       "      <td>2017-04-12 20:22:05</td>\n",
       "      <td>Unknown</td>\n",
       "      <td>21.0</td>\n",
       "      <td>262.0</td>\n",
       "      <td>47.5</td>\n",
       "      <td>M</td>\n",
       "      <td>2.0</td>\n",
       "      <td>501570.72</td>\n",
       "      <td>4.0</td>\n",
       "      <td>4.0</td>\n",
       "    </tr>\n",
       "    <tr>\n",
       "      <th>4</th>\n",
       "      <td>169</td>\n",
       "      <td>201385055_71273495308</td>\n",
       "      <td>749567106_99161211863_557568</td>\n",
       "      <td>confirm</td>\n",
       "      <td>2017-04-12 20:23:09</td>\n",
       "      <td>Unknown</td>\n",
       "      <td>21.0</td>\n",
       "      <td>262.0</td>\n",
       "      <td>47.5</td>\n",
       "      <td>M</td>\n",
       "      <td>2.0</td>\n",
       "      <td>501570.72</td>\n",
       "      <td>4.0</td>\n",
       "      <td>4.0</td>\n",
       "    </tr>\n",
       "    <tr>\n",
       "      <th>...</th>\n",
       "      <td>...</td>\n",
       "      <td>...</td>\n",
       "      <td>...</td>\n",
       "      <td>...</td>\n",
       "      <td>...</td>\n",
       "      <td>...</td>\n",
       "      <td>...</td>\n",
       "      <td>...</td>\n",
       "      <td>...</td>\n",
       "      <td>...</td>\n",
       "      <td>...</td>\n",
       "      <td>...</td>\n",
       "      <td>...</td>\n",
       "      <td>...</td>\n",
       "    </tr>\n",
       "    <tr>\n",
       "      <th>385774</th>\n",
       "      <td>9999839</td>\n",
       "      <td>948322592_28990736246</td>\n",
       "      <td>715530422_68620416793_515645</td>\n",
       "      <td>start</td>\n",
       "      <td>2017-03-29 12:11:32</td>\n",
       "      <td>Unknown</td>\n",
       "      <td>13.0</td>\n",
       "      <td>160.0</td>\n",
       "      <td>28.5</td>\n",
       "      <td>F</td>\n",
       "      <td>2.0</td>\n",
       "      <td>67425.35</td>\n",
       "      <td>3.0</td>\n",
       "      <td>3.0</td>\n",
       "    </tr>\n",
       "    <tr>\n",
       "      <th>385775</th>\n",
       "      <td>9999839</td>\n",
       "      <td>948322592_28990736246</td>\n",
       "      <td>715530422_68620416793_515645</td>\n",
       "      <td>step_1</td>\n",
       "      <td>2017-03-29 12:11:35</td>\n",
       "      <td>Unknown</td>\n",
       "      <td>13.0</td>\n",
       "      <td>160.0</td>\n",
       "      <td>28.5</td>\n",
       "      <td>F</td>\n",
       "      <td>2.0</td>\n",
       "      <td>67425.35</td>\n",
       "      <td>3.0</td>\n",
       "      <td>3.0</td>\n",
       "    </tr>\n",
       "    <tr>\n",
       "      <th>385776</th>\n",
       "      <td>9999839</td>\n",
       "      <td>948322592_28990736246</td>\n",
       "      <td>715530422_68620416793_515645</td>\n",
       "      <td>step_2</td>\n",
       "      <td>2017-03-29 12:11:50</td>\n",
       "      <td>Unknown</td>\n",
       "      <td>13.0</td>\n",
       "      <td>160.0</td>\n",
       "      <td>28.5</td>\n",
       "      <td>F</td>\n",
       "      <td>2.0</td>\n",
       "      <td>67425.35</td>\n",
       "      <td>3.0</td>\n",
       "      <td>3.0</td>\n",
       "    </tr>\n",
       "    <tr>\n",
       "      <th>385777</th>\n",
       "      <td>9999839</td>\n",
       "      <td>948322592_28990736246</td>\n",
       "      <td>715530422_68620416793_515645</td>\n",
       "      <td>step_3</td>\n",
       "      <td>2017-03-29 12:12:28</td>\n",
       "      <td>Unknown</td>\n",
       "      <td>13.0</td>\n",
       "      <td>160.0</td>\n",
       "      <td>28.5</td>\n",
       "      <td>F</td>\n",
       "      <td>2.0</td>\n",
       "      <td>67425.35</td>\n",
       "      <td>3.0</td>\n",
       "      <td>3.0</td>\n",
       "    </tr>\n",
       "    <tr>\n",
       "      <th>385778</th>\n",
       "      <td>9999839</td>\n",
       "      <td>948322592_28990736246</td>\n",
       "      <td>715530422_68620416793_515645</td>\n",
       "      <td>confirm</td>\n",
       "      <td>2017-03-29 12:13:03</td>\n",
       "      <td>Unknown</td>\n",
       "      <td>13.0</td>\n",
       "      <td>160.0</td>\n",
       "      <td>28.5</td>\n",
       "      <td>F</td>\n",
       "      <td>2.0</td>\n",
       "      <td>67425.35</td>\n",
       "      <td>3.0</td>\n",
       "      <td>3.0</td>\n",
       "    </tr>\n",
       "  </tbody>\n",
       "</table>\n",
       "<p>385779 rows × 14 columns</p>\n",
       "</div>"
      ],
      "text/plain": [
       "        client_id             visitor_id                      visit_id  \\\n",
       "0             169  201385055_71273495308  749567106_99161211863_557568   \n",
       "1             169  201385055_71273495308  749567106_99161211863_557568   \n",
       "2             169  201385055_71273495308  749567106_99161211863_557568   \n",
       "3             169  201385055_71273495308  749567106_99161211863_557568   \n",
       "4             169  201385055_71273495308  749567106_99161211863_557568   \n",
       "...           ...                    ...                           ...   \n",
       "385774    9999839  948322592_28990736246  715530422_68620416793_515645   \n",
       "385775    9999839  948322592_28990736246  715530422_68620416793_515645   \n",
       "385776    9999839  948322592_28990736246  715530422_68620416793_515645   \n",
       "385777    9999839  948322592_28990736246  715530422_68620416793_515645   \n",
       "385778    9999839  948322592_28990736246  715530422_68620416793_515645   \n",
       "\n",
       "       process_step           date_time Variation  clnt_tenure_yr  \\\n",
       "0             start 2017-04-12 20:19:36   Unknown            21.0   \n",
       "1            step_1 2017-04-12 20:19:45   Unknown            21.0   \n",
       "2            step_2 2017-04-12 20:20:31   Unknown            21.0   \n",
       "3            step_3 2017-04-12 20:22:05   Unknown            21.0   \n",
       "4           confirm 2017-04-12 20:23:09   Unknown            21.0   \n",
       "...             ...                 ...       ...             ...   \n",
       "385774        start 2017-03-29 12:11:32   Unknown            13.0   \n",
       "385775       step_1 2017-03-29 12:11:35   Unknown            13.0   \n",
       "385776       step_2 2017-03-29 12:11:50   Unknown            13.0   \n",
       "385777       step_3 2017-03-29 12:12:28   Unknown            13.0   \n",
       "385778      confirm 2017-03-29 12:13:03   Unknown            13.0   \n",
       "\n",
       "        clnt_tenure_mnth  clnt_age gendr  num_accts        bal  calls_6_mnth  \\\n",
       "0                  262.0      47.5     M        2.0  501570.72           4.0   \n",
       "1                  262.0      47.5     M        2.0  501570.72           4.0   \n",
       "2                  262.0      47.5     M        2.0  501570.72           4.0   \n",
       "3                  262.0      47.5     M        2.0  501570.72           4.0   \n",
       "4                  262.0      47.5     M        2.0  501570.72           4.0   \n",
       "...                  ...       ...   ...        ...        ...           ...   \n",
       "385774             160.0      28.5     F        2.0   67425.35           3.0   \n",
       "385775             160.0      28.5     F        2.0   67425.35           3.0   \n",
       "385776             160.0      28.5     F        2.0   67425.35           3.0   \n",
       "385777             160.0      28.5     F        2.0   67425.35           3.0   \n",
       "385778             160.0      28.5     F        2.0   67425.35           3.0   \n",
       "\n",
       "        logons_6_mnth  \n",
       "0                 4.0  \n",
       "1                 4.0  \n",
       "2                 4.0  \n",
       "3                 4.0  \n",
       "4                 4.0  \n",
       "...               ...  \n",
       "385774            3.0  \n",
       "385775            3.0  \n",
       "385776            3.0  \n",
       "385777            3.0  \n",
       "385778            3.0  \n",
       "\n",
       "[385779 rows x 14 columns]"
      ]
     },
     "execution_count": 484,
     "metadata": {},
     "output_type": "execute_result"
    }
   ],
   "source": [
    "df_merged"
   ]
  },
  {
   "cell_type": "code",
   "execution_count": null,
   "metadata": {},
   "outputs": [],
   "source": []
  },
  {
   "cell_type": "code",
   "execution_count": 486,
   "metadata": {},
   "outputs": [],
   "source": [
    "df_merged_unique = df_merged.drop_duplicates(subset='client_id')"
   ]
  },
  {
   "cell_type": "code",
   "execution_count": 488,
   "metadata": {},
   "outputs": [
    {
     "name": "stdout",
     "output_type": "stream",
     "text": [
      "T-statistic: -1.7204\n",
      "P-value: 0.0854\n"
     ]
    }
   ],
   "source": [
    "from scipy.stats import ttest_ind\n",
    "\n",
    "# Filter to Test and Control only\n",
    "filtered = df_merged_unique[df_merged_unique['Variation'].isin(['Test', 'Control'])]\n",
    "\n",
    "# Separate tenure values\n",
    "tenure_test = filtered[filtered['Variation'] == 'Test']['clnt_tenure_yr'].dropna()\n",
    "tenure_control = filtered[filtered['Variation'] == 'Control']['clnt_tenure_yr'].dropna()\n",
    "\n",
    "# Run two-sample t-test (equal_var=False for Welch’s t-test, safer when variances may differ)\n",
    "t_stat, p_value = ttest_ind(tenure_test, tenure_control, equal_var=False)\n",
    "\n",
    "print(f\"T-statistic: {t_stat:.4f}\")\n",
    "print(f\"P-value: {p_value:.4f}\")\n"
   ]
  },
  {
   "cell_type": "code",
   "execution_count": null,
   "metadata": {},
   "outputs": [],
   "source": []
  },
  {
   "cell_type": "code",
   "execution_count": null,
   "metadata": {},
   "outputs": [],
   "source": []
  },
  {
   "cell_type": "code",
   "execution_count": null,
   "metadata": {},
   "outputs": [],
   "source": []
  },
  {
   "cell_type": "code",
   "execution_count": null,
   "metadata": {},
   "outputs": [],
   "source": []
  },
  {
   "cell_type": "code",
   "execution_count": 492,
   "metadata": {},
   "outputs": [
    {
     "name": "stdout",
     "output_type": "stream",
     "text": [
      "Contingency Table:\n",
      "gendr         F     M     U  X\n",
      "Variation                     \n",
      "Control    7542  7970  8012  0\n",
      "Test       8715  8977  9266  2\n",
      "\n",
      "Chi-square statistic: 3.6439\n",
      "P-value: 0.3026\n",
      "No significant association between gender and process variation assignment.\n"
     ]
    }
   ],
   "source": [
    "#h0: the gender distribution is balanced between Test and Control Group.\n",
    "import pandas as pd\n",
    "from scipy.stats import chi2_contingency\n",
    "\n",
    "# Only keep Test and Control\n",
    "filtered = df_merged_unique[df_merged_unique['Variation'].isin(['Test', 'Control'])]\n",
    "\n",
    "# Create a contingency table\n",
    "contingency_table = pd.crosstab(filtered['Variation'], filtered['gendr'])\n",
    "\n",
    "# Run chi-square test\n",
    "chi2, p, dof, expected = chi2_contingency(contingency_table)\n",
    "\n",
    "print(\"Contingency Table:\")\n",
    "print(contingency_table)\n",
    "print(f\"\\nChi-square statistic: {chi2:.4f}\")\n",
    "print(f\"P-value: {p:.4f}\")\n",
    "if p < 0.05:\n",
    "    print(\"There is a significant association between gender and process variation assignment.\")\n",
    "else:\n",
    "    print(\"No significant association between gender and process variation assignment.\")\n"
   ]
  },
  {
   "cell_type": "code",
   "execution_count": 494,
   "metadata": {},
   "outputs": [
    {
     "data": {
      "image/png": "[encoded data removed]",
      "text/plain": [
       "<Figure size 800x500 with 1 Axes>"
      ]
     },
     "metadata": {},
     "output_type": "display_data"
    }
   ],
   "source": [
    "import matplotlib.pyplot as plt\n",
    "import pandas as pd\n",
    "\n",
    "# Filter to Test and Control\n",
    "filtered = df_merged_unique[df_merged_unique['Variation'].isin(['Test', 'Control'])]\n",
    "\n",
    "# Create the contingency table\n",
    "gender_counts = pd.crosstab(filtered['Variation'], filtered['gendr'])\n",
    "\n",
    "# Plot\n",
    "gender_counts.plot(kind='bar', figsize=(8, 5))\n",
    "\n",
    "plt.title('Gender Distribution by Variation Group')\n",
    "plt.xlabel('Variation')\n",
    "plt.ylabel('Number of Clients')\n",
    "plt.legend(title='Gender')\n",
    "plt.xticks(rotation=0)\n",
    "plt.tight_layout()\n",
    "plt.show()\n"
   ]
  },
  {
   "cell_type": "code",
   "execution_count": 518,
   "metadata": {},
   "outputs": [
    {
     "data": {
      "text/html": [
       "<div>\n",
       "<style scoped>\n",
       "    .dataframe tbody tr th:only-of-type {\n",
       "        vertical-align: middle;\n",
       "    }\n",
       "\n",
       "    .dataframe tbody tr th {\n",
       "        vertical-align: top;\n",
       "    }\n",
       "\n",
       "    .dataframe thead th {\n",
       "        text-align: right;\n",
       "    }\n",
       "</style>\n",
       "<table border=\"1\" class=\"dataframe\">\n",
       "  <thead>\n",
       "    <tr style=\"text-align: right;\">\n",
       "      <th></th>\n",
       "      <th>client_id</th>\n",
       "      <th>visitor_id</th>\n",
       "      <th>visit_id</th>\n",
       "      <th>process_step</th>\n",
       "      <th>date_time</th>\n",
       "      <th>Variation</th>\n",
       "    </tr>\n",
       "  </thead>\n",
       "  <tbody>\n",
       "    <tr>\n",
       "      <th>374121</th>\n",
       "      <td>169</td>\n",
       "      <td>201385055_71273495308</td>\n",
       "      <td>749567106_99161211863_557568</td>\n",
       "      <td>start</td>\n",
       "      <td>2017-04-12 20:19:36</td>\n",
       "      <td>Unknown</td>\n",
       "    </tr>\n",
       "    <tr>\n",
       "      <th>374120</th>\n",
       "      <td>169</td>\n",
       "      <td>201385055_71273495308</td>\n",
       "      <td>749567106_99161211863_557568</td>\n",
       "      <td>step_1</td>\n",
       "      <td>2017-04-12 20:19:45</td>\n",
       "      <td>Unknown</td>\n",
       "    </tr>\n",
       "    <tr>\n",
       "      <th>374119</th>\n",
       "      <td>169</td>\n",
       "      <td>201385055_71273495308</td>\n",
       "      <td>749567106_99161211863_557568</td>\n",
       "      <td>step_2</td>\n",
       "      <td>2017-04-12 20:20:31</td>\n",
       "      <td>Unknown</td>\n",
       "    </tr>\n",
       "    <tr>\n",
       "      <th>374118</th>\n",
       "      <td>169</td>\n",
       "      <td>201385055_71273495308</td>\n",
       "      <td>749567106_99161211863_557568</td>\n",
       "      <td>step_3</td>\n",
       "      <td>2017-04-12 20:22:05</td>\n",
       "      <td>Unknown</td>\n",
       "    </tr>\n",
       "    <tr>\n",
       "      <th>374117</th>\n",
       "      <td>169</td>\n",
       "      <td>201385055_71273495308</td>\n",
       "      <td>749567106_99161211863_557568</td>\n",
       "      <td>confirm</td>\n",
       "      <td>2017-04-12 20:23:09</td>\n",
       "      <td>Unknown</td>\n",
       "    </tr>\n",
       "    <tr>\n",
       "      <th>...</th>\n",
       "      <td>...</td>\n",
       "      <td>...</td>\n",
       "      <td>...</td>\n",
       "      <td>...</td>\n",
       "      <td>...</td>\n",
       "      <td>...</td>\n",
       "    </tr>\n",
       "    <tr>\n",
       "      <th>359300</th>\n",
       "      <td>9999839</td>\n",
       "      <td>948322592_28990736246</td>\n",
       "      <td>715530422_68620416793_515645</td>\n",
       "      <td>start</td>\n",
       "      <td>2017-03-29 12:11:32</td>\n",
       "      <td>Unknown</td>\n",
       "    </tr>\n",
       "    <tr>\n",
       "      <th>359299</th>\n",
       "      <td>9999839</td>\n",
       "      <td>948322592_28990736246</td>\n",
       "      <td>715530422_68620416793_515645</td>\n",
       "      <td>step_1</td>\n",
       "      <td>2017-03-29 12:11:35</td>\n",
       "      <td>Unknown</td>\n",
       "    </tr>\n",
       "    <tr>\n",
       "      <th>359298</th>\n",
       "      <td>9999839</td>\n",
       "      <td>948322592_28990736246</td>\n",
       "      <td>715530422_68620416793_515645</td>\n",
       "      <td>step_2</td>\n",
       "      <td>2017-03-29 12:11:50</td>\n",
       "      <td>Unknown</td>\n",
       "    </tr>\n",
       "    <tr>\n",
       "      <th>359297</th>\n",
       "      <td>9999839</td>\n",
       "      <td>948322592_28990736246</td>\n",
       "      <td>715530422_68620416793_515645</td>\n",
       "      <td>step_3</td>\n",
       "      <td>2017-03-29 12:12:28</td>\n",
       "      <td>Unknown</td>\n",
       "    </tr>\n",
       "    <tr>\n",
       "      <th>359296</th>\n",
       "      <td>9999839</td>\n",
       "      <td>948322592_28990736246</td>\n",
       "      <td>715530422_68620416793_515645</td>\n",
       "      <td>confirm</td>\n",
       "      <td>2017-03-29 12:13:03</td>\n",
       "      <td>Unknown</td>\n",
       "    </tr>\n",
       "  </tbody>\n",
       "</table>\n",
       "<p>385779 rows × 6 columns</p>\n",
       "</div>"
      ],
      "text/plain": [
       "        client_id             visitor_id                      visit_id  \\\n",
       "374121        169  201385055_71273495308  749567106_99161211863_557568   \n",
       "374120        169  201385055_71273495308  749567106_99161211863_557568   \n",
       "374119        169  201385055_71273495308  749567106_99161211863_557568   \n",
       "374118        169  201385055_71273495308  749567106_99161211863_557568   \n",
       "374117        169  201385055_71273495308  749567106_99161211863_557568   \n",
       "...           ...                    ...                           ...   \n",
       "359300    9999839  948322592_28990736246  715530422_68620416793_515645   \n",
       "359299    9999839  948322592_28990736246  715530422_68620416793_515645   \n",
       "359298    9999839  948322592_28990736246  715530422_68620416793_515645   \n",
       "359297    9999839  948322592_28990736246  715530422_68620416793_515645   \n",
       "359296    9999839  948322592_28990736246  715530422_68620416793_515645   \n",
       "\n",
       "       process_step           date_time Variation  \n",
       "374121        start 2017-04-12 20:19:36   Unknown  \n",
       "374120       step_1 2017-04-12 20:19:45   Unknown  \n",
       "374119       step_2 2017-04-12 20:20:31   Unknown  \n",
       "374118       step_3 2017-04-12 20:22:05   Unknown  \n",
       "374117      confirm 2017-04-12 20:23:09   Unknown  \n",
       "...             ...                 ...       ...  \n",
       "359300        start 2017-03-29 12:11:32   Unknown  \n",
       "359299       step_1 2017-03-29 12:11:35   Unknown  \n",
       "359298       step_2 2017-03-29 12:11:50   Unknown  \n",
       "359297       step_3 2017-03-29 12:12:28   Unknown  \n",
       "359296      confirm 2017-03-29 12:13:03   Unknown  \n",
       "\n",
       "[385779 rows x 6 columns]"
      ]
     },
     "execution_count": 518,
     "metadata": {},
     "output_type": "execute_result"
    }
   ],
   "source": [
    "df_web_ec_cleaned"
   ]
  },
  {
   "cell_type": "code",
   "execution_count": 536,
   "metadata": {},
   "outputs": [],
   "source": [
    "\n",
    "no_of_start = df_web_ec_cleaned[df_web_ec_cleaned['process_step'] == 'start']['client_id'].nunique()\n",
    "no_of_confirm = df_web_ec_cleaned[df_web_ec_cleaned['process_step'] == 'confirm']['client_id'].nunique()\n"
   ]
  },
  {
   "cell_type": "code",
   "execution_count": 540,
   "metadata": {},
   "outputs": [
    {
     "data": {
      "text/plain": [
       "47452"
      ]
     },
     "execution_count": 540,
     "metadata": {},
     "output_type": "execute_result"
    }
   ],
   "source": [
    "no_of_confirm"
   ]
  },
  {
   "cell_type": "code",
   "execution_count": 538,
   "metadata": {},
   "outputs": [
    {
     "data": {
      "text/plain": [
       "0.681174815537883"
      ]
     },
     "execution_count": 538,
     "metadata": {},
     "output_type": "execute_result"
    }
   ],
   "source": [
    "completion_rate = no_of_confirm / no_of_start\n",
    "completion_rate"
   ]
  },
  {
   "cell_type": "code",
   "execution_count": null,
   "metadata": {},
   "outputs": [],
   "source": []
  }
 ],
 "metadata": {
  "kernelspec": {
   "display_name": "Python [conda env:base] *",
   "language": "python",
   "name": "conda-base-py"
  },
  "language_info": {
   "codemirror_mode": {
    "name": "ipython",
    "version": 3
   },
   "file_extension": ".py",
   "mimetype": "text/x-python",
   "name": "python",
   "nbconvert_exporter": "python",
   "pygments_lexer": "ipython3",
   "version": "3.12.7"
  }
 },
 "nbformat": 4,
 "nbformat_minor": 4
}
