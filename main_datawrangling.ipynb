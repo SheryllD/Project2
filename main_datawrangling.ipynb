{
 "cells": [
  {
   "cell_type": "markdown",
   "metadata": {},
   "source": [
    "# Data wrangling Project 2\n",
    "This file is used for exploring and refining the datasets."
   ]
  },
  {
   "cell_type": "markdown",
   "metadata": {},
   "source": [
    "Importing Libraries"
   ]
  },
  {
   "cell_type": "code",
   "execution_count": 6,
   "metadata": {},
   "outputs": [],
   "source": [
    "import pandas as pd\n",
    "import numpy as np\n",
    "import matplotlib.pyplot as plt\n",
    "import seaborn as sns\n",
    "import warnings\n",
    "from datetime import datetime\n",
    "from IPython.display import display\n",
    "warnings.filterwarnings('ignore')"
   ]
  },
  {
   "cell_type": "markdown",
   "metadata": {},
   "source": [
    "# Loading the datasets"
   ]
  },
  {
   "cell_type": "markdown",
   "metadata": {},
   "source": [
    "Just with .txt files, without converting it to csv (works perfectly fine)"
   ]
  },
  {
   "cell_type": "code",
   "execution_count": 7,
   "metadata": {},
   "outputs": [],
   "source": [
    "# Defining the file path \n",
    "file_path_client = 'Datasets/Datasets_raw/df_final_experiment_clients.txt'\n",
    "file_path_fwd1 = 'Datasets/Datasets_raw/df_final_web_data_pt_1.txt'\n",
    "file_path_fwd2 = 'Datasets/Datasets_raw/df_final_web_data_pt_2.txt'\n",
    "\n",
    "# Defining the file path for the demo set\n",
    "file_path_demo = 'Datasets/Datasets_raw/df_final_demo.txt'\n",
    "\n",
    "# Loading the CSV files into DataFrames\n",
    "df_client = pd.read_csv(file_path_client)\n",
    "df_fwd1 = pd.read_csv(file_path_fwd1)\n",
    "df_fwd2 = pd.read_csv(file_path_fwd2)\n",
    "\n",
    "# Loading the demo file into Dataframe\n",
    "df_demo = pd.read_csv(file_path_demo)"
   ]
  },
  {
   "cell_type": "markdown",
   "metadata": {},
   "source": [
    "## Naming of the dataframes \n",
    "Here are all the information about the datasets that are merged together\n",
    "- df_web = web data 1 and web data 2 merged together \n",
    "- df_web_ec = experiment clients data + web d1 + web df2\n",
    "- df_merged = df start + df demo "
   ]
  },
  {
   "cell_type": "markdown",
   "metadata": {},
   "source": [
    "# Exploring the datasets"
   ]
  },
  {
   "cell_type": "markdown",
   "metadata": {},
   "source": [
    "### Exploring the webdataset  part 1 "
   ]
  },
  {
   "cell_type": "code",
   "execution_count": null,
   "metadata": {},
   "outputs": [],
   "source": [
    "# Here I am checking the columns of the dataframes if the first web data file\n",
    "df_fwd1"
   ]
  },
  {
   "cell_type": "code",
   "execution_count": null,
   "metadata": {},
   "outputs": [],
   "source": [
    "df_fwd1.info()\n",
    "df_fwd1.head()"
   ]
  },
  {
   "cell_type": "markdown",
   "metadata": {},
   "source": [
    "### Exploring the webdataset  part 2"
   ]
  },
  {
   "cell_type": "code",
   "execution_count": 10,
   "metadata": {},
   "outputs": [
    {
     "data": {
      "text/html": [
       "<div>\n",
       "<style scoped>\n",
       "    .dataframe tbody tr th:only-of-type {\n",
       "        vertical-align: middle;\n",
       "    }\n",
       "\n",
       "    .dataframe tbody tr th {\n",
       "        vertical-align: top;\n",
       "    }\n",
       "\n",
       "    .dataframe thead th {\n",
       "        text-align: right;\n",
       "    }\n",
       "</style>\n",
       "<table border=\"1\" class=\"dataframe\">\n",
       "  <thead>\n",
       "    <tr style=\"text-align: right;\">\n",
       "      <th></th>\n",
       "      <th>client_id</th>\n",
       "      <th>visitor_id</th>\n",
       "      <th>visit_id</th>\n",
       "      <th>process_step</th>\n",
       "      <th>date_time</th>\n",
       "    </tr>\n",
       "  </thead>\n",
       "  <tbody>\n",
       "    <tr>\n",
       "      <th>0</th>\n",
       "      <td>763412</td>\n",
       "      <td>601952081_10457207388</td>\n",
       "      <td>397475557_40440946728_419634</td>\n",
       "      <td>confirm</td>\n",
       "      <td>2017-06-06 08:56:00</td>\n",
       "    </tr>\n",
       "    <tr>\n",
       "      <th>1</th>\n",
       "      <td>6019349</td>\n",
       "      <td>442094451_91531546617</td>\n",
       "      <td>154620534_35331068705_522317</td>\n",
       "      <td>confirm</td>\n",
       "      <td>2017-06-01 11:59:27</td>\n",
       "    </tr>\n",
       "    <tr>\n",
       "      <th>2</th>\n",
       "      <td>6019349</td>\n",
       "      <td>442094451_91531546617</td>\n",
       "      <td>154620534_35331068705_522317</td>\n",
       "      <td>step_3</td>\n",
       "      <td>2017-06-01 11:58:48</td>\n",
       "    </tr>\n",
       "    <tr>\n",
       "      <th>3</th>\n",
       "      <td>6019349</td>\n",
       "      <td>442094451_91531546617</td>\n",
       "      <td>154620534_35331068705_522317</td>\n",
       "      <td>step_2</td>\n",
       "      <td>2017-06-01 11:58:08</td>\n",
       "    </tr>\n",
       "    <tr>\n",
       "      <th>4</th>\n",
       "      <td>6019349</td>\n",
       "      <td>442094451_91531546617</td>\n",
       "      <td>154620534_35331068705_522317</td>\n",
       "      <td>step_1</td>\n",
       "      <td>2017-06-01 11:57:58</td>\n",
       "    </tr>\n",
       "    <tr>\n",
       "      <th>...</th>\n",
       "      <td>...</td>\n",
       "      <td>...</td>\n",
       "      <td>...</td>\n",
       "      <td>...</td>\n",
       "      <td>...</td>\n",
       "    </tr>\n",
       "    <tr>\n",
       "      <th>412259</th>\n",
       "      <td>9668240</td>\n",
       "      <td>388766751_9038881013</td>\n",
       "      <td>922267647_3096648104_968866</td>\n",
       "      <td>start</td>\n",
       "      <td>2017-05-24 18:46:10</td>\n",
       "    </tr>\n",
       "    <tr>\n",
       "      <th>412260</th>\n",
       "      <td>9668240</td>\n",
       "      <td>388766751_9038881013</td>\n",
       "      <td>922267647_3096648104_968866</td>\n",
       "      <td>start</td>\n",
       "      <td>2017-05-24 18:45:29</td>\n",
       "    </tr>\n",
       "    <tr>\n",
       "      <th>412261</th>\n",
       "      <td>9668240</td>\n",
       "      <td>388766751_9038881013</td>\n",
       "      <td>922267647_3096648104_968866</td>\n",
       "      <td>step_1</td>\n",
       "      <td>2017-05-24 18:44:51</td>\n",
       "    </tr>\n",
       "    <tr>\n",
       "      <th>412262</th>\n",
       "      <td>9668240</td>\n",
       "      <td>388766751_9038881013</td>\n",
       "      <td>922267647_3096648104_968866</td>\n",
       "      <td>start</td>\n",
       "      <td>2017-05-24 18:44:34</td>\n",
       "    </tr>\n",
       "    <tr>\n",
       "      <th>412263</th>\n",
       "      <td>674799</td>\n",
       "      <td>947159805_81558194550</td>\n",
       "      <td>86152093_47511127657_716022</td>\n",
       "      <td>start</td>\n",
       "      <td>2017-06-03 12:17:09</td>\n",
       "    </tr>\n",
       "  </tbody>\n",
       "</table>\n",
       "<p>412264 rows × 5 columns</p>\n",
       "</div>"
      ],
      "text/plain": [
       "        client_id             visitor_id                      visit_id  \\\n",
       "0          763412  601952081_10457207388  397475557_40440946728_419634   \n",
       "1         6019349  442094451_91531546617  154620534_35331068705_522317   \n",
       "2         6019349  442094451_91531546617  154620534_35331068705_522317   \n",
       "3         6019349  442094451_91531546617  154620534_35331068705_522317   \n",
       "4         6019349  442094451_91531546617  154620534_35331068705_522317   \n",
       "...           ...                    ...                           ...   \n",
       "412259    9668240   388766751_9038881013   922267647_3096648104_968866   \n",
       "412260    9668240   388766751_9038881013   922267647_3096648104_968866   \n",
       "412261    9668240   388766751_9038881013   922267647_3096648104_968866   \n",
       "412262    9668240   388766751_9038881013   922267647_3096648104_968866   \n",
       "412263     674799  947159805_81558194550   86152093_47511127657_716022   \n",
       "\n",
       "       process_step            date_time  \n",
       "0           confirm  2017-06-06 08:56:00  \n",
       "1           confirm  2017-06-01 11:59:27  \n",
       "2            step_3  2017-06-01 11:58:48  \n",
       "3            step_2  2017-06-01 11:58:08  \n",
       "4            step_1  2017-06-01 11:57:58  \n",
       "...             ...                  ...  \n",
       "412259        start  2017-05-24 18:46:10  \n",
       "412260        start  2017-05-24 18:45:29  \n",
       "412261       step_1  2017-05-24 18:44:51  \n",
       "412262        start  2017-05-24 18:44:34  \n",
       "412263        start  2017-06-03 12:17:09  \n",
       "\n",
       "[412264 rows x 5 columns]"
      ]
     },
     "execution_count": 10,
     "metadata": {},
     "output_type": "execute_result"
    }
   ],
   "source": [
    "# Here I am checking the columns and information of the second web data file\n",
    "df_fwd2"
   ]
  },
  {
   "cell_type": "code",
   "execution_count": null,
   "metadata": {},
   "outputs": [],
   "source": [
    "df_fwd2.info()\n",
    "df_fwd2.head()"
   ]
  },
  {
   "cell_type": "markdown",
   "metadata": {},
   "source": [
    "### Exploring the dataset experiment client "
   ]
  },
  {
   "cell_type": "code",
   "execution_count": 9,
   "metadata": {},
   "outputs": [
    {
     "data": {
      "text/html": [
       "<div>\n",
       "<style scoped>\n",
       "    .dataframe tbody tr th:only-of-type {\n",
       "        vertical-align: middle;\n",
       "    }\n",
       "\n",
       "    .dataframe tbody tr th {\n",
       "        vertical-align: top;\n",
       "    }\n",
       "\n",
       "    .dataframe thead th {\n",
       "        text-align: right;\n",
       "    }\n",
       "</style>\n",
       "<table border=\"1\" class=\"dataframe\">\n",
       "  <thead>\n",
       "    <tr style=\"text-align: right;\">\n",
       "      <th></th>\n",
       "      <th>client_id</th>\n",
       "      <th>Variation</th>\n",
       "    </tr>\n",
       "  </thead>\n",
       "  <tbody>\n",
       "    <tr>\n",
       "      <th>0</th>\n",
       "      <td>9988021</td>\n",
       "      <td>Test</td>\n",
       "    </tr>\n",
       "    <tr>\n",
       "      <th>1</th>\n",
       "      <td>8320017</td>\n",
       "      <td>Test</td>\n",
       "    </tr>\n",
       "    <tr>\n",
       "      <th>2</th>\n",
       "      <td>4033851</td>\n",
       "      <td>Control</td>\n",
       "    </tr>\n",
       "    <tr>\n",
       "      <th>3</th>\n",
       "      <td>1982004</td>\n",
       "      <td>Test</td>\n",
       "    </tr>\n",
       "    <tr>\n",
       "      <th>4</th>\n",
       "      <td>9294070</td>\n",
       "      <td>Control</td>\n",
       "    </tr>\n",
       "    <tr>\n",
       "      <th>...</th>\n",
       "      <td>...</td>\n",
       "      <td>...</td>\n",
       "    </tr>\n",
       "    <tr>\n",
       "      <th>70604</th>\n",
       "      <td>2443347</td>\n",
       "      <td>NaN</td>\n",
       "    </tr>\n",
       "    <tr>\n",
       "      <th>70605</th>\n",
       "      <td>8788427</td>\n",
       "      <td>NaN</td>\n",
       "    </tr>\n",
       "    <tr>\n",
       "      <th>70606</th>\n",
       "      <td>266828</td>\n",
       "      <td>NaN</td>\n",
       "    </tr>\n",
       "    <tr>\n",
       "      <th>70607</th>\n",
       "      <td>1266421</td>\n",
       "      <td>NaN</td>\n",
       "    </tr>\n",
       "    <tr>\n",
       "      <th>70608</th>\n",
       "      <td>9895983</td>\n",
       "      <td>NaN</td>\n",
       "    </tr>\n",
       "  </tbody>\n",
       "</table>\n",
       "<p>70609 rows × 2 columns</p>\n",
       "</div>"
      ],
      "text/plain": [
       "       client_id Variation\n",
       "0        9988021      Test\n",
       "1        8320017      Test\n",
       "2        4033851   Control\n",
       "3        1982004      Test\n",
       "4        9294070   Control\n",
       "...          ...       ...\n",
       "70604    2443347       NaN\n",
       "70605    8788427       NaN\n",
       "70606     266828       NaN\n",
       "70607    1266421       NaN\n",
       "70608    9895983       NaN\n",
       "\n",
       "[70609 rows x 2 columns]"
      ]
     },
     "execution_count": 9,
     "metadata": {},
     "output_type": "execute_result"
    }
   ],
   "source": [
    "# Reviewing the dataset client\n",
    "df_client"
   ]
  },
  {
   "cell_type": "code",
   "execution_count": null,
   "metadata": {},
   "outputs": [
    {
     "name": "stdout",
     "output_type": "stream",
     "text": [
      "['client_id', 'Variation']\n"
     ]
    }
   ],
   "source": [
    "# Here I am checking the columns of the dataframaes of the client file\n",
    "print(df_client.columns.tolist())"
   ]
  },
  {
   "cell_type": "code",
   "execution_count": 76,
   "metadata": {},
   "outputs": [
    {
     "name": "stdout",
     "output_type": "stream",
     "text": [
      "<class 'pandas.core.frame.DataFrame'>\n",
      "RangeIndex: 70609 entries, 0 to 70608\n",
      "Data columns (total 2 columns):\n",
      " #   Column     Non-Null Count  Dtype \n",
      "---  ------     --------------  ----- \n",
      " 0   client_id  70609 non-null  int64 \n",
      " 1   Variation  50500 non-null  object\n",
      "dtypes: int64(1), object(1)\n",
      "memory usage: 1.1+ MB\n"
     ]
    },
    {
     "data": {
      "text/html": [
       "<div>\n",
       "<style scoped>\n",
       "    .dataframe tbody tr th:only-of-type {\n",
       "        vertical-align: middle;\n",
       "    }\n",
       "\n",
       "    .dataframe tbody tr th {\n",
       "        vertical-align: top;\n",
       "    }\n",
       "\n",
       "    .dataframe thead th {\n",
       "        text-align: right;\n",
       "    }\n",
       "</style>\n",
       "<table border=\"1\" class=\"dataframe\">\n",
       "  <thead>\n",
       "    <tr style=\"text-align: right;\">\n",
       "      <th></th>\n",
       "      <th>client_id</th>\n",
       "      <th>Variation</th>\n",
       "    </tr>\n",
       "  </thead>\n",
       "  <tbody>\n",
       "    <tr>\n",
       "      <th>0</th>\n",
       "      <td>9988021</td>\n",
       "      <td>Test</td>\n",
       "    </tr>\n",
       "    <tr>\n",
       "      <th>1</th>\n",
       "      <td>8320017</td>\n",
       "      <td>Test</td>\n",
       "    </tr>\n",
       "    <tr>\n",
       "      <th>2</th>\n",
       "      <td>4033851</td>\n",
       "      <td>Control</td>\n",
       "    </tr>\n",
       "    <tr>\n",
       "      <th>3</th>\n",
       "      <td>1982004</td>\n",
       "      <td>Test</td>\n",
       "    </tr>\n",
       "    <tr>\n",
       "      <th>4</th>\n",
       "      <td>9294070</td>\n",
       "      <td>Control</td>\n",
       "    </tr>\n",
       "  </tbody>\n",
       "</table>\n",
       "</div>"
      ],
      "text/plain": [
       "   client_id Variation\n",
       "0    9988021      Test\n",
       "1    8320017      Test\n",
       "2    4033851   Control\n",
       "3    1982004      Test\n",
       "4    9294070   Control"
      ]
     },
     "execution_count": 76,
     "metadata": {},
     "output_type": "execute_result"
    }
   ],
   "source": [
    "df_client.info()\n",
    "df_client.head()"
   ]
  },
  {
   "cell_type": "code",
   "execution_count": 77,
   "metadata": {},
   "outputs": [
    {
     "data": {
      "text/plain": [
       "Index(['client_id', 'Variation'], dtype='object')"
      ]
     },
     "execution_count": 77,
     "metadata": {},
     "output_type": "execute_result"
    }
   ],
   "source": [
    "df_client.columns"
   ]
  },
  {
   "cell_type": "markdown",
   "metadata": {},
   "source": [
    "Checking for nulls, shapes and types from all datasets"
   ]
  },
  {
   "cell_type": "code",
   "execution_count": 75,
   "metadata": {},
   "outputs": [
    {
     "name": "stdout",
     "output_type": "stream",
     "text": [
      "\n",
      "===== df_demo =====\n",
      "\n",
      "Shape: (70609, 9)\n",
      "\n",
      "Columns and Data Types:\n",
      " client_id             int64\n",
      "clnt_tenure_yr      float64\n",
      "clnt_tenure_mnth    float64\n",
      "clnt_age            float64\n",
      "gendr                object\n",
      "num_accts           float64\n",
      "bal                 float64\n",
      "calls_6_mnth        float64\n",
      "logons_6_mnth       float64\n",
      "dtype: object\n",
      "\n",
      "Missing Values:\n",
      " client_id            0\n",
      "clnt_tenure_yr      14\n",
      "clnt_tenure_mnth    14\n",
      "clnt_age            15\n",
      "gendr               14\n",
      "num_accts           14\n",
      "bal                 14\n",
      "calls_6_mnth        14\n",
      "logons_6_mnth       14\n",
      "dtype: int64\n",
      "\n",
      "Preview:\n",
      "    client_id  clnt_tenure_yr  clnt_tenure_mnth  clnt_age gendr  num_accts  \\\n",
      "0     836976             6.0              73.0      60.5     U        2.0   \n",
      "1    2304905             7.0              94.0      58.0     U        2.0   \n",
      "2    1439522             5.0              64.0      32.0     U        2.0   \n",
      "\n",
      "         bal  calls_6_mnth  logons_6_mnth  \n",
      "0   45105.30           6.0            9.0  \n",
      "1  110860.30           6.0            9.0  \n",
      "2   52467.79           6.0            9.0  \n",
      "\n",
      "===== df_client =====\n",
      "\n",
      "Shape: (70609, 2)\n",
      "\n",
      "Columns and Data Types:\n",
      " client_id     int64\n",
      "Variation    object\n",
      "dtype: object\n",
      "\n",
      "Missing Values:\n",
      " client_id        0\n",
      "Variation    20109\n",
      "dtype: int64\n",
      "\n",
      "Preview:\n",
      "    client_id Variation\n",
      "0    9988021      Test\n",
      "1    8320017      Test\n",
      "2    4033851   Control\n",
      "\n",
      "===== df_fwd1 =====\n",
      "\n",
      "Shape: (343141, 5)\n",
      "\n",
      "Columns and Data Types:\n",
      " client_id        int64\n",
      "visitor_id      object\n",
      "visit_id        object\n",
      "process_step    object\n",
      "date_time       object\n",
      "dtype: object\n",
      "\n",
      "Missing Values:\n",
      " client_id       0\n",
      "visitor_id      0\n",
      "visit_id        0\n",
      "process_step    0\n",
      "date_time       0\n",
      "dtype: int64\n",
      "\n",
      "Preview:\n",
      "    client_id            visitor_id                      visit_id process_step  \\\n",
      "0    9988021  580560515_7732621733  781255054_21935453173_531117       step_3   \n",
      "1    9988021  580560515_7732621733  781255054_21935453173_531117       step_2   \n",
      "2    9988021  580560515_7732621733  781255054_21935453173_531117       step_3   \n",
      "\n",
      "             date_time  \n",
      "0  2017-04-17 15:27:07  \n",
      "1  2017-04-17 15:26:51  \n",
      "2  2017-04-17 15:19:22  \n",
      "\n",
      "===== df_fwd2 =====\n",
      "\n",
      "Shape: (412264, 5)\n",
      "\n",
      "Columns and Data Types:\n",
      " client_id        int64\n",
      "visitor_id      object\n",
      "visit_id        object\n",
      "process_step    object\n",
      "date_time       object\n",
      "dtype: object\n",
      "\n",
      "Missing Values:\n",
      " client_id       0\n",
      "visitor_id      0\n",
      "visit_id        0\n",
      "process_step    0\n",
      "date_time       0\n",
      "dtype: int64\n",
      "\n",
      "Preview:\n",
      "    client_id             visitor_id                      visit_id  \\\n",
      "0     763412  601952081_10457207388  397475557_40440946728_419634   \n",
      "1    6019349  442094451_91531546617  154620534_35331068705_522317   \n",
      "2    6019349  442094451_91531546617  154620534_35331068705_522317   \n",
      "\n",
      "  process_step            date_time  \n",
      "0      confirm  2017-06-06 08:56:00  \n",
      "1      confirm  2017-06-01 11:59:27  \n",
      "2       step_3  2017-06-01 11:58:48  \n"
     ]
    }
   ],
   "source": [
    "# For each DataFrame\n",
    "for name, df in [('df_demo', df_demo), ('df_client', df_client), ('df_fwd1', df_fwd1), ('df_fwd2', df_fwd2)]:\n",
    "    print(f\"\\n===== {name} =====\")\n",
    "    print(\"\\nShape:\", df.shape)\n",
    "    print(\"\\nColumns and Data Types:\\n\", df.dtypes)\n",
    "    print(\"\\nMissing Values:\\n\", df.isnull().sum())\n",
    "    print(\"\\nPreview:\\n\", df.head(3))"
   ]
  },
  {
   "cell_type": "markdown",
   "metadata": {},
   "source": [
    "Merging the file web datasets of 1 and 2 together "
   ]
  },
  {
   "cell_type": "code",
   "execution_count": 13,
   "metadata": {},
   "outputs": [
    {
     "data": {
      "text/html": [
       "<div>\n",
       "<style scoped>\n",
       "    .dataframe tbody tr th:only-of-type {\n",
       "        vertical-align: middle;\n",
       "    }\n",
       "\n",
       "    .dataframe tbody tr th {\n",
       "        vertical-align: top;\n",
       "    }\n",
       "\n",
       "    .dataframe thead th {\n",
       "        text-align: right;\n",
       "    }\n",
       "</style>\n",
       "<table border=\"1\" class=\"dataframe\">\n",
       "  <thead>\n",
       "    <tr style=\"text-align: right;\">\n",
       "      <th></th>\n",
       "      <th>client_id</th>\n",
       "      <th>visitor_id</th>\n",
       "      <th>visit_id</th>\n",
       "      <th>process_step</th>\n",
       "      <th>date_time</th>\n",
       "    </tr>\n",
       "  </thead>\n",
       "  <tbody>\n",
       "    <tr>\n",
       "      <th>0</th>\n",
       "      <td>9988021</td>\n",
       "      <td>580560515_7732621733</td>\n",
       "      <td>781255054_21935453173_531117</td>\n",
       "      <td>step_3</td>\n",
       "      <td>2017-04-17 15:27:07</td>\n",
       "    </tr>\n",
       "    <tr>\n",
       "      <th>1</th>\n",
       "      <td>9988021</td>\n",
       "      <td>580560515_7732621733</td>\n",
       "      <td>781255054_21935453173_531117</td>\n",
       "      <td>step_2</td>\n",
       "      <td>2017-04-17 15:26:51</td>\n",
       "    </tr>\n",
       "    <tr>\n",
       "      <th>2</th>\n",
       "      <td>9988021</td>\n",
       "      <td>580560515_7732621733</td>\n",
       "      <td>781255054_21935453173_531117</td>\n",
       "      <td>step_3</td>\n",
       "      <td>2017-04-17 15:19:22</td>\n",
       "    </tr>\n",
       "    <tr>\n",
       "      <th>3</th>\n",
       "      <td>9988021</td>\n",
       "      <td>580560515_7732621733</td>\n",
       "      <td>781255054_21935453173_531117</td>\n",
       "      <td>step_2</td>\n",
       "      <td>2017-04-17 15:19:13</td>\n",
       "    </tr>\n",
       "    <tr>\n",
       "      <th>4</th>\n",
       "      <td>9988021</td>\n",
       "      <td>580560515_7732621733</td>\n",
       "      <td>781255054_21935453173_531117</td>\n",
       "      <td>step_3</td>\n",
       "      <td>2017-04-17 15:18:04</td>\n",
       "    </tr>\n",
       "    <tr>\n",
       "      <th>...</th>\n",
       "      <td>...</td>\n",
       "      <td>...</td>\n",
       "      <td>...</td>\n",
       "      <td>...</td>\n",
       "      <td>...</td>\n",
       "    </tr>\n",
       "    <tr>\n",
       "      <th>755400</th>\n",
       "      <td>9668240</td>\n",
       "      <td>388766751_9038881013</td>\n",
       "      <td>922267647_3096648104_968866</td>\n",
       "      <td>start</td>\n",
       "      <td>2017-05-24 18:46:10</td>\n",
       "    </tr>\n",
       "    <tr>\n",
       "      <th>755401</th>\n",
       "      <td>9668240</td>\n",
       "      <td>388766751_9038881013</td>\n",
       "      <td>922267647_3096648104_968866</td>\n",
       "      <td>start</td>\n",
       "      <td>2017-05-24 18:45:29</td>\n",
       "    </tr>\n",
       "    <tr>\n",
       "      <th>755402</th>\n",
       "      <td>9668240</td>\n",
       "      <td>388766751_9038881013</td>\n",
       "      <td>922267647_3096648104_968866</td>\n",
       "      <td>step_1</td>\n",
       "      <td>2017-05-24 18:44:51</td>\n",
       "    </tr>\n",
       "    <tr>\n",
       "      <th>755403</th>\n",
       "      <td>9668240</td>\n",
       "      <td>388766751_9038881013</td>\n",
       "      <td>922267647_3096648104_968866</td>\n",
       "      <td>start</td>\n",
       "      <td>2017-05-24 18:44:34</td>\n",
       "    </tr>\n",
       "    <tr>\n",
       "      <th>755404</th>\n",
       "      <td>674799</td>\n",
       "      <td>947159805_81558194550</td>\n",
       "      <td>86152093_47511127657_716022</td>\n",
       "      <td>start</td>\n",
       "      <td>2017-06-03 12:17:09</td>\n",
       "    </tr>\n",
       "  </tbody>\n",
       "</table>\n",
       "<p>755405 rows × 5 columns</p>\n",
       "</div>"
      ],
      "text/plain": [
       "        client_id             visitor_id                      visit_id  \\\n",
       "0         9988021   580560515_7732621733  781255054_21935453173_531117   \n",
       "1         9988021   580560515_7732621733  781255054_21935453173_531117   \n",
       "2         9988021   580560515_7732621733  781255054_21935453173_531117   \n",
       "3         9988021   580560515_7732621733  781255054_21935453173_531117   \n",
       "4         9988021   580560515_7732621733  781255054_21935453173_531117   \n",
       "...           ...                    ...                           ...   \n",
       "755400    9668240   388766751_9038881013   922267647_3096648104_968866   \n",
       "755401    9668240   388766751_9038881013   922267647_3096648104_968866   \n",
       "755402    9668240   388766751_9038881013   922267647_3096648104_968866   \n",
       "755403    9668240   388766751_9038881013   922267647_3096648104_968866   \n",
       "755404     674799  947159805_81558194550   86152093_47511127657_716022   \n",
       "\n",
       "       process_step            date_time  \n",
       "0            step_3  2017-04-17 15:27:07  \n",
       "1            step_2  2017-04-17 15:26:51  \n",
       "2            step_3  2017-04-17 15:19:22  \n",
       "3            step_2  2017-04-17 15:19:13  \n",
       "4            step_3  2017-04-17 15:18:04  \n",
       "...             ...                  ...  \n",
       "755400        start  2017-05-24 18:46:10  \n",
       "755401        start  2017-05-24 18:45:29  \n",
       "755402       step_1  2017-05-24 18:44:51  \n",
       "755403        start  2017-05-24 18:44:34  \n",
       "755404        start  2017-06-03 12:17:09  \n",
       "\n",
       "[755405 rows x 5 columns]"
      ]
     },
     "execution_count": 13,
     "metadata": {},
     "output_type": "execute_result"
    }
   ],
   "source": [
    "# Merging here the two dataframes of the web data files\n",
    "df_web = pd.concat([df_fwd1, df_fwd2], ignore_index=True)\n",
    "df_web"
   ]
  },
  {
   "cell_type": "code",
   "execution_count": 14,
   "metadata": {},
   "outputs": [],
   "source": [
    "# Here I am saving the two dataframes of the web data files into one file\n",
    "df_web.to_csv('Datasets/Datasets_raw/df_web_merged.csv', index=False)"
   ]
  },
  {
   "cell_type": "markdown",
   "metadata": {},
   "source": [
    "Merging web datasets 1 + 2 and with experiment dataset"
   ]
  },
  {
   "cell_type": "code",
   "execution_count": 16,
   "metadata": {},
   "outputs": [
    {
     "data": {
      "text/html": [
       "<div>\n",
       "<style scoped>\n",
       "    .dataframe tbody tr th:only-of-type {\n",
       "        vertical-align: middle;\n",
       "    }\n",
       "\n",
       "    .dataframe tbody tr th {\n",
       "        vertical-align: top;\n",
       "    }\n",
       "\n",
       "    .dataframe thead th {\n",
       "        text-align: right;\n",
       "    }\n",
       "</style>\n",
       "<table border=\"1\" class=\"dataframe\">\n",
       "  <thead>\n",
       "    <tr style=\"text-align: right;\">\n",
       "      <th></th>\n",
       "      <th>client_id</th>\n",
       "      <th>visitor_id</th>\n",
       "      <th>visit_id</th>\n",
       "      <th>process_step</th>\n",
       "      <th>date_time</th>\n",
       "      <th>Variation</th>\n",
       "    </tr>\n",
       "  </thead>\n",
       "  <tbody>\n",
       "    <tr>\n",
       "      <th>0</th>\n",
       "      <td>9988021</td>\n",
       "      <td>580560515_7732621733</td>\n",
       "      <td>781255054_21935453173_531117</td>\n",
       "      <td>step_3</td>\n",
       "      <td>2017-04-17 15:27:07</td>\n",
       "      <td>Test</td>\n",
       "    </tr>\n",
       "    <tr>\n",
       "      <th>1</th>\n",
       "      <td>9988021</td>\n",
       "      <td>580560515_7732621733</td>\n",
       "      <td>781255054_21935453173_531117</td>\n",
       "      <td>step_2</td>\n",
       "      <td>2017-04-17 15:26:51</td>\n",
       "      <td>Test</td>\n",
       "    </tr>\n",
       "    <tr>\n",
       "      <th>2</th>\n",
       "      <td>9988021</td>\n",
       "      <td>580560515_7732621733</td>\n",
       "      <td>781255054_21935453173_531117</td>\n",
       "      <td>step_3</td>\n",
       "      <td>2017-04-17 15:19:22</td>\n",
       "      <td>Test</td>\n",
       "    </tr>\n",
       "    <tr>\n",
       "      <th>3</th>\n",
       "      <td>9988021</td>\n",
       "      <td>580560515_7732621733</td>\n",
       "      <td>781255054_21935453173_531117</td>\n",
       "      <td>step_2</td>\n",
       "      <td>2017-04-17 15:19:13</td>\n",
       "      <td>Test</td>\n",
       "    </tr>\n",
       "    <tr>\n",
       "      <th>4</th>\n",
       "      <td>9988021</td>\n",
       "      <td>580560515_7732621733</td>\n",
       "      <td>781255054_21935453173_531117</td>\n",
       "      <td>step_3</td>\n",
       "      <td>2017-04-17 15:18:04</td>\n",
       "      <td>Test</td>\n",
       "    </tr>\n",
       "    <tr>\n",
       "      <th>...</th>\n",
       "      <td>...</td>\n",
       "      <td>...</td>\n",
       "      <td>...</td>\n",
       "      <td>...</td>\n",
       "      <td>...</td>\n",
       "      <td>...</td>\n",
       "    </tr>\n",
       "    <tr>\n",
       "      <th>449826</th>\n",
       "      <td>9895983</td>\n",
       "      <td>473024645_56027518531</td>\n",
       "      <td>498981662_93503779869_272484</td>\n",
       "      <td>step_3</td>\n",
       "      <td>2017-06-15 19:52:09</td>\n",
       "      <td>NaN</td>\n",
       "    </tr>\n",
       "    <tr>\n",
       "      <th>449827</th>\n",
       "      <td>9895983</td>\n",
       "      <td>473024645_56027518531</td>\n",
       "      <td>498981662_93503779869_272484</td>\n",
       "      <td>step_2</td>\n",
       "      <td>2017-06-15 19:50:37</td>\n",
       "      <td>NaN</td>\n",
       "    </tr>\n",
       "    <tr>\n",
       "      <th>449828</th>\n",
       "      <td>9895983</td>\n",
       "      <td>473024645_56027518531</td>\n",
       "      <td>498981662_93503779869_272484</td>\n",
       "      <td>step_1</td>\n",
       "      <td>2017-06-15 19:50:05</td>\n",
       "      <td>NaN</td>\n",
       "    </tr>\n",
       "    <tr>\n",
       "      <th>449829</th>\n",
       "      <td>9895983</td>\n",
       "      <td>473024645_56027518531</td>\n",
       "      <td>498981662_93503779869_272484</td>\n",
       "      <td>start</td>\n",
       "      <td>2017-06-15 19:50:00</td>\n",
       "      <td>NaN</td>\n",
       "    </tr>\n",
       "    <tr>\n",
       "      <th>449830</th>\n",
       "      <td>9895983</td>\n",
       "      <td>473024645_56027518531</td>\n",
       "      <td>498981662_93503779869_272484</td>\n",
       "      <td>start</td>\n",
       "      <td>2017-06-15 19:44:05</td>\n",
       "      <td>NaN</td>\n",
       "    </tr>\n",
       "  </tbody>\n",
       "</table>\n",
       "<p>449831 rows × 6 columns</p>\n",
       "</div>"
      ],
      "text/plain": [
       "        client_id             visitor_id                      visit_id  \\\n",
       "0         9988021   580560515_7732621733  781255054_21935453173_531117   \n",
       "1         9988021   580560515_7732621733  781255054_21935453173_531117   \n",
       "2         9988021   580560515_7732621733  781255054_21935453173_531117   \n",
       "3         9988021   580560515_7732621733  781255054_21935453173_531117   \n",
       "4         9988021   580560515_7732621733  781255054_21935453173_531117   \n",
       "...           ...                    ...                           ...   \n",
       "449826    9895983  473024645_56027518531  498981662_93503779869_272484   \n",
       "449827    9895983  473024645_56027518531  498981662_93503779869_272484   \n",
       "449828    9895983  473024645_56027518531  498981662_93503779869_272484   \n",
       "449829    9895983  473024645_56027518531  498981662_93503779869_272484   \n",
       "449830    9895983  473024645_56027518531  498981662_93503779869_272484   \n",
       "\n",
       "       process_step            date_time Variation  \n",
       "0            step_3  2017-04-17 15:27:07      Test  \n",
       "1            step_2  2017-04-17 15:26:51      Test  \n",
       "2            step_3  2017-04-17 15:19:22      Test  \n",
       "3            step_2  2017-04-17 15:19:13      Test  \n",
       "4            step_3  2017-04-17 15:18:04      Test  \n",
       "...             ...                  ...       ...  \n",
       "449826       step_3  2017-06-15 19:52:09       NaN  \n",
       "449827       step_2  2017-06-15 19:50:37       NaN  \n",
       "449828       step_1  2017-06-15 19:50:05       NaN  \n",
       "449829        start  2017-06-15 19:50:00       NaN  \n",
       "449830        start  2017-06-15 19:44:05       NaN  \n",
       "\n",
       "[449831 rows x 6 columns]"
      ]
     },
     "execution_count": 16,
     "metadata": {},
     "output_type": "execute_result"
    }
   ],
   "source": [
    "# Now I want to merge the web data frames with the experiment client data frame\n",
    "df_web_ec = pd.merge(df_web, df_client, on='client_id', how='right')\n",
    "df_web_ec # Reviewing the dataset "
   ]
  },
  {
   "cell_type": "code",
   "execution_count": 17,
   "metadata": {},
   "outputs": [],
   "source": [
    "# I am saving the dataframes of the web data files with the experiment clients into one file\n",
    "df_web_ec.to_csv('Datasets/Datasets_raw/df_web_ec.csv', index=False)"
   ]
  },
  {
   "cell_type": "code",
   "execution_count": 19,
   "metadata": {},
   "outputs": [
    {
     "name": "stdout",
     "output_type": "stream",
     "text": [
      "Total clients in experiment: 70609\n",
      "Unique clients in merged web+experiment data: 70609\n"
     ]
    }
   ],
   "source": [
    "print(\"Total clients in experiment:\", df_client['client_id'].nunique()) # Checking here the unique total of the dataset for clients\n",
    "print(\"Unique clients in merged web+experiment data:\", df_web_ec['client_id'].nunique()) # Checking here the total of the dataset for the merged web data + experiment data files\n",
    "# The amount is the same so there is no loss of data "
   ]
  },
  {
   "cell_type": "code",
   "execution_count": 20,
   "metadata": {},
   "outputs": [
    {
     "data": {
      "text/plain": [
       "client_id            0\n",
       "visitor_id           0\n",
       "visit_id             0\n",
       "process_step         0\n",
       "date_time            0\n",
       "Variation       128522\n",
       "dtype: int64"
      ]
     },
     "execution_count": 20,
     "metadata": {},
     "output_type": "execute_result"
    }
   ],
   "source": [
    "df_web_ec.isnull().sum() # Checking to see if we have any nulls."
   ]
  },
  {
   "cell_type": "code",
   "execution_count": 21,
   "metadata": {},
   "outputs": [
    {
     "data": {
      "text/plain": [
       "(0, 6)"
      ]
     },
     "execution_count": 21,
     "metadata": {},
     "output_type": "execute_result"
    }
   ],
   "source": [
    "df_web_ec[df_web_ec['date_time'].isnull()].shape"
   ]
  },
  {
   "cell_type": "code",
   "execution_count": 22,
   "metadata": {},
   "outputs": [
    {
     "data": {
      "text/html": [
       "<div>\n",
       "<style scoped>\n",
       "    .dataframe tbody tr th:only-of-type {\n",
       "        vertical-align: middle;\n",
       "    }\n",
       "\n",
       "    .dataframe tbody tr th {\n",
       "        vertical-align: top;\n",
       "    }\n",
       "\n",
       "    .dataframe thead th {\n",
       "        text-align: right;\n",
       "    }\n",
       "</style>\n",
       "<table border=\"1\" class=\"dataframe\">\n",
       "  <thead>\n",
       "    <tr style=\"text-align: right;\">\n",
       "      <th></th>\n",
       "      <th>client_id</th>\n",
       "      <th>visitor_id</th>\n",
       "      <th>visit_id</th>\n",
       "      <th>process_step</th>\n",
       "      <th>date_time</th>\n",
       "      <th>Variation</th>\n",
       "    </tr>\n",
       "  </thead>\n",
       "  <tbody>\n",
       "  </tbody>\n",
       "</table>\n",
       "</div>"
      ],
      "text/plain": [
       "Empty DataFrame\n",
       "Columns: [client_id, visitor_id, visit_id, process_step, date_time, Variation]\n",
       "Index: []"
      ]
     },
     "execution_count": 22,
     "metadata": {},
     "output_type": "execute_result"
    }
   ],
   "source": [
    "df_web_ec[df_web_ec['date_time'].isnull()] # Checking WHERE the nulls are"
   ]
  },
  {
   "cell_type": "code",
   "execution_count": 23,
   "metadata": {},
   "outputs": [
    {
     "name": "stdout",
     "output_type": "stream",
     "text": [
      "Index([], dtype='int64')\n"
     ]
    }
   ],
   "source": [
    "null_indices = df_web_ec[df_web_ec['date_time'].isnull()].index   # there seems 0 nulls \n",
    "print(null_indices)   "
   ]
  },
  {
   "cell_type": "markdown",
   "metadata": {},
   "source": [
    "Checking group sizes"
   ]
  },
  {
   "cell_type": "code",
   "execution_count": 24,
   "metadata": {},
   "outputs": [
    {
     "data": {
      "text/plain": [
       "Index(['client_id', 'visitor_id', 'visit_id', 'process_step', 'date_time',\n",
       "       'Variation'],\n",
       "      dtype='object')"
      ]
     },
     "execution_count": 24,
     "metadata": {},
     "output_type": "execute_result"
    }
   ],
   "source": [
    "df_web_ec.columns # Checking all the columns of the dataset"
   ]
  },
  {
   "cell_type": "code",
   "execution_count": 25,
   "metadata": {},
   "outputs": [
    {
     "data": {
      "text/plain": [
       "array(['Test', 'Control', nan], dtype=object)"
      ]
     },
     "execution_count": 25,
     "metadata": {},
     "output_type": "execute_result"
    }
   ],
   "source": [
    "df_web_ec['Variation'].unique() # reviewing how many inputs there are in the coluymn variation"
   ]
  },
  {
   "cell_type": "code",
   "execution_count": 26,
   "metadata": {},
   "outputs": [
    {
     "data": {
      "text/html": [
       "<div>\n",
       "<style scoped>\n",
       "    .dataframe tbody tr th:only-of-type {\n",
       "        vertical-align: middle;\n",
       "    }\n",
       "\n",
       "    .dataframe tbody tr th {\n",
       "        vertical-align: top;\n",
       "    }\n",
       "\n",
       "    .dataframe thead th {\n",
       "        text-align: right;\n",
       "    }\n",
       "</style>\n",
       "<table border=\"1\" class=\"dataframe\">\n",
       "  <thead>\n",
       "    <tr style=\"text-align: right;\">\n",
       "      <th></th>\n",
       "      <th>client_id</th>\n",
       "      <th>visitor_id</th>\n",
       "      <th>visit_id</th>\n",
       "      <th>process_step</th>\n",
       "      <th>date_time</th>\n",
       "      <th>Variation</th>\n",
       "    </tr>\n",
       "  </thead>\n",
       "  <tbody>\n",
       "    <tr>\n",
       "      <th>321309</th>\n",
       "      <td>5459747</td>\n",
       "      <td>927506343_21566395546</td>\n",
       "      <td>126601512_42206463738_739012</td>\n",
       "      <td>confirm</td>\n",
       "      <td>2017-05-22 12:14:45</td>\n",
       "      <td>NaN</td>\n",
       "    </tr>\n",
       "    <tr>\n",
       "      <th>321310</th>\n",
       "      <td>5459747</td>\n",
       "      <td>927506343_21566395546</td>\n",
       "      <td>126601512_42206463738_739012</td>\n",
       "      <td>step_3</td>\n",
       "      <td>2017-05-22 12:14:27</td>\n",
       "      <td>NaN</td>\n",
       "    </tr>\n",
       "    <tr>\n",
       "      <th>321311</th>\n",
       "      <td>5459747</td>\n",
       "      <td>927506343_21566395546</td>\n",
       "      <td>126601512_42206463738_739012</td>\n",
       "      <td>step_2</td>\n",
       "      <td>2017-05-22 12:14:13</td>\n",
       "      <td>NaN</td>\n",
       "    </tr>\n",
       "    <tr>\n",
       "      <th>321312</th>\n",
       "      <td>5459747</td>\n",
       "      <td>927506343_21566395546</td>\n",
       "      <td>126601512_42206463738_739012</td>\n",
       "      <td>step_1</td>\n",
       "      <td>2017-05-22 12:13:50</td>\n",
       "      <td>NaN</td>\n",
       "    </tr>\n",
       "    <tr>\n",
       "      <th>321313</th>\n",
       "      <td>5459747</td>\n",
       "      <td>927506343_21566395546</td>\n",
       "      <td>126601512_42206463738_739012</td>\n",
       "      <td>start</td>\n",
       "      <td>2017-05-22 12:13:43</td>\n",
       "      <td>NaN</td>\n",
       "    </tr>\n",
       "    <tr>\n",
       "      <th>...</th>\n",
       "      <td>...</td>\n",
       "      <td>...</td>\n",
       "      <td>...</td>\n",
       "      <td>...</td>\n",
       "      <td>...</td>\n",
       "      <td>...</td>\n",
       "    </tr>\n",
       "    <tr>\n",
       "      <th>449826</th>\n",
       "      <td>9895983</td>\n",
       "      <td>473024645_56027518531</td>\n",
       "      <td>498981662_93503779869_272484</td>\n",
       "      <td>step_3</td>\n",
       "      <td>2017-06-15 19:52:09</td>\n",
       "      <td>NaN</td>\n",
       "    </tr>\n",
       "    <tr>\n",
       "      <th>449827</th>\n",
       "      <td>9895983</td>\n",
       "      <td>473024645_56027518531</td>\n",
       "      <td>498981662_93503779869_272484</td>\n",
       "      <td>step_2</td>\n",
       "      <td>2017-06-15 19:50:37</td>\n",
       "      <td>NaN</td>\n",
       "    </tr>\n",
       "    <tr>\n",
       "      <th>449828</th>\n",
       "      <td>9895983</td>\n",
       "      <td>473024645_56027518531</td>\n",
       "      <td>498981662_93503779869_272484</td>\n",
       "      <td>step_1</td>\n",
       "      <td>2017-06-15 19:50:05</td>\n",
       "      <td>NaN</td>\n",
       "    </tr>\n",
       "    <tr>\n",
       "      <th>449829</th>\n",
       "      <td>9895983</td>\n",
       "      <td>473024645_56027518531</td>\n",
       "      <td>498981662_93503779869_272484</td>\n",
       "      <td>start</td>\n",
       "      <td>2017-06-15 19:50:00</td>\n",
       "      <td>NaN</td>\n",
       "    </tr>\n",
       "    <tr>\n",
       "      <th>449830</th>\n",
       "      <td>9895983</td>\n",
       "      <td>473024645_56027518531</td>\n",
       "      <td>498981662_93503779869_272484</td>\n",
       "      <td>start</td>\n",
       "      <td>2017-06-15 19:44:05</td>\n",
       "      <td>NaN</td>\n",
       "    </tr>\n",
       "  </tbody>\n",
       "</table>\n",
       "<p>128522 rows × 6 columns</p>\n",
       "</div>"
      ],
      "text/plain": [
       "        client_id             visitor_id                      visit_id  \\\n",
       "321309    5459747  927506343_21566395546  126601512_42206463738_739012   \n",
       "321310    5459747  927506343_21566395546  126601512_42206463738_739012   \n",
       "321311    5459747  927506343_21566395546  126601512_42206463738_739012   \n",
       "321312    5459747  927506343_21566395546  126601512_42206463738_739012   \n",
       "321313    5459747  927506343_21566395546  126601512_42206463738_739012   \n",
       "...           ...                    ...                           ...   \n",
       "449826    9895983  473024645_56027518531  498981662_93503779869_272484   \n",
       "449827    9895983  473024645_56027518531  498981662_93503779869_272484   \n",
       "449828    9895983  473024645_56027518531  498981662_93503779869_272484   \n",
       "449829    9895983  473024645_56027518531  498981662_93503779869_272484   \n",
       "449830    9895983  473024645_56027518531  498981662_93503779869_272484   \n",
       "\n",
       "       process_step            date_time Variation  \n",
       "321309      confirm  2017-05-22 12:14:45       NaN  \n",
       "321310       step_3  2017-05-22 12:14:27       NaN  \n",
       "321311       step_2  2017-05-22 12:14:13       NaN  \n",
       "321312       step_1  2017-05-22 12:13:50       NaN  \n",
       "321313        start  2017-05-22 12:13:43       NaN  \n",
       "...             ...                  ...       ...  \n",
       "449826       step_3  2017-06-15 19:52:09       NaN  \n",
       "449827       step_2  2017-06-15 19:50:37       NaN  \n",
       "449828       step_1  2017-06-15 19:50:05       NaN  \n",
       "449829        start  2017-06-15 19:50:00       NaN  \n",
       "449830        start  2017-06-15 19:44:05       NaN  \n",
       "\n",
       "[128522 rows x 6 columns]"
      ]
     },
     "execution_count": 26,
     "metadata": {},
     "output_type": "execute_result"
    }
   ],
   "source": [
    "df_web_ec[df_web_ec['Variation'].isnull()] # reviewing how many Nan's we have "
   ]
  },
  {
   "cell_type": "code",
   "execution_count": 27,
   "metadata": {},
   "outputs": [],
   "source": [
    "# Replacing all the Nan of the column 'Variation' into unknown\n",
    "df_web_ec['Variation'] = df_web_ec['Variation'].fillna('Unknown')"
   ]
  },
  {
   "cell_type": "code",
   "execution_count": null,
   "metadata": {},
   "outputs": [],
   "source": [
    "df_web_ec['Variation'].unique()"
   ]
  },
  {
   "cell_type": "code",
   "execution_count": null,
   "metadata": {},
   "outputs": [],
   "source": [
    "df_web_ec['Variation'].value_counts(normalize=True) # calculating the proportion (relative frequency) of each unique value in the Variation column."
   ]
  },
  {
   "cell_type": "markdown",
   "metadata": {},
   "source": [
    "Exploring the full funnel process steps"
   ]
  },
  {
   "cell_type": "code",
   "execution_count": 28,
   "metadata": {},
   "outputs": [
    {
     "data": {
      "text/plain": [
       "process_step\n",
       "start      145588\n",
       "step_1      95896\n",
       "step_2      79571\n",
       "step_3      68217\n",
       "confirm     60559\n",
       "Name: count, dtype: int64"
      ]
     },
     "execution_count": 28,
     "metadata": {},
     "output_type": "execute_result"
    }
   ],
   "source": [
    "df_web_ec['process_step'].value_counts()"
   ]
  },
  {
   "cell_type": "code",
   "execution_count": 29,
   "metadata": {},
   "outputs": [
    {
     "data": {
      "text/html": [
       "<div>\n",
       "<style scoped>\n",
       "    .dataframe tbody tr th:only-of-type {\n",
       "        vertical-align: middle;\n",
       "    }\n",
       "\n",
       "    .dataframe tbody tr th {\n",
       "        vertical-align: top;\n",
       "    }\n",
       "\n",
       "    .dataframe thead th {\n",
       "        text-align: right;\n",
       "    }\n",
       "</style>\n",
       "<table border=\"1\" class=\"dataframe\">\n",
       "  <thead>\n",
       "    <tr style=\"text-align: right;\">\n",
       "      <th>process_step</th>\n",
       "      <th>confirm</th>\n",
       "      <th>start</th>\n",
       "      <th>step_1</th>\n",
       "      <th>step_2</th>\n",
       "      <th>step_3</th>\n",
       "    </tr>\n",
       "    <tr>\n",
       "      <th>Variation</th>\n",
       "      <th></th>\n",
       "      <th></th>\n",
       "      <th></th>\n",
       "      <th></th>\n",
       "      <th></th>\n",
       "    </tr>\n",
       "  </thead>\n",
       "  <tbody>\n",
       "    <tr>\n",
       "      <th>Control</th>\n",
       "      <td>17505</td>\n",
       "      <td>47608</td>\n",
       "      <td>29668</td>\n",
       "      <td>25886</td>\n",
       "      <td>22795</td>\n",
       "    </tr>\n",
       "    <tr>\n",
       "      <th>Test</th>\n",
       "      <td>25722</td>\n",
       "      <td>56474</td>\n",
       "      <td>38768</td>\n",
       "      <td>30989</td>\n",
       "      <td>25894</td>\n",
       "    </tr>\n",
       "    <tr>\n",
       "      <th>Unknown</th>\n",
       "      <td>17332</td>\n",
       "      <td>41506</td>\n",
       "      <td>27460</td>\n",
       "      <td>22696</td>\n",
       "      <td>19528</td>\n",
       "    </tr>\n",
       "  </tbody>\n",
       "</table>\n",
       "</div>"
      ],
      "text/plain": [
       "process_step  confirm  start  step_1  step_2  step_3\n",
       "Variation                                           \n",
       "Control         17505  47608   29668   25886   22795\n",
       "Test            25722  56474   38768   30989   25894\n",
       "Unknown         17332  41506   27460   22696   19528"
      ]
     },
     "execution_count": 29,
     "metadata": {},
     "output_type": "execute_result"
    }
   ],
   "source": [
    "step_counts = df_web_ec.groupby(['Variation', 'process_step']).size().unstack().fillna(0)\n",
    "step_counts"
   ]
  },
  {
   "cell_type": "markdown",
   "metadata": {},
   "source": [
    "Checking how many clients reached 'confirm'"
   ]
  },
  {
   "cell_type": "code",
   "execution_count": 30,
   "metadata": {},
   "outputs": [
    {
     "data": {
      "text/plain": [
       "Variation\n",
       "Test       0.424743\n",
       "Control    0.289057\n",
       "Unknown    0.286200\n",
       "Name: proportion, dtype: float64"
      ]
     },
     "execution_count": 30,
     "metadata": {},
     "output_type": "execute_result"
    }
   ],
   "source": [
    "# Here I am assing new variables to review how many confirmed and review if its either with the test or control group\n",
    "df_confirm = df_web_ec[df_web_ec['process_step'] == 'confirm']\n",
    "conversion_rates = df_confirm['Variation'].value_counts(normalize=True)\n",
    "conversion_rates"
   ]
  },
  {
   "cell_type": "markdown",
   "metadata": {},
   "source": [
    "Confirmed / converted per variation group\n",
    "Variation\n",
    "Test       42,5%\n",
    "Control    28,9%\n",
    "Unknown    28,6%"
   ]
  },
  {
   "cell_type": "code",
   "execution_count": 31,
   "metadata": {},
   "outputs": [
    {
     "data": {
      "text/plain": [
       "Variation\n",
       "Test       25722\n",
       "Control    17505\n",
       "Unknown    17332\n",
       "Name: count, dtype: int64"
      ]
     },
     "execution_count": 31,
     "metadata": {},
     "output_type": "execute_result"
    }
   ],
   "source": [
    "# these are just raw counts \n",
    "df_confirm['Variation'].value_counts()"
   ]
  },
  {
   "cell_type": "markdown",
   "metadata": {},
   "source": [
    "Completion rate per client"
   ]
  },
  {
   "cell_type": "code",
   "execution_count": 32,
   "metadata": {},
   "outputs": [
    {
     "data": {
      "text/plain": [
       "Variation\n",
       "Test       0.390941\n",
       "Control    0.322887\n",
       "Unknown    0.286172\n",
       "Name: proportion, dtype: float64"
      ]
     },
     "execution_count": 32,
     "metadata": {},
     "output_type": "execute_result"
    }
   ],
   "source": [
    "# Dropping here any client ids that are duplicated \n",
    "df_confirm_unique = df_confirm.drop_duplicates(subset=['client_id'])\n",
    "df_confirm_unique['Variation'].value_counts(normalize=True)"
   ]
  },
  {
   "cell_type": "markdown",
   "metadata": {},
   "source": []
  },
  {
   "cell_type": "markdown",
   "metadata": {},
   "source": [
    "### Plots "
   ]
  },
  {
   "cell_type": "code",
   "execution_count": 33,
   "metadata": {},
   "outputs": [],
   "source": [
    "def plot_funnel_analysis(df_web_ec):\n",
    "    '''\n",
    "    Plots funnel charts and drop-off percentages for Control vs Test groups.\n",
    "    '''\n",
    "    # Step 1: Counting process steps per group\n",
    "    step_counts = df_web_ec.groupby(['Variation', 'process_step']).size().unstack().fillna(0)\n",
    "\n",
    "    # Step 2: Plot funnel steps\n",
    "    step_counts.T.plot(kind='bar', figsize=(10, 6))\n",
    "    plt.title(\"Number of Clients at Each Process Step\")\n",
    "    plt.xlabel(\"Process Step\")\n",
    "    plt.ylabel(\"Number of Clients\")\n",
    "    plt.xticks(rotation=0)\n",
    "    plt.legend(title=\"Group\")\n",
    "    plt.tight_layout()\n",
    "    plt.show()\n",
    "\n",
    "    # Step 3: Calculate drop-off percentages\n",
    "    dropoff = step_counts.copy()\n",
    "    steps = step_counts.columns.tolist()\n",
    "    for i in range(1, len(steps)):\n",
    "        prev_col = steps[i - 1]\n",
    "        curr_col = steps[i]\n",
    "        dropoff[curr_col] = 1 - (step_counts[curr_col] / step_counts[prev_col])\n",
    "\n",
    "    # Step 4: Plot drop-off %\n",
    "    (dropoff.drop(columns=[steps[0]]).T * 100).plot(kind='bar', figsize=(10, 6))\n",
    "    plt.title(\"Drop-off Percentage Between Steps\")\n",
    "    plt.xlabel(\"Process Step\")\n",
    "    plt.ylabel(\"Drop-off (%)\")\n",
    "    plt.xticks(rotation=0)\n",
    "    plt.legend(title=\"Group\")\n",
    "    plt.tight_layout()\n",
    "    plt.show()\n",
    "   "
   ]
  },
  {
   "cell_type": "code",
   "execution_count": 34,
   "metadata": {},
   "outputs": [
    {
     "data": {
      "image/png": "[encoded data removed]",
      "text/plain": [
       "<Figure size 1000x600 with 1 Axes>"
      ]
     },
     "metadata": {},
     "output_type": "display_data"
    },
    {
     "data": {
      "image/png": "[encoded data removed]",
      "text/plain": [
       "<Figure size 1000x600 with 1 Axes>"
      ]
     },
     "metadata": {},
     "output_type": "display_data"
    }
   ],
   "source": [
    "plot_funnel_analysis(df_web_ec)"
   ]
  },
  {
   "cell_type": "code",
   "execution_count": 35,
   "metadata": {},
   "outputs": [],
   "source": [
    "# Converting date_time to datetime object\n",
    "df_web_ec['date_time'] = pd.to_datetime(df_web_ec['date_time'])\n",
    "\n",
    "# Sorting by client, visit and time.\n",
    "df_web_ec = df_web_ec.sort_values(by=['client_id', 'visit_id', 'date_time'])"
   ]
  },
  {
   "cell_type": "code",
   "execution_count": 36,
   "metadata": {},
   "outputs": [],
   "source": [
    "# Saving the dataset to a csv file\n",
    "df_web_ec.to_csv('Datasets/Datasets_clean/df_web_ec.csv', index=False)"
   ]
  },
  {
   "cell_type": "code",
   "execution_count": 37,
   "metadata": {},
   "outputs": [
    {
     "data": {
      "text/html": [
       "<div>\n",
       "<style scoped>\n",
       "    .dataframe tbody tr th:only-of-type {\n",
       "        vertical-align: middle;\n",
       "    }\n",
       "\n",
       "    .dataframe tbody tr th {\n",
       "        vertical-align: top;\n",
       "    }\n",
       "\n",
       "    .dataframe thead th {\n",
       "        text-align: right;\n",
       "    }\n",
       "</style>\n",
       "<table border=\"1\" class=\"dataframe\">\n",
       "  <thead>\n",
       "    <tr style=\"text-align: right;\">\n",
       "      <th></th>\n",
       "      <th>client_id</th>\n",
       "      <th>visitor_id</th>\n",
       "      <th>visit_id</th>\n",
       "      <th>process_step</th>\n",
       "      <th>date_time</th>\n",
       "      <th>Variation</th>\n",
       "    </tr>\n",
       "  </thead>\n",
       "  <tbody>\n",
       "    <tr>\n",
       "      <th>374121</th>\n",
       "      <td>169</td>\n",
       "      <td>201385055_71273495308</td>\n",
       "      <td>749567106_99161211863_557568</td>\n",
       "      <td>start</td>\n",
       "      <td>2017-04-12 20:19:36</td>\n",
       "      <td>Unknown</td>\n",
       "    </tr>\n",
       "    <tr>\n",
       "      <th>374120</th>\n",
       "      <td>169</td>\n",
       "      <td>201385055_71273495308</td>\n",
       "      <td>749567106_99161211863_557568</td>\n",
       "      <td>step_1</td>\n",
       "      <td>2017-04-12 20:19:45</td>\n",
       "      <td>Unknown</td>\n",
       "    </tr>\n",
       "    <tr>\n",
       "      <th>374119</th>\n",
       "      <td>169</td>\n",
       "      <td>201385055_71273495308</td>\n",
       "      <td>749567106_99161211863_557568</td>\n",
       "      <td>step_2</td>\n",
       "      <td>2017-04-12 20:20:31</td>\n",
       "      <td>Unknown</td>\n",
       "    </tr>\n",
       "    <tr>\n",
       "      <th>374118</th>\n",
       "      <td>169</td>\n",
       "      <td>201385055_71273495308</td>\n",
       "      <td>749567106_99161211863_557568</td>\n",
       "      <td>step_3</td>\n",
       "      <td>2017-04-12 20:22:05</td>\n",
       "      <td>Unknown</td>\n",
       "    </tr>\n",
       "    <tr>\n",
       "      <th>374117</th>\n",
       "      <td>169</td>\n",
       "      <td>201385055_71273495308</td>\n",
       "      <td>749567106_99161211863_557568</td>\n",
       "      <td>confirm</td>\n",
       "      <td>2017-04-12 20:23:09</td>\n",
       "      <td>Unknown</td>\n",
       "    </tr>\n",
       "    <tr>\n",
       "      <th>...</th>\n",
       "      <td>...</td>\n",
       "      <td>...</td>\n",
       "      <td>...</td>\n",
       "      <td>...</td>\n",
       "      <td>...</td>\n",
       "      <td>...</td>\n",
       "    </tr>\n",
       "    <tr>\n",
       "      <th>359300</th>\n",
       "      <td>9999839</td>\n",
       "      <td>948322592_28990736246</td>\n",
       "      <td>715530422_68620416793_515645</td>\n",
       "      <td>start</td>\n",
       "      <td>2017-03-29 12:11:32</td>\n",
       "      <td>Unknown</td>\n",
       "    </tr>\n",
       "    <tr>\n",
       "      <th>359299</th>\n",
       "      <td>9999839</td>\n",
       "      <td>948322592_28990736246</td>\n",
       "      <td>715530422_68620416793_515645</td>\n",
       "      <td>step_1</td>\n",
       "      <td>2017-03-29 12:11:35</td>\n",
       "      <td>Unknown</td>\n",
       "    </tr>\n",
       "    <tr>\n",
       "      <th>359298</th>\n",
       "      <td>9999839</td>\n",
       "      <td>948322592_28990736246</td>\n",
       "      <td>715530422_68620416793_515645</td>\n",
       "      <td>step_2</td>\n",
       "      <td>2017-03-29 12:11:50</td>\n",
       "      <td>Unknown</td>\n",
       "    </tr>\n",
       "    <tr>\n",
       "      <th>359297</th>\n",
       "      <td>9999839</td>\n",
       "      <td>948322592_28990736246</td>\n",
       "      <td>715530422_68620416793_515645</td>\n",
       "      <td>step_3</td>\n",
       "      <td>2017-03-29 12:12:28</td>\n",
       "      <td>Unknown</td>\n",
       "    </tr>\n",
       "    <tr>\n",
       "      <th>359296</th>\n",
       "      <td>9999839</td>\n",
       "      <td>948322592_28990736246</td>\n",
       "      <td>715530422_68620416793_515645</td>\n",
       "      <td>confirm</td>\n",
       "      <td>2017-03-29 12:13:03</td>\n",
       "      <td>Unknown</td>\n",
       "    </tr>\n",
       "  </tbody>\n",
       "</table>\n",
       "<p>449831 rows × 6 columns</p>\n",
       "</div>"
      ],
      "text/plain": [
       "        client_id             visitor_id                      visit_id  \\\n",
       "374121        169  201385055_71273495308  749567106_99161211863_557568   \n",
       "374120        169  201385055_71273495308  749567106_99161211863_557568   \n",
       "374119        169  201385055_71273495308  749567106_99161211863_557568   \n",
       "374118        169  201385055_71273495308  749567106_99161211863_557568   \n",
       "374117        169  201385055_71273495308  749567106_99161211863_557568   \n",
       "...           ...                    ...                           ...   \n",
       "359300    9999839  948322592_28990736246  715530422_68620416793_515645   \n",
       "359299    9999839  948322592_28990736246  715530422_68620416793_515645   \n",
       "359298    9999839  948322592_28990736246  715530422_68620416793_515645   \n",
       "359297    9999839  948322592_28990736246  715530422_68620416793_515645   \n",
       "359296    9999839  948322592_28990736246  715530422_68620416793_515645   \n",
       "\n",
       "       process_step           date_time Variation  \n",
       "374121        start 2017-04-12 20:19:36   Unknown  \n",
       "374120       step_1 2017-04-12 20:19:45   Unknown  \n",
       "374119       step_2 2017-04-12 20:20:31   Unknown  \n",
       "374118       step_3 2017-04-12 20:22:05   Unknown  \n",
       "374117      confirm 2017-04-12 20:23:09   Unknown  \n",
       "...             ...                 ...       ...  \n",
       "359300        start 2017-03-29 12:11:32   Unknown  \n",
       "359299       step_1 2017-03-29 12:11:35   Unknown  \n",
       "359298       step_2 2017-03-29 12:11:50   Unknown  \n",
       "359297       step_3 2017-03-29 12:12:28   Unknown  \n",
       "359296      confirm 2017-03-29 12:13:03   Unknown  \n",
       "\n",
       "[449831 rows x 6 columns]"
      ]
     },
     "execution_count": 37,
     "metadata": {},
     "output_type": "execute_result"
    }
   ],
   "source": [
    "df_web_ec"
   ]
  },
  {
   "cell_type": "code",
   "execution_count": 39,
   "metadata": {},
   "outputs": [
    {
     "name": "stdout",
     "output_type": "stream",
     "text": [
      "(449831, 6)\n",
      "        client_id             visitor_id                      visit_id  \\\n",
      "374121        169  201385055_71273495308  749567106_99161211863_557568   \n",
      "374120        169  201385055_71273495308  749567106_99161211863_557568   \n",
      "374119        169  201385055_71273495308  749567106_99161211863_557568   \n",
      "374118        169  201385055_71273495308  749567106_99161211863_557568   \n",
      "374117        169  201385055_71273495308  749567106_99161211863_557568   \n",
      "\n",
      "       process_step           date_time Variation  \n",
      "374121        start 2017-04-12 20:19:36   Unknown  \n",
      "374120       step_1 2017-04-12 20:19:45   Unknown  \n",
      "374119       step_2 2017-04-12 20:20:31   Unknown  \n",
      "374118       step_3 2017-04-12 20:22:05   Unknown  \n",
      "374117      confirm 2017-04-12 20:23:09   Unknown  \n",
      "client_id       0\n",
      "visitor_id      0\n",
      "visit_id        0\n",
      "process_step    0\n",
      "date_time       0\n",
      "Variation       0\n",
      "dtype: int64\n"
     ]
    }
   ],
   "source": [
    "print(df_web_ec.shape) # number of rows and columns\n",
    "print(df_web_ec.head()) # first 5 rows\n",
    "print(df_web_ec.isnull().sum()) # number of missing values in each column"
   ]
  },
  {
   "cell_type": "code",
   "execution_count": 48,
   "metadata": {},
   "outputs": [
    {
     "name": "stdout",
     "output_type": "stream",
     "text": [
      "['client_id', 'visitor_id', 'visit_id', 'process_step', 'date_time', 'Variation']\n"
     ]
    }
   ],
   "source": [
    "print(df_web_ec.columns.tolist())"
   ]
  },
  {
   "cell_type": "code",
   "execution_count": 49,
   "metadata": {},
   "outputs": [
    {
     "name": "stdout",
     "output_type": "stream",
     "text": [
      "Total duplicated rows: 5934\n"
     ]
    }
   ],
   "source": [
    "# Checking for duplicates\n",
    "duplicates = df_web_ec[df_web_ec.duplicated()]\n",
    "print(\"Total duplicated rows:\", len(duplicates))"
   ]
  },
  {
   "cell_type": "code",
   "execution_count": 78,
   "metadata": {},
   "outputs": [],
   "source": [
    "def remove_duplicates(df):\n",
    "    '''REMOVING DUPLICATES, 'start' and 'confirm' steps, only keeping the last each visit'''\n",
    "\n",
    "    df = df_web_ec.copy()\n",
    "\n",
    "    df_not_started = df[df['process_step'] != 'start']\n",
    "    filter_start = df[df['process_step'] == 'start'].drop_duplicates(subset=['visit_id'], keep='last')\n",
    "    df = pd.concat([df_not_started, filter_start])\n",
    "    df = df.sort_values(by=['client_id', 'visit_id', 'date_time'])\n",
    "\n",
    "    not_confirm_df = df[df['process_step'] != 'confirm']\n",
    "    filter_confirm = df[df['process_step'] == 'confirm'].drop_duplicates(subset=['visit_id'], keep='last')\n",
    "\n",
    "    df = pd.concat([not_confirm_df, filter_confirm])\n",
    "    df = df.sort_values(by=['client_id', 'visit_id', 'date_time'])\n",
    "    return(df)"
   ]
  },
  {
   "cell_type": "code",
   "execution_count": 79,
   "metadata": {},
   "outputs": [
    {
     "data": {
      "text/html": [
       "<div>\n",
       "<style scoped>\n",
       "    .dataframe tbody tr th:only-of-type {\n",
       "        vertical-align: middle;\n",
       "    }\n",
       "\n",
       "    .dataframe tbody tr th {\n",
       "        vertical-align: top;\n",
       "    }\n",
       "\n",
       "    .dataframe thead th {\n",
       "        text-align: right;\n",
       "    }\n",
       "</style>\n",
       "<table border=\"1\" class=\"dataframe\">\n",
       "  <thead>\n",
       "    <tr style=\"text-align: right;\">\n",
       "      <th></th>\n",
       "      <th>client_id</th>\n",
       "      <th>visitor_id</th>\n",
       "      <th>visit_id</th>\n",
       "      <th>process_step</th>\n",
       "      <th>date_time</th>\n",
       "      <th>Variation</th>\n",
       "    </tr>\n",
       "  </thead>\n",
       "  <tbody>\n",
       "    <tr>\n",
       "      <th>374121</th>\n",
       "      <td>169</td>\n",
       "      <td>201385055_71273495308</td>\n",
       "      <td>749567106_99161211863_557568</td>\n",
       "      <td>start</td>\n",
       "      <td>2017-04-12 20:19:36</td>\n",
       "      <td>Unknown</td>\n",
       "    </tr>\n",
       "    <tr>\n",
       "      <th>374120</th>\n",
       "      <td>169</td>\n",
       "      <td>201385055_71273495308</td>\n",
       "      <td>749567106_99161211863_557568</td>\n",
       "      <td>step_1</td>\n",
       "      <td>2017-04-12 20:19:45</td>\n",
       "      <td>Unknown</td>\n",
       "    </tr>\n",
       "    <tr>\n",
       "      <th>374119</th>\n",
       "      <td>169</td>\n",
       "      <td>201385055_71273495308</td>\n",
       "      <td>749567106_99161211863_557568</td>\n",
       "      <td>step_2</td>\n",
       "      <td>2017-04-12 20:20:31</td>\n",
       "      <td>Unknown</td>\n",
       "    </tr>\n",
       "    <tr>\n",
       "      <th>374118</th>\n",
       "      <td>169</td>\n",
       "      <td>201385055_71273495308</td>\n",
       "      <td>749567106_99161211863_557568</td>\n",
       "      <td>step_3</td>\n",
       "      <td>2017-04-12 20:22:05</td>\n",
       "      <td>Unknown</td>\n",
       "    </tr>\n",
       "    <tr>\n",
       "      <th>374117</th>\n",
       "      <td>169</td>\n",
       "      <td>201385055_71273495308</td>\n",
       "      <td>749567106_99161211863_557568</td>\n",
       "      <td>confirm</td>\n",
       "      <td>2017-04-12 20:23:09</td>\n",
       "      <td>Unknown</td>\n",
       "    </tr>\n",
       "    <tr>\n",
       "      <th>...</th>\n",
       "      <td>...</td>\n",
       "      <td>...</td>\n",
       "      <td>...</td>\n",
       "      <td>...</td>\n",
       "      <td>...</td>\n",
       "      <td>...</td>\n",
       "    </tr>\n",
       "    <tr>\n",
       "      <th>359300</th>\n",
       "      <td>9999839</td>\n",
       "      <td>948322592_28990736246</td>\n",
       "      <td>715530422_68620416793_515645</td>\n",
       "      <td>start</td>\n",
       "      <td>2017-03-29 12:11:32</td>\n",
       "      <td>Unknown</td>\n",
       "    </tr>\n",
       "    <tr>\n",
       "      <th>359299</th>\n",
       "      <td>9999839</td>\n",
       "      <td>948322592_28990736246</td>\n",
       "      <td>715530422_68620416793_515645</td>\n",
       "      <td>step_1</td>\n",
       "      <td>2017-03-29 12:11:35</td>\n",
       "      <td>Unknown</td>\n",
       "    </tr>\n",
       "    <tr>\n",
       "      <th>359298</th>\n",
       "      <td>9999839</td>\n",
       "      <td>948322592_28990736246</td>\n",
       "      <td>715530422_68620416793_515645</td>\n",
       "      <td>step_2</td>\n",
       "      <td>2017-03-29 12:11:50</td>\n",
       "      <td>Unknown</td>\n",
       "    </tr>\n",
       "    <tr>\n",
       "      <th>359297</th>\n",
       "      <td>9999839</td>\n",
       "      <td>948322592_28990736246</td>\n",
       "      <td>715530422_68620416793_515645</td>\n",
       "      <td>step_3</td>\n",
       "      <td>2017-03-29 12:12:28</td>\n",
       "      <td>Unknown</td>\n",
       "    </tr>\n",
       "    <tr>\n",
       "      <th>359296</th>\n",
       "      <td>9999839</td>\n",
       "      <td>948322592_28990736246</td>\n",
       "      <td>715530422_68620416793_515645</td>\n",
       "      <td>confirm</td>\n",
       "      <td>2017-03-29 12:13:03</td>\n",
       "      <td>Unknown</td>\n",
       "    </tr>\n",
       "  </tbody>\n",
       "</table>\n",
       "<p>385779 rows × 6 columns</p>\n",
       "</div>"
      ],
      "text/plain": [
       "        client_id             visitor_id                      visit_id  \\\n",
       "374121        169  201385055_71273495308  749567106_99161211863_557568   \n",
       "374120        169  201385055_71273495308  749567106_99161211863_557568   \n",
       "374119        169  201385055_71273495308  749567106_99161211863_557568   \n",
       "374118        169  201385055_71273495308  749567106_99161211863_557568   \n",
       "374117        169  201385055_71273495308  749567106_99161211863_557568   \n",
       "...           ...                    ...                           ...   \n",
       "359300    9999839  948322592_28990736246  715530422_68620416793_515645   \n",
       "359299    9999839  948322592_28990736246  715530422_68620416793_515645   \n",
       "359298    9999839  948322592_28990736246  715530422_68620416793_515645   \n",
       "359297    9999839  948322592_28990736246  715530422_68620416793_515645   \n",
       "359296    9999839  948322592_28990736246  715530422_68620416793_515645   \n",
       "\n",
       "       process_step           date_time Variation  \n",
       "374121        start 2017-04-12 20:19:36   Unknown  \n",
       "374120       step_1 2017-04-12 20:19:45   Unknown  \n",
       "374119       step_2 2017-04-12 20:20:31   Unknown  \n",
       "374118       step_3 2017-04-12 20:22:05   Unknown  \n",
       "374117      confirm 2017-04-12 20:23:09   Unknown  \n",
       "...             ...                 ...       ...  \n",
       "359300        start 2017-03-29 12:11:32   Unknown  \n",
       "359299       step_1 2017-03-29 12:11:35   Unknown  \n",
       "359298       step_2 2017-03-29 12:11:50   Unknown  \n",
       "359297       step_3 2017-03-29 12:12:28   Unknown  \n",
       "359296      confirm 2017-03-29 12:13:03   Unknown  \n",
       "\n",
       "[385779 rows x 6 columns]"
      ]
     },
     "execution_count": 79,
     "metadata": {},
     "output_type": "execute_result"
    }
   ],
   "source": [
    "df_web_ec_cleaned = remove_duplicates(df_web_ec)\n",
    "df_web_ec_cleaned"
   ]
  },
  {
   "cell_type": "code",
   "execution_count": 80,
   "metadata": {},
   "outputs": [
    {
     "name": "stdout",
     "output_type": "stream",
     "text": [
      "Total duplicated rows: 5934\n"
     ]
    }
   ],
   "source": [
    "# Reviewing the df for duplicates\n",
    "duplicates2 = df[df.duplicated()]\n",
    "print(\"Total duplicated rows:\", len(duplicates))"
   ]
  },
  {
   "cell_type": "code",
   "execution_count": 83,
   "metadata": {},
   "outputs": [],
   "source": [
    "# Saving the dataset to a csv file\n",
    "df_web_ec_cleaned.to_csv('Datasets/Datasets_clean/df_web_ec_cleaned.csv', index=False)"
   ]
  },
  {
   "cell_type": "markdown",
   "metadata": {},
   "source": [
    "Checking df_demo dataset"
   ]
  },
  {
   "cell_type": "code",
   "execution_count": 69,
   "metadata": {},
   "outputs": [
    {
     "name": "stdout",
     "output_type": "stream",
     "text": [
      "<class 'pandas.core.frame.DataFrame'>\n",
      "RangeIndex: 70609 entries, 0 to 70608\n",
      "Data columns (total 9 columns):\n",
      " #   Column            Non-Null Count  Dtype  \n",
      "---  ------            --------------  -----  \n",
      " 0   client_id         70609 non-null  int64  \n",
      " 1   clnt_tenure_yr    70595 non-null  float64\n",
      " 2   clnt_tenure_mnth  70595 non-null  float64\n",
      " 3   clnt_age          70594 non-null  float64\n",
      " 4   gendr             70595 non-null  object \n",
      " 5   num_accts         70595 non-null  float64\n",
      " 6   bal               70595 non-null  float64\n",
      " 7   calls_6_mnth      70595 non-null  float64\n",
      " 8   logons_6_mnth     70595 non-null  float64\n",
      "dtypes: float64(7), int64(1), object(1)\n",
      "memory usage: 4.8+ MB\n"
     ]
    },
    {
     "data": {
      "text/html": [
       "<div>\n",
       "<style scoped>\n",
       "    .dataframe tbody tr th:only-of-type {\n",
       "        vertical-align: middle;\n",
       "    }\n",
       "\n",
       "    .dataframe tbody tr th {\n",
       "        vertical-align: top;\n",
       "    }\n",
       "\n",
       "    .dataframe thead th {\n",
       "        text-align: right;\n",
       "    }\n",
       "</style>\n",
       "<table border=\"1\" class=\"dataframe\">\n",
       "  <thead>\n",
       "    <tr style=\"text-align: right;\">\n",
       "      <th></th>\n",
       "      <th>client_id</th>\n",
       "      <th>clnt_tenure_yr</th>\n",
       "      <th>clnt_tenure_mnth</th>\n",
       "      <th>clnt_age</th>\n",
       "      <th>gendr</th>\n",
       "      <th>num_accts</th>\n",
       "      <th>bal</th>\n",
       "      <th>calls_6_mnth</th>\n",
       "      <th>logons_6_mnth</th>\n",
       "    </tr>\n",
       "  </thead>\n",
       "  <tbody>\n",
       "    <tr>\n",
       "      <th>0</th>\n",
       "      <td>836976</td>\n",
       "      <td>6.0</td>\n",
       "      <td>73.0</td>\n",
       "      <td>60.5</td>\n",
       "      <td>U</td>\n",
       "      <td>2.0</td>\n",
       "      <td>45105.30</td>\n",
       "      <td>6.0</td>\n",
       "      <td>9.0</td>\n",
       "    </tr>\n",
       "    <tr>\n",
       "      <th>1</th>\n",
       "      <td>2304905</td>\n",
       "      <td>7.0</td>\n",
       "      <td>94.0</td>\n",
       "      <td>58.0</td>\n",
       "      <td>U</td>\n",
       "      <td>2.0</td>\n",
       "      <td>110860.30</td>\n",
       "      <td>6.0</td>\n",
       "      <td>9.0</td>\n",
       "    </tr>\n",
       "    <tr>\n",
       "      <th>2</th>\n",
       "      <td>1439522</td>\n",
       "      <td>5.0</td>\n",
       "      <td>64.0</td>\n",
       "      <td>32.0</td>\n",
       "      <td>U</td>\n",
       "      <td>2.0</td>\n",
       "      <td>52467.79</td>\n",
       "      <td>6.0</td>\n",
       "      <td>9.0</td>\n",
       "    </tr>\n",
       "    <tr>\n",
       "      <th>3</th>\n",
       "      <td>1562045</td>\n",
       "      <td>16.0</td>\n",
       "      <td>198.0</td>\n",
       "      <td>49.0</td>\n",
       "      <td>M</td>\n",
       "      <td>2.0</td>\n",
       "      <td>67454.65</td>\n",
       "      <td>3.0</td>\n",
       "      <td>6.0</td>\n",
       "    </tr>\n",
       "    <tr>\n",
       "      <th>4</th>\n",
       "      <td>5126305</td>\n",
       "      <td>12.0</td>\n",
       "      <td>145.0</td>\n",
       "      <td>33.0</td>\n",
       "      <td>F</td>\n",
       "      <td>2.0</td>\n",
       "      <td>103671.75</td>\n",
       "      <td>0.0</td>\n",
       "      <td>3.0</td>\n",
       "    </tr>\n",
       "  </tbody>\n",
       "</table>\n",
       "</div>"
      ],
      "text/plain": [
       "   client_id  clnt_tenure_yr  clnt_tenure_mnth  clnt_age gendr  num_accts  \\\n",
       "0     836976             6.0              73.0      60.5     U        2.0   \n",
       "1    2304905             7.0              94.0      58.0     U        2.0   \n",
       "2    1439522             5.0              64.0      32.0     U        2.0   \n",
       "3    1562045            16.0             198.0      49.0     M        2.0   \n",
       "4    5126305            12.0             145.0      33.0     F        2.0   \n",
       "\n",
       "         bal  calls_6_mnth  logons_6_mnth  \n",
       "0   45105.30           6.0            9.0  \n",
       "1  110860.30           6.0            9.0  \n",
       "2   52467.79           6.0            9.0  \n",
       "3   67454.65           3.0            6.0  \n",
       "4  103671.75           0.0            3.0  "
      ]
     },
     "execution_count": 69,
     "metadata": {},
     "output_type": "execute_result"
    }
   ],
   "source": [
    "df_demo.info()\n",
    "df_demo.head()"
   ]
  },
  {
   "cell_type": "code",
   "execution_count": null,
   "metadata": {},
   "outputs": [
    {
     "name": "stdout",
     "output_type": "stream",
     "text": [
      "        client_id           date_time\n",
      "46460     7179755 2017-03-15 00:19:28\n",
      "104052    4192640 2017-03-15 00:44:38\n",
      "137482    6752370 2017-03-15 05:43:13\n",
      "274114    9584408 2017-03-15 06:14:28\n",
      "228151    2685910 2017-03-15 07:13:47\n",
      "...           ...                 ...\n",
      "343771    6506786 2017-06-20 23:28:30\n",
      "324228    6868690 2017-06-20 23:32:41\n",
      "337003    2142847 2017-06-20 23:35:24\n",
      "432569    8295888 2017-06-20 23:43:06\n",
      "195002    6187864 2017-06-20 23:56:17\n",
      "\n",
      "[89374 rows x 2 columns]\n"
     ]
    }
   ],
   "source": [
    "#Who are the primary clients using this online process?\n",
    "\n",
    "# Filter for rows where process_step is 'start'\n",
    "df_start = df_web_ec_cleaned[df_web_ec_cleaned['process_step'].str.lower() == 'start']\n",
    "\n",
    "# Sort the result by date_time in ascending order\n",
    "df_sorted = df_start.sort_values(by='date_time', ascending=True)\n",
    "\n",
    "# Display only client_id and date_time (optional: include more columns if needed)\n",
    "result = df_sorted[['client_id', 'date_time']]\n",
    "\n",
    "print(result)"
   ]
  },
  {
   "cell_type": "code",
   "execution_count": 82,
   "metadata": {},
   "outputs": [],
   "source": [
    "# Save to CSV\n",
    "result.to_csv('Datasets/Datasets_clean/clients_started_process.csv', index=False)"
   ]
  },
  {
   "cell_type": "code",
   "execution_count": 86,
   "metadata": {},
   "outputs": [],
   "source": [
    "#Are the primary clients younger or older, new or long-standing?\n",
    "\n",
    "# Merge df start with df demo dataset on 'client_id'\n",
    "df_merged = pd.merge(df_start, df_demo[['client_id', 'clnt_tenure_mnth', 'clnt_age']], on='client_id', how='left')\n",
    "\n",
    "# Save the final DataFrame\n",
    "df_merged.to_csv('Datasets/Datasets_clean/clients_started_process_enriched.csv', index=False)"
   ]
  },
  {
   "cell_type": "code",
   "execution_count": 87,
   "metadata": {},
   "outputs": [
    {
     "data": {
      "text/html": [
       "<div>\n",
       "<style scoped>\n",
       "    .dataframe tbody tr th:only-of-type {\n",
       "        vertical-align: middle;\n",
       "    }\n",
       "\n",
       "    .dataframe tbody tr th {\n",
       "        vertical-align: top;\n",
       "    }\n",
       "\n",
       "    .dataframe thead th {\n",
       "        text-align: right;\n",
       "    }\n",
       "</style>\n",
       "<table border=\"1\" class=\"dataframe\">\n",
       "  <thead>\n",
       "    <tr style=\"text-align: right;\">\n",
       "      <th></th>\n",
       "      <th>client_id</th>\n",
       "      <th>visitor_id</th>\n",
       "      <th>visit_id</th>\n",
       "      <th>process_step</th>\n",
       "      <th>date_time</th>\n",
       "      <th>Variation</th>\n",
       "      <th>clnt_tenure_mnth</th>\n",
       "      <th>clnt_age</th>\n",
       "    </tr>\n",
       "  </thead>\n",
       "  <tbody>\n",
       "    <tr>\n",
       "      <th>0</th>\n",
       "      <td>169</td>\n",
       "      <td>201385055_71273495308</td>\n",
       "      <td>749567106_99161211863_557568</td>\n",
       "      <td>start</td>\n",
       "      <td>2017-04-12 20:19:36</td>\n",
       "      <td>Unknown</td>\n",
       "      <td>262.0</td>\n",
       "      <td>47.5</td>\n",
       "    </tr>\n",
       "    <tr>\n",
       "      <th>1</th>\n",
       "      <td>555</td>\n",
       "      <td>402506806_56087378777</td>\n",
       "      <td>637149525_38041617439_716659</td>\n",
       "      <td>start</td>\n",
       "      <td>2017-04-15 12:57:56</td>\n",
       "      <td>Test</td>\n",
       "      <td>46.0</td>\n",
       "      <td>29.5</td>\n",
       "    </tr>\n",
       "    <tr>\n",
       "      <th>2</th>\n",
       "      <td>647</td>\n",
       "      <td>66758770_53988066587</td>\n",
       "      <td>40369564_40101682850_311847</td>\n",
       "      <td>start</td>\n",
       "      <td>2017-04-12 15:41:28</td>\n",
       "      <td>Test</td>\n",
       "      <td>151.0</td>\n",
       "      <td>57.5</td>\n",
       "    </tr>\n",
       "    <tr>\n",
       "      <th>3</th>\n",
       "      <td>722</td>\n",
       "      <td>919259913_64837298108</td>\n",
       "      <td>984487154_55831795985_521110</td>\n",
       "      <td>start</td>\n",
       "      <td>2017-04-19 14:56:16</td>\n",
       "      <td>Unknown</td>\n",
       "      <td>143.0</td>\n",
       "      <td>59.5</td>\n",
       "    </tr>\n",
       "    <tr>\n",
       "      <th>4</th>\n",
       "      <td>934</td>\n",
       "      <td>810392784_45004760546</td>\n",
       "      <td>7076463_57954418406_971348</td>\n",
       "      <td>start</td>\n",
       "      <td>2017-04-18 02:38:52</td>\n",
       "      <td>Test</td>\n",
       "      <td>109.0</td>\n",
       "      <td>51.0</td>\n",
       "    </tr>\n",
       "  </tbody>\n",
       "</table>\n",
       "</div>"
      ],
      "text/plain": [
       "   client_id             visitor_id                      visit_id  \\\n",
       "0        169  201385055_71273495308  749567106_99161211863_557568   \n",
       "1        555  402506806_56087378777  637149525_38041617439_716659   \n",
       "2        647   66758770_53988066587   40369564_40101682850_311847   \n",
       "3        722  919259913_64837298108  984487154_55831795985_521110   \n",
       "4        934  810392784_45004760546    7076463_57954418406_971348   \n",
       "\n",
       "  process_step           date_time Variation  clnt_tenure_mnth  clnt_age  \n",
       "0        start 2017-04-12 20:19:36   Unknown             262.0      47.5  \n",
       "1        start 2017-04-15 12:57:56      Test              46.0      29.5  \n",
       "2        start 2017-04-12 15:41:28      Test             151.0      57.5  \n",
       "3        start 2017-04-19 14:56:16   Unknown             143.0      59.5  \n",
       "4        start 2017-04-18 02:38:52      Test             109.0      51.0  "
      ]
     },
     "execution_count": 87,
     "metadata": {},
     "output_type": "execute_result"
    }
   ],
   "source": [
    "df_merged.head() # reviewing dataset"
   ]
  },
  {
   "cell_type": "code",
   "execution_count": null,
   "metadata": {},
   "outputs": [],
   "source": [
    "# Sheryll: Note for Ngoc: I understand that you want to save a merged file as a CSV file, however you save and load it again and assigned it to another name/variable. This can be a bit confusing. I will come back to it later :)!\n",
    "\n",
    "# Load the enriched DataFrame\n",
    "df_enriched = pd.read_csv('Datasets/Datasets_clean/clients_started_process_enriched.csv')\n",
    "\n",
    "# Sort by 'clnt_tenure_mnth' in descending order\n",
    "df_sorted = df_enriched.sort_values(by='clnt_tenure_mnth', ascending=False)\n",
    "\n",
    "# Save the sorted DataFrame\n",
    "df_sorted.to_csv('Datasets/Datasets_clean/clients_started_process_enriched_sorted.csv', index=False)"
   ]
  },
  {
   "cell_type": "code",
   "execution_count": 90,
   "metadata": {},
   "outputs": [
    {
     "data": {
      "text/html": [
       "<div>\n",
       "<style scoped>\n",
       "    .dataframe tbody tr th:only-of-type {\n",
       "        vertical-align: middle;\n",
       "    }\n",
       "\n",
       "    .dataframe tbody tr th {\n",
       "        vertical-align: top;\n",
       "    }\n",
       "\n",
       "    .dataframe thead th {\n",
       "        text-align: right;\n",
       "    }\n",
       "</style>\n",
       "<table border=\"1\" class=\"dataframe\">\n",
       "  <thead>\n",
       "    <tr style=\"text-align: right;\">\n",
       "      <th></th>\n",
       "      <th>client_id</th>\n",
       "      <th>visitor_id</th>\n",
       "      <th>visit_id</th>\n",
       "      <th>process_step</th>\n",
       "      <th>date_time</th>\n",
       "      <th>Variation</th>\n",
       "      <th>clnt_tenure_mnth</th>\n",
       "      <th>clnt_age</th>\n",
       "    </tr>\n",
       "  </thead>\n",
       "  <tbody>\n",
       "    <tr>\n",
       "      <th>3192</th>\n",
       "      <td>357409</td>\n",
       "      <td>826509458_28745073474</td>\n",
       "      <td>399749366_24763006111_647108</td>\n",
       "      <td>start</td>\n",
       "      <td>2017-04-05 01:06:00</td>\n",
       "      <td>Unknown</td>\n",
       "      <td>749.0</td>\n",
       "      <td>51.0</td>\n",
       "    </tr>\n",
       "    <tr>\n",
       "      <th>42963</th>\n",
       "      <td>4833584</td>\n",
       "      <td>664817497_89915440017</td>\n",
       "      <td>288111029_49848759959_718269</td>\n",
       "      <td>start</td>\n",
       "      <td>2017-06-05 14:15:29</td>\n",
       "      <td>Test</td>\n",
       "      <td>669.0</td>\n",
       "      <td>45.0</td>\n",
       "    </tr>\n",
       "    <tr>\n",
       "      <th>68205</th>\n",
       "      <td>7616896</td>\n",
       "      <td>59764065_46466538481</td>\n",
       "      <td>524249479_47219925263_798009</td>\n",
       "      <td>start</td>\n",
       "      <td>2017-04-28 13:53:35</td>\n",
       "      <td>Test</td>\n",
       "      <td>669.0</td>\n",
       "      <td>78.0</td>\n",
       "    </tr>\n",
       "    <tr>\n",
       "      <th>28937</th>\n",
       "      <td>3271450</td>\n",
       "      <td>155061895_88062610431</td>\n",
       "      <td>405144771_60698974668_622801</td>\n",
       "      <td>start</td>\n",
       "      <td>2017-04-11 00:35:38</td>\n",
       "      <td>Control</td>\n",
       "      <td>669.0</td>\n",
       "      <td>48.5</td>\n",
       "    </tr>\n",
       "    <tr>\n",
       "      <th>20865</th>\n",
       "      <td>2354035</td>\n",
       "      <td>981506095_92400037513</td>\n",
       "      <td>240777018_82431663855_682209</td>\n",
       "      <td>start</td>\n",
       "      <td>2017-04-21 12:14:03</td>\n",
       "      <td>Control</td>\n",
       "      <td>668.0</td>\n",
       "      <td>72.0</td>\n",
       "    </tr>\n",
       "  </tbody>\n",
       "</table>\n",
       "</div>"
      ],
      "text/plain": [
       "       client_id             visitor_id                      visit_id  \\\n",
       "3192      357409  826509458_28745073474  399749366_24763006111_647108   \n",
       "42963    4833584  664817497_89915440017  288111029_49848759959_718269   \n",
       "68205    7616896   59764065_46466538481  524249479_47219925263_798009   \n",
       "28937    3271450  155061895_88062610431  405144771_60698974668_622801   \n",
       "20865    2354035  981506095_92400037513  240777018_82431663855_682209   \n",
       "\n",
       "      process_step            date_time Variation  clnt_tenure_mnth  clnt_age  \n",
       "3192         start  2017-04-05 01:06:00   Unknown             749.0      51.0  \n",
       "42963        start  2017-06-05 14:15:29      Test             669.0      45.0  \n",
       "68205        start  2017-04-28 13:53:35      Test             669.0      78.0  \n",
       "28937        start  2017-04-11 00:35:38   Control             669.0      48.5  \n",
       "20865        start  2017-04-21 12:14:03   Control             668.0      72.0  "
      ]
     },
     "execution_count": 90,
     "metadata": {},
     "output_type": "execute_result"
    }
   ],
   "source": [
    "df_sorted.head()"
   ]
  },
  {
   "cell_type": "markdown",
   "metadata": {},
   "source": [
    "# Questions\n",
    "\n",
    "**Hypothesis Testing**\n",
    "- Completion Rate: The proportion of users who reach the final ‘confirm’ step.\n",
    "- Time Spent on Each Step: The average duration users spend on each step.\n",
    "- Error Rates: If there’s a step where users go back to a previous step, it may indicate confusion or an error. You should consider moving from a later step to an earlier one as an error.\n",
    "- Based on the chosen KPIs, how does the new design’s performance compare to the old one?\n",
    "\n",
    "- You are required to carry out another analysis, ensuring that the observed increase in completion rate from the A/B test meets or exceeds this 5% threshold.\n",
    "- You might want to test whether the average age of clients engaging with the new process is the same as those engaging with the old process\n",
    "- You might want to test if the average client tenure (how long they’ve been with Vanguard) of those engaging with the new process is the same as those engaging with the old process\n",
    "- You might want to test if there are gender differences that affect engaging with the new or old process\n",
    "\n",
    "**Design Effectiveness**\n",
    "- Was the experiment well-structured?\n",
    "- Were clients randomly and equally divided between the old and new designs?\n",
    "- Were there any biases?\n",
    "\n",
    "**Duration Assessment**\n",
    "- Was the timeframe of the experiment (from 3/15/2017 to 6/20/2017) adequate to gather meaningful data and insights?\n",
    "\n",
    "**Additional Data Needs**\n",
    "- What other data, if available, could enhance the analysis?\n",
    "\n",
    "**Bonus: Additional Tasks (Optional)**\n",
    "\n",
    "Client Behavior Analysis\n",
    "Interaction Patterns:\n",
    "- How do clients navigate through the old versus the new digital process? Do they follow similar steps or diverge at certain points?\n",
    "- Consider another hypothesis. Investigate if there’s a difference in the number of actions (steps) taken by users between the Test and Control groups.\n",
    "\n",
    "Power and Effect Size\n",
    "- Calculate the effect size and post-hoc power for the first test: the new design (Test group) had a higher completion rate compared to the old design (Control group), the hypothesis test checked if this difference was statistically significant.\n",
    "- Let’s assume we are in the phase of designing the experiment for the same hypothesis test. Do Power Analysis to calculate the minimum sample size for an experiment.\n",
    "\n",
    "Streamlit\n",
    "- Add Streamlit to your project to achieve Customization and Real-time Analysis.\n"
   ]
  }
 ],
 "metadata": {
  "kernelspec": {
   "display_name": "base",
   "language": "python",
   "name": "python3"
  },
  "language_info": {
   "codemirror_mode": {
    "name": "ipython",
    "version": 3
   },
   "file_extension": ".py",
   "mimetype": "text/x-python",
   "name": "python",
   "nbconvert_exporter": "python",
   "pygments_lexer": "ipython3",
   "version": "3.12.2"
  }
 },
 "nbformat": 4,
 "nbformat_minor": 2
}
